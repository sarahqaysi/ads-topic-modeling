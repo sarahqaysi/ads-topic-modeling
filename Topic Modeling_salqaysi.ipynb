{
 "cells": [
  {
   "cell_type": "markdown",
   "metadata": {},
   "source": [
    "# ADS 509 Assignment 5.1: Topic Modeling - Sarah Alqaysi\n",
    "\n",
    "This notebook holds Assignment 5.1 for Module 5 in ADS 509, Applied Text Mining. Work through this notebook, writing code and answering questions where required. \n",
    "\n",
    "In this assignment you will work with a categorical corpus that accompanies `nltk`. You will build the three types of topic models described in Chapter 8 of _Blueprints for Text Analytics using Python_: NMF, LSA, and LDA. You will compare these models to the true categories. \n"
   ]
  },
  {
   "cell_type": "markdown",
   "metadata": {},
   "source": [
    "## General Assignment Instructions\n",
    "\n",
    "These instructions are included in every assignment, to remind you of the coding standards for the class. Feel free to delete this cell after reading it. \n",
    "\n",
    "One sign of mature code is conforming to a style guide. We recommend the [Google Python Style Guide](https://google.github.io/styleguide/pyguide.html). If you use a different style guide, please include a cell with a link. \n",
    "\n",
    "Your code should be relatively easy-to-read, sensibly commented, and clean. Writing code is a messy process, so please be sure to edit your final submission. Remove any cells that are not needed or parts of cells that contain unnecessary code. Remove inessential `import` statements and make sure that all such statements are moved into the designated cell. \n",
    "\n",
    "Make use of non-code cells for written commentary. These cells should be grammatical and clearly written. In some of these cells you will have questions to answer. The questions will be marked by a \"Q:\" and will have a corresponding \"A:\" spot for you. *Make sure to answer every question marked with a `Q:` for full credit.* \n"
   ]
  },
  {
   "cell_type": "code",
   "execution_count": 1,
   "metadata": {},
   "outputs": [],
   "source": [
    "# These libraries may be useful to you\n",
    "\n",
    "from nltk.corpus import brown\n",
    "\n",
    "import numpy as np\n",
    "import pandas as pd\n",
    "from tqdm.auto import tqdm\n",
    "\n",
    "#import gensim\n",
    "#import gensim.corpora as corpora\n",
    "#from gensim.utils import simple_preprocess\n",
    "#from gensim.models import CoherenceModel,LdaMulticore, Phrases \n",
    "#from gensim.models.phrases import Phraser \n",
    "#from gensim.corpora import Dictionary\n",
    "\n",
    "import pyLDAvis\n",
    "import pyLDAvis.sklearn\n",
    "import pyLDAvis.gensim_models\n",
    "\n",
    "import spacy\n",
    "from sklearn.feature_extraction.text import TfidfVectorizer, CountVectorizer\n",
    "from sklearn.decomposition import NMF, TruncatedSVD, LatentDirichletAllocation\n",
    "\n",
    "from spacy.lang.en.stop_words import STOP_WORDS as stopwords\n",
    "\n",
    "from collections import Counter, defaultdict\n",
    "\n",
    "nlp = spacy.load('en_core_web_sm')\n",
    "\n"
   ]
  },
  {
   "cell_type": "code",
   "execution_count": 79,
   "metadata": {},
   "outputs": [],
   "source": [
    "# add any additional libaries you need here\n",
    "\n",
    "import nltk\n",
    "import os\n",
    "import re\n",
    "import emoji\n",
    "import pandas as pd\n",
    "\n",
    "from nltk.corpus import stopwords\n",
    "from collections import Counter, defaultdict\n",
    "from nltk.corpus import stopwords\n",
    "from string import punctuation\n",
    "from sklearn.decomposition import TruncatedSVD"
   ]
  },
  {
   "cell_type": "code",
   "execution_count": 2,
   "metadata": {},
   "outputs": [],
   "source": [
    "# This function comes from the BTAP repo.\n",
    "\n",
    "def display_topics(model, features, no_top_words=5):\n",
    "    for topic, words in enumerate(model.components_):\n",
    "        total = words.sum()\n",
    "        largest = words.argsort()[::-1] # invert sort order\n",
    "        print(\"\\nTopic %02d\" % topic)\n",
    "        for i in range(0, no_top_words):\n",
    "            print(\"  %s (%2.2f)\" % (features[largest[i]], abs(words[largest[i]]*100.0/total)))"
   ]
  },
  {
   "cell_type": "markdown",
   "metadata": {},
   "source": [
    "## Getting to Know the Brown Corpus\n",
    "\n",
    "Let's spend a bit of time getting to know what's in the Brown corpus, our NLTK example of an \"overlapping\" corpus."
   ]
  },
  {
   "cell_type": "code",
   "execution_count": 3,
   "metadata": {},
   "outputs": [
    {
     "name": "stdout",
     "output_type": "stream",
     "text": [
      "For adventure we have 29 articles.\n",
      "For belles_lettres we have 75 articles.\n",
      "For editorial we have 27 articles.\n",
      "For fiction we have 29 articles.\n",
      "For government we have 30 articles.\n",
      "For hobbies we have 36 articles.\n",
      "For humor we have 9 articles.\n",
      "For learned we have 80 articles.\n",
      "For lore we have 48 articles.\n",
      "For mystery we have 24 articles.\n",
      "For news we have 44 articles.\n",
      "For religion we have 17 articles.\n",
      "For reviews we have 17 articles.\n",
      "For romance we have 29 articles.\n",
      "For science_fiction we have 6 articles.\n"
     ]
    }
   ],
   "source": [
    "# categories of articles in Brown corpus\n",
    "for category in brown.categories() :\n",
    "    print(f\"For {category} we have {len(brown.fileids(categories=category))} articles.\")"
   ]
  },
  {
   "cell_type": "markdown",
   "metadata": {},
   "source": [
    "Let's create a dataframe of the articles in of hobbies, editorial, government, news, and romance."
   ]
  },
  {
   "cell_type": "code",
   "execution_count": 4,
   "metadata": {},
   "outputs": [
    {
     "data": {
      "text/plain": [
       "(166, 3)"
      ]
     },
     "execution_count": 4,
     "metadata": {},
     "output_type": "execute_result"
    }
   ],
   "source": [
    "categories = ['editorial','government','news','romance','hobbies'] \n",
    "\n",
    "category_list = []\n",
    "file_ids = []\n",
    "texts = []\n",
    "\n",
    "for category in categories : \n",
    "    for file_id in brown.fileids(categories=category) :\n",
    "        \n",
    "        # build some lists for a dataframe\n",
    "        category_list.append(category)\n",
    "        file_ids.append(file_id)\n",
    "        \n",
    "        text = brown.words(fileids=file_id)\n",
    "        texts.append(\" \".join(text))\n",
    "\n",
    "        \n",
    "        \n",
    "df = pd.DataFrame()\n",
    "df['category'] = category_list\n",
    "df['id'] = file_ids\n",
    "df['text'] = texts \n",
    "\n",
    "df.shape"
   ]
  },
  {
   "cell_type": "code",
   "execution_count": 5,
   "metadata": {},
   "outputs": [],
   "source": [
    "# Let's add some helpful columns on the df\n",
    "df['char_len'] = df['text'].apply(len)\n",
    "df['word_len'] = df['text'].apply(lambda x: len(x.split()))\n"
   ]
  },
  {
   "cell_type": "code",
   "execution_count": 6,
   "metadata": {},
   "outputs": [
    {
     "data": {
      "text/plain": [
       "<matplotlib.axes._subplots.AxesSubplot at 0x208784af448>"
      ]
     },
     "execution_count": 6,
     "metadata": {},
     "output_type": "execute_result"
    },
    {
     "data": {
      "image/png": "[encoded data removed]",
      "text/plain": [
       "<Figure size 720x432 with 1 Axes>"
      ]
     },
     "metadata": {
      "needs_background": "light"
     },
     "output_type": "display_data"
    }
   ],
   "source": [
    "%matplotlib inline\n",
    "df.groupby('category').agg({'word_len': 'mean'}).plot.bar(figsize=(10,6))"
   ]
  },
  {
   "cell_type": "markdown",
   "metadata": {},
   "source": [
    "Now do our TF-IDF and Count vectorizations."
   ]
  },
  {
   "cell_type": "code",
   "execution_count": 16,
   "metadata": {},
   "outputs": [
    {
     "name": "stderr",
     "output_type": "stream",
     "text": [
      "C:\\Users\\z003cu8m\\Anaconda3\\lib\\site-packages\\sklearn\\feature_extraction\\text.py:401: UserWarning: Your stop_words may be inconsistent with your preprocessing. Tokenizing the stop words generated tokens ['ll', 've'] not in stop_words.\n",
      "  % sorted(inconsistent)\n"
     ]
    },
    {
     "data": {
      "text/plain": [
       "(166, 4941)"
      ]
     },
     "execution_count": 16,
     "metadata": {},
     "output_type": "execute_result"
    }
   ],
   "source": [
    "count_text_vectorizer = CountVectorizer(stop_words=stopwords, min_df=5, max_df=0.7)\n",
    "count_text_vectors = count_text_vectorizer.fit_transform(df[\"text\"])\n",
    "count_text_vectors.shape"
   ]
  },
  {
   "cell_type": "code",
   "execution_count": 82,
   "metadata": {},
   "outputs": [
    {
     "data": {
      "text/plain": [
       "<166x4941 sparse matrix of type '<class 'numpy.int64'>'\n",
       "\twith 72541 stored elements in Compressed Sparse Row format>"
      ]
     },
     "execution_count": 82,
     "metadata": {},
     "output_type": "execute_result"
    }
   ],
   "source": [
    "count_text_vectors"
   ]
  },
  {
   "cell_type": "code",
   "execution_count": 8,
   "metadata": {},
   "outputs": [
    {
     "data": {
      "text/plain": [
       "(166, 4941)"
      ]
     },
     "execution_count": 8,
     "metadata": {},
     "output_type": "execute_result"
    }
   ],
   "source": [
    "tfidf_text_vectorizer = TfidfVectorizer(stop_words=stopwords, min_df=5, max_df=0.7)\n",
    "tfidf_text_vectors = tfidf_text_vectorizer.fit_transform(df['text'])\n",
    "tfidf_text_vectors.shape"
   ]
  },
  {
   "cell_type": "code",
   "execution_count": 81,
   "metadata": {},
   "outputs": [
    {
     "data": {
      "text/plain": [
       "<166x4941 sparse matrix of type '<class 'numpy.float64'>'\n",
       "\twith 72541 stored elements in Compressed Sparse Row format>"
      ]
     },
     "execution_count": 81,
     "metadata": {},
     "output_type": "execute_result"
    }
   ],
   "source": [
    "tfidf_text_vectors"
   ]
  },
  {
   "cell_type": "markdown",
   "metadata": {},
   "source": [
    "Q: What do the two data frames `count_text_vectors` and `tfidf_text_vectors` hold? \n",
    "\n",
    "A: They hold the frequency/inverse-frequency of the words in the datafamce, as well as the importance of the words."
   ]
  },
  {
   "cell_type": "markdown",
   "metadata": {},
   "source": [
    "## Fitting a Non-Negative Matrix Factorization Model\n",
    "\n",
    "In this section the code to fit a five-topic NMF model has already been written. This code comes directly from the [BTAP repo](https://github.com/blueprints-for-text-analytics-python/blueprints-text), which will help you tremendously in the coming sections. "
   ]
  },
  {
   "cell_type": "code",
   "execution_count": 14,
   "metadata": {},
   "outputs": [
    {
     "name": "stderr",
     "output_type": "stream",
     "text": [
      "C:\\Users\\z003cu8m\\Anaconda3\\lib\\site-packages\\sklearn\\decomposition\\_nmf.py:294: FutureWarning: The 'init' value, when 'init=None' and n_components is less than n_samples and n_features, will be changed from 'nndsvd' to 'nndsvda' in 1.1 (renaming of 0.26).\n",
      "  FutureWarning,\n"
     ]
    }
   ],
   "source": [
    "from warnings import filterwarnings\n",
    "filterwarnings(action='ignore', category=DeprecationWarning, message='`np.int` is a deprecated alias for the builtin `int`')\n",
    "\n",
    "nmf_text_model = NMF(n_components=5, random_state=314)\n",
    "W_text_matrix = nmf_text_model.fit_transform(tfidf_text_vectors)\n",
    "H_text_matrix = nmf_text_model.components_"
   ]
  },
  {
   "cell_type": "code",
   "execution_count": 17,
   "metadata": {},
   "outputs": [
    {
     "name": "stdout",
     "output_type": "stream",
     "text": [
      "\n",
      "Topic 00\n",
      "  mr (0.51)\n",
      "  president (0.45)\n",
      "  kennedy (0.43)\n",
      "  united (0.42)\n",
      "  khrushchev (0.40)\n",
      "\n",
      "Topic 01\n",
      "  said (0.88)\n",
      "  didn (0.46)\n",
      "  ll (0.45)\n",
      "  thought (0.42)\n",
      "  man (0.37)\n",
      "\n",
      "Topic 02\n",
      "  state (0.40)\n",
      "  development (0.36)\n",
      "  tax (0.33)\n",
      "  sales (0.30)\n",
      "  program (0.25)\n",
      "\n",
      "Topic 03\n",
      "  mrs (2.61)\n",
      "  mr (0.78)\n",
      "  said (0.64)\n",
      "  miss (0.52)\n",
      "  car (0.51)\n",
      "\n",
      "Topic 04\n",
      "  game (1.01)\n",
      "  league (0.74)\n",
      "  ball (0.72)\n",
      "  baseball (0.71)\n",
      "  team (0.66)\n"
     ]
    }
   ],
   "source": [
    "display_topics(nmf_text_model, tfidf_text_vectorizer.get_feature_names_out())"
   ]
  },
  {
   "cell_type": "markdown",
   "metadata": {},
   "source": [
    "Now some work for you to do. Compare the NMF factorization to the original categories from the Brown Corpus."
   ]
  },
  {
   "cell_type": "code",
   "execution_count": 33,
   "metadata": {},
   "outputs": [],
   "source": [
    "# clean the dataframe first \n",
    "\n",
    "# Some punctuation variations\n",
    "punctuation = set(punctuation) # speeds up comparison\n",
    "tw_punct = punctuation - {\"#\"}\n",
    "\n",
    "# Stopwords\n",
    "stop = stopwords.words('english')\n",
    " \n",
    "def remove_punctuation(text, punct_set=tw_punct) : \n",
    "    return(\"\".join([ch for ch in text if ch not in punct_set]))"
   ]
  },
  {
   "cell_type": "code",
   "execution_count": 46,
   "metadata": {},
   "outputs": [
    {
     "data": {
      "text/html": [
       "<div>\n",
       "<style scoped>\n",
       "    .dataframe tbody tr th:only-of-type {\n",
       "        vertical-align: middle;\n",
       "    }\n",
       "\n",
       "    .dataframe tbody tr th {\n",
       "        vertical-align: top;\n",
       "    }\n",
       "\n",
       "    .dataframe thead th {\n",
       "        text-align: right;\n",
       "    }\n",
       "</style>\n",
       "<table border=\"1\" class=\"dataframe\">\n",
       "  <thead>\n",
       "    <tr style=\"text-align: right;\">\n",
       "      <th></th>\n",
       "      <th>category</th>\n",
       "      <th>id</th>\n",
       "      <th>text</th>\n",
       "      <th>char_len</th>\n",
       "      <th>word_len</th>\n",
       "      <th>text_clean</th>\n",
       "    </tr>\n",
       "  </thead>\n",
       "  <tbody>\n",
       "    <tr>\n",
       "      <th>0</th>\n",
       "      <td>editorial</td>\n",
       "      <td>cb01</td>\n",
       "      <td>assembly session brought much good the general...</td>\n",
       "      <td>12659</td>\n",
       "      <td>2200</td>\n",
       "      <td>assembly session brought much good general ass...</td>\n",
       "    </tr>\n",
       "    <tr>\n",
       "      <th>1</th>\n",
       "      <td>editorial</td>\n",
       "      <td>cb02</td>\n",
       "      <td>must berlin remain divided   the inference has...</td>\n",
       "      <td>12544</td>\n",
       "      <td>2234</td>\n",
       "      <td>must berlin remain divided inference widely ac...</td>\n",
       "    </tr>\n",
       "    <tr>\n",
       "      <th>2</th>\n",
       "      <td>editorial</td>\n",
       "      <td>cb03</td>\n",
       "      <td>a good man departs  goodby  mr sam  sam raybur...</td>\n",
       "      <td>11871</td>\n",
       "      <td>2244</td>\n",
       "      <td>good man departs goodby mr sam sam rayburn goo...</td>\n",
       "    </tr>\n",
       "    <tr>\n",
       "      <th>3</th>\n",
       "      <td>editorial</td>\n",
       "      <td>cb04</td>\n",
       "      <td>a shock wave from africa word of dag hammarskj...</td>\n",
       "      <td>12284</td>\n",
       "      <td>2230</td>\n",
       "      <td>shock wave africa word dag hammarskjolds death...</td>\n",
       "    </tr>\n",
       "    <tr>\n",
       "      <th>4</th>\n",
       "      <td>editorial</td>\n",
       "      <td>cb05</td>\n",
       "      <td>help when needed if the dominican republic ach...</td>\n",
       "      <td>12479</td>\n",
       "      <td>2241</td>\n",
       "      <td>help needed dominican republic achieves free d...</td>\n",
       "    </tr>\n",
       "  </tbody>\n",
       "</table>\n",
       "</div>"
      ],
      "text/plain": [
       "    category    id                                               text  \\\n",
       "0  editorial  cb01  assembly session brought much good the general...   \n",
       "1  editorial  cb02  must berlin remain divided   the inference has...   \n",
       "2  editorial  cb03  a good man departs  goodby  mr sam  sam raybur...   \n",
       "3  editorial  cb04  a shock wave from africa word of dag hammarskj...   \n",
       "4  editorial  cb05  help when needed if the dominican republic ach...   \n",
       "\n",
       "   char_len  word_len                                         text_clean  \n",
       "0     12659      2200  assembly session brought much good general ass...  \n",
       "1     12544      2234  must berlin remain divided inference widely ac...  \n",
       "2     11871      2244  good man departs goodby mr sam sam rayburn goo...  \n",
       "3     12284      2230  shock wave africa word dag hammarskjolds death...  \n",
       "4     12479      2241  help needed dominican republic achieves free d...  "
      ]
     },
     "execution_count": 46,
     "metadata": {},
     "output_type": "execute_result"
    }
   ],
   "source": [
    "# apply the `pipeline` techniques\n",
    "\n",
    "#my_pipeline = [str.lower, remove_punctuation]\n",
    "\n",
    "#df_new = df.apply(prepare,pipeline=my_pipeline)\n",
    "\n",
    "df['text'] = df['text'].str.lower()\n",
    "\n",
    "df[\"text\"] = df['text'].apply(remove_punctuation)\n",
    "\n",
    "# remove stopwords\n",
    "\n",
    "df['text_clean'] = df['text'].apply(lambda x: ' '.join([word for word in x.split() if word not in (stop)]))\n",
    "df.head()"
   ]
  },
  {
   "cell_type": "code",
   "execution_count": 49,
   "metadata": {},
   "outputs": [],
   "source": [
    "# calling each category in a seperate dataframe\n",
    "\n",
    "df_editorial=df.query(\"category == 'editorial'\")\n",
    "df_hobbies=df.query(\"category == 'hobbies'\")\n",
    "df_news=df.query(\"category == 'news'\")\n",
    "df_romance=df.query(\"category == 'romance'\")\n",
    "df_government=df.query(\"category == 'government'\")"
   ]
  },
  {
   "cell_type": "code",
   "execution_count": 51,
   "metadata": {},
   "outputs": [],
   "source": [
    "# adding the dataframes to lists\n",
    "\n",
    "df_editorial_tokens = df_editorial['text_clean']\n",
    "new_editorial_list = df_editorial_tokens.values.tolist()\n",
    "\n",
    "df_hobbies_tokens = df_hobbies['text_clean']\n",
    "new_hobbies_list = df_hobbies_tokens.values.tolist()\n",
    "\n",
    "df_news_tokens = df_news['text_clean']\n",
    "new_news_list = df_news_tokens.values.tolist()\n",
    "\n",
    "df_romance_tokens = df_romance['text_clean']\n",
    "new_romance_list = df_romance_tokens.values.tolist()\n",
    "\n",
    "df_government_tokens = df_government['text_clean']\n",
    "new_government_list = df_government_tokens.values.tolist()"
   ]
  },
  {
   "cell_type": "code",
   "execution_count": 73,
   "metadata": {},
   "outputs": [
    {
     "data": {
      "text/html": [
       "<div>\n",
       "<style scoped>\n",
       "    .dataframe tbody tr th:only-of-type {\n",
       "        vertical-align: middle;\n",
       "    }\n",
       "\n",
       "    .dataframe tbody tr th {\n",
       "        vertical-align: top;\n",
       "    }\n",
       "\n",
       "    .dataframe thead th {\n",
       "        text-align: right;\n",
       "    }\n",
       "</style>\n",
       "<table border=\"1\" class=\"dataframe\">\n",
       "  <thead>\n",
       "    <tr style=\"text-align: right;\">\n",
       "      <th></th>\n",
       "      <th>government_top_words</th>\n",
       "      <th>government_ratio</th>\n",
       "    </tr>\n",
       "  </thead>\n",
       "  <tbody>\n",
       "    <tr>\n",
       "      <th>872</th>\n",
       "      <td>states</td>\n",
       "      <td>0.005885</td>\n",
       "    </tr>\n",
       "    <tr>\n",
       "      <th>1135</th>\n",
       "      <td>state</td>\n",
       "      <td>0.005626</td>\n",
       "    </tr>\n",
       "    <tr>\n",
       "      <th>61</th>\n",
       "      <td>year</td>\n",
       "      <td>0.005253</td>\n",
       "    </tr>\n",
       "    <tr>\n",
       "      <th>178</th>\n",
       "      <td>may</td>\n",
       "      <td>0.005138</td>\n",
       "    </tr>\n",
       "    <tr>\n",
       "      <th>871</th>\n",
       "      <td>united</td>\n",
       "      <td>0.004449</td>\n",
       "    </tr>\n",
       "  </tbody>\n",
       "</table>\n",
       "</div>"
      ],
      "text/plain": [
       "     government_top_words  government_ratio\n",
       "872                states          0.005885\n",
       "1135                state          0.005626\n",
       "61                   year          0.005253\n",
       "178                   may          0.005138\n",
       "871                united          0.004449"
      ]
     },
     "execution_count": 73,
     "metadata": {},
     "output_type": "execute_result"
    }
   ],
   "source": [
    "# concatenating using join \n",
    "\n",
    "joined_ed = \" \".join(ele for ele in new_editorial_list)\n",
    "joined_hob = \" \".join(ele for ele in new_hobbies_list)\n",
    "joined_nws = \" \".join(ele for ele in new_news_list)\n",
    "joined_ro = \" \".join(ele for ele in new_romance_list)\n",
    "joined_gov = \" \".join(ele for ele in new_government_list)\n",
    "\n",
    "# mapping using Counter()\n",
    "mappd_ed = Counter(joined_ed.split())\n",
    "  \n",
    "# getting total using sum \n",
    "total_val_ed = sum(mappd_ed.values())\n",
    "  \n",
    "# getting share of each word\n",
    "res_ed = {key: val / total_val_ed for key,\n",
    "       val in mappd_ed.items()}\n",
    "\n",
    "# mapping using Counter()\n",
    "mappd_nws = Counter(joined_nws.split())\n",
    "  \n",
    "# getting total using sum \n",
    "total_val_nws = sum(mappd_nws.values())\n",
    "  \n",
    "# getting share of each word\n",
    "res_nws = {key: val / total_val_nws for key,\n",
    "       val in mappd_nws.items()}\n",
    "\n",
    "# mapping using Counter()\n",
    "mappd_ro = Counter(joined_ro.split())\n",
    "  \n",
    "# getting total using sum \n",
    "total_val_ro = sum(mappd_ro.values())\n",
    "  \n",
    "# getting share of each word\n",
    "res_ro = {key: val / total_val_ro for key,\n",
    "       val in mappd_ro.items()}\n",
    "\n",
    "# mapping using Counter()\n",
    "mappd_hob = Counter(joined_hob.split())\n",
    "  \n",
    "# getting total using sum \n",
    "total_val_hob = sum(mappd_hob.values())\n",
    "  \n",
    "# getting share of each word\n",
    "res_hob = {key: val / total_val_hob for key,\n",
    "       val in mappd_hob.items()}\n",
    "\n",
    "# mapping using Counter()\n",
    "mappd_gov = Counter(joined_gov.split())\n",
    "  \n",
    "# getting total using sum \n",
    "total_val_gov = sum(mappd_gov.values())\n",
    "  \n",
    "# getting share of each word\n",
    "res_gov = {key: val / total_val_gov for key,\n",
    "       val in mappd_gov.items()}\n",
    "\n",
    "# printing result\n",
    "#print(\"Percentage share of each word : \" + str(res))\n",
    "\n",
    "df_new_editorial_list = pd.DataFrame.from_dict(res_ed, orient=\"index\").reset_index()\n",
    "df_new_editorial_list.columns = ['editorial_top_words', 'editorial_ratio']\n",
    "df_new_editorial_list.sort_values(by='editorial_ratio', ascending=False).head(5)\n",
    "\n",
    "df_new_hobbies_list = pd.DataFrame.from_dict(res_hob, orient=\"index\").reset_index()\n",
    "df_new_hobbies_list.columns = ['hobbies_top_words', 'hobbies_ratio']\n",
    "df_new_hobbies_list.sort_values(by='hobbies_ratio', ascending=False).head(5)\n",
    "\n",
    "df_new_news_list = pd.DataFrame.from_dict(res_nws, orient=\"index\").reset_index()\n",
    "df_new_news_list.columns = ['news_top_words', 'news_ratio']\n",
    "df_new_news_list.sort_values(by='news_ratio', ascending=False).head(5)\n",
    "\n",
    "df_new_romance_list = pd.DataFrame.from_dict(res_ro, orient=\"index\").reset_index()\n",
    "df_new_romance_list.columns = ['romance_top_words', 'romance_ratio']\n",
    "df_new_romance_list.sort_values(by='romance_ratio', ascending=False).head(5)\n",
    "\n",
    "df_new_government_list = pd.DataFrame.from_dict(res_gov, orient=\"index\").reset_index()\n",
    "df_new_government_list.columns = ['government_top_words', 'government_ratio']\n",
    "df_new_government_list.sort_values(by='government_ratio', ascending=False).head(5)"
   ]
  },
  {
   "cell_type": "code",
   "execution_count": 74,
   "metadata": {},
   "outputs": [
    {
     "data": {
      "text/html": [
       "<div>\n",
       "<style scoped>\n",
       "    .dataframe tbody tr th:only-of-type {\n",
       "        vertical-align: middle;\n",
       "    }\n",
       "\n",
       "    .dataframe tbody tr th {\n",
       "        vertical-align: top;\n",
       "    }\n",
       "\n",
       "    .dataframe thead th {\n",
       "        text-align: right;\n",
       "    }\n",
       "</style>\n",
       "<table border=\"1\" class=\"dataframe\">\n",
       "  <thead>\n",
       "    <tr style=\"text-align: right;\">\n",
       "      <th></th>\n",
       "      <th>romance_top_words</th>\n",
       "      <th>romance_ratio</th>\n",
       "    </tr>\n",
       "  </thead>\n",
       "  <tbody>\n",
       "    <tr>\n",
       "      <th>139</th>\n",
       "      <td>said</td>\n",
       "      <td>0.011305</td>\n",
       "    </tr>\n",
       "    <tr>\n",
       "      <th>24</th>\n",
       "      <td>would</td>\n",
       "      <td>0.008436</td>\n",
       "    </tr>\n",
       "    <tr>\n",
       "      <th>5</th>\n",
       "      <td>could</td>\n",
       "      <td>0.006660</td>\n",
       "    </tr>\n",
       "    <tr>\n",
       "      <th>355</th>\n",
       "      <td>like</td>\n",
       "      <td>0.006455</td>\n",
       "    </tr>\n",
       "    <tr>\n",
       "      <th>64</th>\n",
       "      <td>one</td>\n",
       "      <td>0.006216</td>\n",
       "    </tr>\n",
       "  </tbody>\n",
       "</table>\n",
       "</div>"
      ],
      "text/plain": [
       "    romance_top_words  romance_ratio\n",
       "139              said       0.011305\n",
       "24              would       0.008436\n",
       "5               could       0.006660\n",
       "355              like       0.006455\n",
       "64                one       0.006216"
      ]
     },
     "execution_count": 74,
     "metadata": {},
     "output_type": "execute_result"
    }
   ],
   "source": [
    "# top words in \"romance\" category\n",
    "\n",
    "df_new_romance_list.sort_values(by='romance_ratio', ascending=False).head(5)"
   ]
  },
  {
   "cell_type": "code",
   "execution_count": 78,
   "metadata": {},
   "outputs": [
    {
     "data": {
      "text/html": [
       "<div>\n",
       "<style scoped>\n",
       "    .dataframe tbody tr th:only-of-type {\n",
       "        vertical-align: middle;\n",
       "    }\n",
       "\n",
       "    .dataframe tbody tr th {\n",
       "        vertical-align: top;\n",
       "    }\n",
       "\n",
       "    .dataframe thead th {\n",
       "        text-align: right;\n",
       "    }\n",
       "</style>\n",
       "<table border=\"1\" class=\"dataframe\">\n",
       "  <thead>\n",
       "    <tr style=\"text-align: right;\">\n",
       "      <th></th>\n",
       "      <th>news_top_words</th>\n",
       "      <th>news_ratio</th>\n",
       "    </tr>\n",
       "  </thead>\n",
       "  <tbody>\n",
       "    <tr>\n",
       "      <th>4</th>\n",
       "      <td>said</td>\n",
       "      <td>0.007855</td>\n",
       "    </tr>\n",
       "    <tr>\n",
       "      <th>285</th>\n",
       "      <td>mrs</td>\n",
       "      <td>0.004914</td>\n",
       "    </tr>\n",
       "    <tr>\n",
       "      <th>336</th>\n",
       "      <td>would</td>\n",
       "      <td>0.004760</td>\n",
       "    </tr>\n",
       "    <tr>\n",
       "      <th>206</th>\n",
       "      <td>new</td>\n",
       "      <td>0.004663</td>\n",
       "    </tr>\n",
       "    <tr>\n",
       "      <th>137</th>\n",
       "      <td>one</td>\n",
       "      <td>0.004121</td>\n",
       "    </tr>\n",
       "  </tbody>\n",
       "</table>\n",
       "</div>"
      ],
      "text/plain": [
       "    news_top_words  news_ratio\n",
       "4             said    0.007855\n",
       "285            mrs    0.004914\n",
       "336          would    0.004760\n",
       "206            new    0.004663\n",
       "137            one    0.004121"
      ]
     },
     "execution_count": 78,
     "metadata": {},
     "output_type": "execute_result"
    }
   ],
   "source": [
    "# top words in \"news\" category\n",
    "\n",
    "df_new_news_list.sort_values(by='news_ratio', ascending=False).head(5)"
   ]
  },
  {
   "cell_type": "code",
   "execution_count": 76,
   "metadata": {},
   "outputs": [
    {
     "data": {
      "text/html": [
       "<div>\n",
       "<style scoped>\n",
       "    .dataframe tbody tr th:only-of-type {\n",
       "        vertical-align: middle;\n",
       "    }\n",
       "\n",
       "    .dataframe tbody tr th {\n",
       "        vertical-align: top;\n",
       "    }\n",
       "\n",
       "    .dataframe thead th {\n",
       "        text-align: right;\n",
       "    }\n",
       "</style>\n",
       "<table border=\"1\" class=\"dataframe\">\n",
       "  <thead>\n",
       "    <tr style=\"text-align: right;\">\n",
       "      <th></th>\n",
       "      <th>hobbies_top_words</th>\n",
       "      <th>hobbies_ratio</th>\n",
       "    </tr>\n",
       "  </thead>\n",
       "  <tbody>\n",
       "    <tr>\n",
       "      <th>44</th>\n",
       "      <td>one</td>\n",
       "      <td>0.007090</td>\n",
       "    </tr>\n",
       "    <tr>\n",
       "      <th>53</th>\n",
       "      <td>new</td>\n",
       "      <td>0.003694</td>\n",
       "    </tr>\n",
       "    <tr>\n",
       "      <th>841</th>\n",
       "      <td>may</td>\n",
       "      <td>0.003545</td>\n",
       "    </tr>\n",
       "    <tr>\n",
       "      <th>29</th>\n",
       "      <td>time</td>\n",
       "      <td>0.003297</td>\n",
       "    </tr>\n",
       "    <tr>\n",
       "      <th>264</th>\n",
       "      <td>first</td>\n",
       "      <td>0.003124</td>\n",
       "    </tr>\n",
       "  </tbody>\n",
       "</table>\n",
       "</div>"
      ],
      "text/plain": [
       "    hobbies_top_words  hobbies_ratio\n",
       "44                one       0.007090\n",
       "53                new       0.003694\n",
       "841               may       0.003545\n",
       "29               time       0.003297\n",
       "264             first       0.003124"
      ]
     },
     "execution_count": 76,
     "metadata": {},
     "output_type": "execute_result"
    }
   ],
   "source": [
    "# top words in \"hobbies\" category\n",
    "\n",
    "df_new_hobbies_list.sort_values(by='hobbies_ratio', ascending=False).head(5)"
   ]
  },
  {
   "cell_type": "code",
   "execution_count": 77,
   "metadata": {},
   "outputs": [
    {
     "data": {
      "text/html": [
       "<div>\n",
       "<style scoped>\n",
       "    .dataframe tbody tr th:only-of-type {\n",
       "        vertical-align: middle;\n",
       "    }\n",
       "\n",
       "    .dataframe tbody tr th {\n",
       "        vertical-align: top;\n",
       "    }\n",
       "\n",
       "    .dataframe thead th {\n",
       "        text-align: right;\n",
       "    }\n",
       "</style>\n",
       "<table border=\"1\" class=\"dataframe\">\n",
       "  <thead>\n",
       "    <tr style=\"text-align: right;\">\n",
       "      <th></th>\n",
       "      <th>editorial_top_words</th>\n",
       "      <th>editorial_ratio</th>\n",
       "    </tr>\n",
       "  </thead>\n",
       "  <tbody>\n",
       "    <tr>\n",
       "      <th>246</th>\n",
       "      <td>would</td>\n",
       "      <td>0.006333</td>\n",
       "    </tr>\n",
       "    <tr>\n",
       "      <th>196</th>\n",
       "      <td>one</td>\n",
       "      <td>0.005922</td>\n",
       "    </tr>\n",
       "    <tr>\n",
       "      <th>385</th>\n",
       "      <td>new</td>\n",
       "      <td>0.004587</td>\n",
       "    </tr>\n",
       "    <tr>\n",
       "      <th>1191</th>\n",
       "      <td>mr</td>\n",
       "      <td>0.003766</td>\n",
       "    </tr>\n",
       "    <tr>\n",
       "      <th>135</th>\n",
       "      <td>us</td>\n",
       "      <td>0.003047</td>\n",
       "    </tr>\n",
       "  </tbody>\n",
       "</table>\n",
       "</div>"
      ],
      "text/plain": [
       "     editorial_top_words  editorial_ratio\n",
       "246                would         0.006333\n",
       "196                  one         0.005922\n",
       "385                  new         0.004587\n",
       "1191                  mr         0.003766\n",
       "135                   us         0.003047"
      ]
     },
     "execution_count": 77,
     "metadata": {},
     "output_type": "execute_result"
    }
   ],
   "source": [
    "# top words in \"editorial\" category\n",
    "\n",
    "df_new_editorial_list.sort_values(by='editorial_ratio', ascending=False).head(5)"
   ]
  },
  {
   "cell_type": "markdown",
   "metadata": {},
   "source": [
    "Q: How does your five-topic NMF model compare to the original Brown categories? \n",
    "\n",
    "A: There are some common words between the two, however, the ratio is a little different."
   ]
  },
  {
   "cell_type": "markdown",
   "metadata": {},
   "source": [
    "## Fitting an LSA Model\n",
    "\n",
    "In this section, follow the example from the repository and fit an LSA model (called a \"TruncatedSVD\" in `sklearn`). Again fit a five-topic model and compare it to the actual categories in the Brown corpus. Use the TF-IDF vectors for your fit, as above. "
   ]
  },
  {
   "cell_type": "code",
   "execution_count": 80,
   "metadata": {},
   "outputs": [],
   "source": [
    "filterwarnings(action='ignore', category=DeprecationWarning, message='`np.int` is a deprecated alias for the builtin `int`')\n",
    "\n",
    "svd_text_model = TruncatedSVD(n_components = 10, random_state=42)\n",
    "W_svd_text_matrix = svd_text_model.fit_transform(tfidf_text_vectors)\n",
    "H_svd_text_matrix = svd_text_model.components_"
   ]
  },
  {
   "cell_type": "markdown",
   "metadata": {},
   "source": [
    "Q: How does your five-topic LSA model compare to the original Brown categories? \n",
    "\n",
    "A: I see more common words on the LSA model compared to the original corpus as more topics are printed."
   ]
  },
  {
   "cell_type": "code",
   "execution_count": 21,
   "metadata": {},
   "outputs": [
    {
     "name": "stdout",
     "output_type": "stream",
     "text": [
      "\n",
      "Topic 00\n",
      "  said (0.44)\n",
      "  mr (0.25)\n",
      "  mrs (0.22)\n",
      "  state (0.20)\n",
      "  man (0.17)\n",
      "\n",
      "Topic 01\n",
      "  said (3.89)\n",
      "  ll (2.73)\n",
      "  didn (2.63)\n",
      "  thought (2.20)\n",
      "  got (1.97)\n",
      "\n",
      "Topic 02\n",
      "  mrs (3.14)\n",
      "  mr (1.73)\n",
      "  said (1.06)\n",
      "  kennedy (0.82)\n",
      "  laos (0.78)\n",
      "\n",
      "Topic 03\n",
      "  mrs (29.99)\n",
      "  club (6.67)\n",
      "  game (6.21)\n",
      "  jr (5.71)\n",
      "  dallas (5.47)\n",
      "\n",
      "Topic 04\n",
      "  game (4.46)\n",
      "  league (3.20)\n",
      "  baseball (3.18)\n",
      "  ball (3.02)\n",
      "  team (2.91)\n",
      "\n",
      "Topic 05\n",
      "  mrs (4.51)\n",
      "  music (1.15)\n",
      "  af (1.09)\n",
      "  khrushchev (1.04)\n",
      "  miss (0.98)\n",
      "\n",
      "Topic 06\n",
      "  faculty (184.24)\n",
      "  college (178.80)\n",
      "  student (139.55)\n",
      "  shall (123.17)\n",
      "  university (114.98)\n",
      "\n",
      "Topic 07\n",
      "  mrs (10.11)\n",
      "  sales (5.92)\n",
      "  marketing (4.33)\n",
      "  billion (4.33)\n",
      "  business (4.01)\n",
      "\n",
      "Topic 08\n",
      "  state (26.37)\n",
      "  states (18.26)\n",
      "  united (16.73)\n",
      "  shall (15.81)\n",
      "  mrs (15.67)\n",
      "\n",
      "Topic 09\n",
      "  shall (19.61)\n",
      "  united (17.02)\n",
      "  board (14.47)\n",
      "  states (11.02)\n",
      "  court (10.58)\n"
     ]
    }
   ],
   "source": [
    "display_topics(svd_text_model, tfidf_text_vectorizer.get_feature_names_out())"
   ]
  },
  {
   "cell_type": "markdown",
   "metadata": {},
   "source": [
    "Q: What is your interpretation of the display topics output? \n",
    "\n",
    "A: The svd model has the highest relevance on it's topics."
   ]
  },
  {
   "cell_type": "markdown",
   "metadata": {},
   "source": [
    "## Fitting an LDA Model\n",
    "\n",
    "Finally, fit a five-topic LDA model using the count vectors (`count_text_vectors` from above). Display the results using `pyLDAvis.display` and describe what you learn from that visualization. "
   ]
  },
  {
   "cell_type": "code",
   "execution_count": 22,
   "metadata": {},
   "outputs": [
    {
     "name": "stderr",
     "output_type": "stream",
     "text": [
      "C:\\Users\\z003cu8m\\Anaconda3\\lib\\site-packages\\sklearn\\feature_extraction\\text.py:401: UserWarning: Your stop_words may be inconsistent with your preprocessing. Tokenizing the stop words generated tokens ['ll', 've'] not in stop_words.\n",
      "  % sorted(inconsistent)\n"
     ]
    },
    {
     "data": {
      "text/plain": [
       "(166, 4941)"
      ]
     },
     "execution_count": 22,
     "metadata": {},
     "output_type": "execute_result"
    }
   ],
   "source": [
    "count_text_vectorizer = CountVectorizer(stop_words=stopwords, min_df=5, max_df=0.7)\n",
    "count_text_vectors = count_text_vectorizer.fit_transform(df[\"text\"])\n",
    "count_text_vectors.shape"
   ]
  },
  {
   "cell_type": "code",
   "execution_count": 23,
   "metadata": {},
   "outputs": [],
   "source": [
    "lda_text_model = LatentDirichletAllocation(n_components = 10, random_state=42)\n",
    "W_lda_text_matrix = lda_text_model.fit_transform(count_text_vectors)\n",
    "H_lda_text_matrix = lda_text_model.components_"
   ]
  },
  {
   "cell_type": "code",
   "execution_count": 25,
   "metadata": {},
   "outputs": [
    {
     "name": "stdout",
     "output_type": "stream",
     "text": [
      "\n",
      "Topic 00\n",
      "  clay (0.54)\n",
      "  game (0.47)\n",
      "  place (0.45)\n",
      "  cut (0.45)\n",
      "  home (0.44)\n",
      "\n",
      "Topic 01\n",
      "  pool (0.77)\n",
      "  use (0.71)\n",
      "  national (0.70)\n",
      "  area (0.57)\n",
      "  good (0.56)\n",
      "\n",
      "Topic 02\n",
      "  million (0.60)\n",
      "  military (0.57)\n",
      "  sales (0.54)\n",
      "  aircraft (0.54)\n",
      "  equipment (0.50)\n",
      "\n",
      "Topic 03\n",
      "  feed (3.04)\n",
      "  said (1.47)\n",
      "  head (1.08)\n",
      "  meeting (0.94)\n",
      "  daily (0.91)\n",
      "\n",
      "Topic 04\n",
      "  said (1.83)\n",
      "  sam (0.67)\n",
      "  eyes (0.63)\n",
      "  thought (0.63)\n",
      "  little (0.58)\n",
      "\n",
      "Topic 05\n",
      "  mrs (1.05)\n",
      "  said (0.88)\n",
      "  old (0.67)\n",
      "  mr (0.56)\n",
      "  man (0.56)\n",
      "\n",
      "Topic 06\n",
      "  said (2.73)\n",
      "  board (0.85)\n",
      "  000 (0.66)\n",
      "  court (0.56)\n",
      "  county (0.55)\n",
      "\n",
      "Topic 07\n",
      "  state (1.08)\n",
      "  medical (0.75)\n",
      "  shelter (0.68)\n",
      "  program (0.53)\n",
      "  service (0.53)\n",
      "\n",
      "Topic 08\n",
      "  state (0.85)\n",
      "  united (0.78)\n",
      "  states (0.72)\n",
      "  government (0.70)\n",
      "  president (0.67)\n",
      "\n",
      "Topic 09\n",
      "  fiscal (1.00)\n",
      "  property (0.86)\n",
      "  island (0.69)\n",
      "  tax (0.69)\n",
      "  state (0.61)\n"
     ]
    }
   ],
   "source": [
    "display_topics(lda_text_model, count_text_vectorizer.get_feature_names_out())"
   ]
  },
  {
   "cell_type": "markdown",
   "metadata": {},
   "source": [
    "Q: What inference do you draw from the displayed topics for your LDA model? \n",
    "\n",
    "A: The LDA model shows good reults on the feature relevance, however not as strong as the svd model.\n",
    "\n",
    "\n",
    "Q: How does your five-topic LDA model compare to the original Brown categories? \n",
    "\n",
    "A: The later topics have more common words with the original categories."
   ]
  },
  {
   "cell_type": "code",
   "execution_count": 26,
   "metadata": {},
   "outputs": [
    {
     "name": "stderr",
     "output_type": "stream",
     "text": [
      "C:\\Users\\z003cu8m\\Anaconda3\\lib\\site-packages\\pyLDAvis\\_prepare.py:247: FutureWarning: In a future version of pandas all arguments of DataFrame.drop except for the argument 'labels' will be keyword-only\n",
      "  by='saliency', ascending=False).head(R).drop('saliency', 1)\n"
     ]
    }
   ],
   "source": [
    "lda_display = pyLDAvis.sklearn.prepare(lda_text_model, count_text_vectors, count_text_vectorizer, sort_topics=False)"
   ]
  },
  {
   "cell_type": "code",
   "execution_count": 27,
   "metadata": {},
   "outputs": [
    {
     "data": {
      "text/html": [
       "\n",
       "<link rel=\"stylesheet\" type=\"text/css\" href=\"https://cdn.jsdelivr.net/gh/bmabey/pyLDAvis@3.3.1/pyLDAvis/js/ldavis.v1.0.0.css\">\n",
       "\n",
       "\n",
       "<div id=\"ldavis_el159222354437781201632628818\"></div>\n",
       "<script type=\"text/javascript\">\n",
       "\n",
       "var ldavis_el159222354437781201632628818_data = {\"mdsDat\": {\"x\": [-0.06732001541400208, 0.09806879941232598, 0.048207292251172415, -0.14824467107454303, -0.20819820444072548, -0.1479485963891276, 0.023076413666883195, 0.12874168459578325, 0.0945900093352571, 0.17902728805697601], \"y\": [0.11304463939683275, 0.03518418764120767, 0.021949513897974057, 0.0986985291504949, -0.050610107648508464, -0.028966960821906584, -0.23740189315260102, 0.03952293995624636, -0.020900456023530755, 0.029479607603791202], \"topics\": [1, 2, 3, 4, 5, 6, 7, 8, 9, 10], \"cluster\": [1, 1, 1, 1, 1, 1, 1, 1, 1, 1], \"Freq\": [10.705424445485, 6.5513838914721525, 7.3738213232143455, 1.9137788245195642, 5.897333698362347, 22.89823941529421, 6.713060310405615, 6.423359259610086, 25.379341989673925, 6.144256841962754]}, \"tinfo\": {\"Term\": [\"said\", \"mrs\", \"state\", \"feed\", \"head\", \"tax\", \"fiscal\", \"came\", \"meeting\", \"ll\", \"got\", \"united\", \"states\", \"didn\", \"board\", \"don\", \"property\", \"khrushchev\", \"mr\", \"service\", \"government\", \"island\", \"thought\", \"pool\", \"shall\", \"day\", \"come\", \"went\", \"program\", \"eyes\", \"leg\", \"player\", \"holes\", \"drill\", \"willie\", \"fig\", \"panels\", \"bowl\", \"muscles\", \"runs\", \"yards\", \"coach\", \"hole\", \"cooling\", \"smooth\", \"roof\", \"champions\", \"pennant\", \"transparent\", \"hits\", \"angle\", \"pinch\", \"yankees\", \"pitching\", \"clay\", \"lighter\", \"paste\", \"bull\", \"nut\", \"bats\", \"builder\", \"trim\", \"heating\", \"mays\", \"screw\", \"knee\", \"salt\", \"games\", \"lumber\", \"bars\", \"pieces\", \"cutting\", \"baseball\", \"game\", \"frame\", \"inch\", \"double\", \"cut\", \"team\", \"league\", \"piece\", \"ball\", \"hit\", \"run\", \"heat\", \"place\", \"sign\", \"season\", \"home\", \"right\", \"set\", \"use\", \"house\", \"don\", \"way\", \"good\", \"ll\", \"better\", \"work\", \"second\", \"forests\", \"faculty\", \"inexpensive\", \"wildlife\", \"pool\", \"forest\", \"employee\", \"foundation\", \"recreation\", \"substitute\", \"creative\", \"site\", \"lands\", \"attractions\", \"columns\", \"healthy\", \"eighty\", \"vacation\", \"rust\", \"clarity\", \"disease\", \"experiences\", \"restricted\", \"understandable\", \"professors\", \"centuries\", \"academic\", \"tyranny\", \"catholic\", \"liberty\", \"benefits\", \"roads\", \"acres\", \"insurance\", \"version\", \"features\", \"bible\", \"plants\", \"area\", \"quality\", \"plant\", \"national\", \"areas\", \"employees\", \"use\", \"land\", \"water\", \"miles\", \"good\", \"day\", \"work\", \"american\", \"system\", \"university\", \"island\", \"control\", \"need\", \"development\", \"life\", \"program\", \"men\", \"public\", \"missiles\", \"missile\", \"aircraft\", \"polaris\", \"rebel\", \"enemy\", \"railroads\", \"strategic\", \"railroad\", \"china\", \"missions\", \"weapons\", \"doctrine\", \"mobile\", \"submarines\", \"destroy\", \"procurement\", \"delegates\", \"billion\", \"terrain\", \"consumer\", \"plea\", \"enemies\", \"inventories\", \"destruction\", \"engines\", \"peaceful\", \"electronic\", \"threaten\", \"target\", \"52\", \"britain\", \"chinese\", \"nuclear\", \"khrushchev\", \"military\", \"million\", \"equipment\", \"sales\", \"shares\", \"congo\", \"forces\", \"soviet\", \"market\", \"army\", \"1960\", \"war\", \"west\", \"1959\", \"today\", \"world\", \"people\", \"security\", \"force\", \"industry\", \"1961\", \"american\", \"000\", \"program\", \"high\", \"president\", \"york\", \"said\", \"10\", \"feed\", \"cattle\", \"frames\", \"pitcher\", \"chemical\", \"fed\", \"shipping\", \"pound\", \"daily\", \"cloth\", \"fence\", \"ton\", \"caution\", \"premier\", \"treatment\", \"heater\", \"feeding\", \"stove\", \"sighed\", \"vienna\", \"animal\", \"plate\", \"pounds\", \"aids\", \"hell\", \"reducing\", \"pitch\", \"catastrophe\", \"shook\", \"negotiations\", \"efficiency\", \"khrushchev\", \"meeting\", \"head\", \"ball\", \"baby\", \"level\", \"started\", \"said\", \"weight\", \"room\", \"came\", \"got\", \"cold\", \"rate\", \"days\", \"don\", \"inch\", \"away\", \"day\", \"way\", \"ll\", \"come\", \"stared\", \"ugly\", \"anger\", \"asleep\", \"shouted\", \"smiling\", \"lips\", \"susan\", \"gross\", \"loved\", \"wildly\", \"sam\", \"hated\", \"sleep\", \"drank\", \"filing\", \"receiver\", \"waited\", \"evil\", \"cried\", \"stairs\", \"hesitate\", \"treasury\", \"touching\", \"dirty\", \"tongue\", \"blonde\", \"pete\", \"closet\", \"shame\", \"bottle\", \"rayburn\", \"payment\", \"knowing\", \"eyes\", \"voice\", \"knew\", \"extension\", \"stood\", \"return\", \"title\", \"felt\", \"didn\", \"thought\", \"wasn\", \"woman\", \"said\", \"shall\", \"dark\", \"went\", \"income\", \"suddenly\", \"let\", \"file\", \"little\", \"tax\", \"saw\", \"ll\", \"turned\", \"come\", \"face\", \"day\", \"asked\", \"good\", \"came\", \"going\", \"states\", \"place\", \"way\", \"life\", \"know\", \"united\", \"anne\", \"mrs\", \"dancing\", \"furniture\", \"bride\", \"motel\", \"symphony\", \"golden\", \"lane\", \"va\", \"restaurant\", \"paintings\", \"orange\", \"dad\", \"joan\", \"festival\", \"dear\", \"toes\", \"haired\", \"son\", \"knees\", \"cocktail\", \"loving\", \"sisters\", \"wearing\", \"supper\", \"shirt\", \"jane\", \"bare\", \"walker\", \"dinner\", \"miss\", \"girls\", \"wedding\", \"cousin\", \"old\", \"guests\", \"love\", \"junior\", \"church\", \"garden\", \"warren\", \"brown\", \"god\", \"isn\", \"mother\", \"george\", \"young\", \"father\", \"music\", \"john\", \"man\", \"shop\", \"children\", \"family\", \"know\", \"night\", \"street\", \"club\", \"white\", \"class\", \"little\", \"got\", \"mr\", \"said\", \"looked\", \"ve\", \"school\", \"don\", \"ll\", \"thought\", \"went\", \"home\", \"took\", \"way\", \"people\", \"good\", \"day\", \"world\", \"left\", \"came\", \"work\", \"come\", \"jury\", \"spokesman\", \"tractor\", \"62\", \"davis\", \"bonds\", \"witnesses\", \"trial\", \"exempt\", \"bond\", \"ballot\", \"recommendation\", \"patrolman\", \"avenue\", \"proceedings\", \"arrested\", \"legislators\", \"denied\", \"jail\", \"dallas\", \"hughes\", \"atlanta\", \"ave\", \"commissioner\", \"police\", \"gun\", \"appeals\", \"rep\", \"gifts\", \"bankers\", \"hearing\", \"texas\", \"appeal\", \"cent\", \"attorney\", \"friday\", \"board\", \"said\", \"county\", \"court\", \"yesterday\", \"bill\", \"university\", \"report\", \"election\", \"hospital\", \"fire\", \"monday\", \"000\", \"federal\", \"tax\", \"city\", \"school\", \"department\", \"12\", \"company\", \"state\", \"local\", \"home\", \"shelter\", \"00\", \"films\", \"workshops\", \"rehabilitation\", \"volumes\", \"ratio\", \"33\", \"library\", \"athletic\", \"vocational\", \"gallon\", \"virgin\", \"heel\", \"regions\", \"steadily\", \"boat\", \"knight\", \"36\", \"magazines\", \"formula\", \"shelters\", \"chamber\", \"curriculum\", \"engine\", \"host\", \"35\", \"models\", \"bulletin\", \"publications\", \"medical\", \"corps\", \"student\", \"organizations\", \"determine\", \"inches\", \"volume\", \"headquarters\", \"students\", \"college\", \"mile\", \"peace\", \"state\", \"art\", \"shooting\", \"service\", \"services\", \"program\", \"car\", \"association\", \"result\", \"states\", \"provide\", \"system\", \"available\", \"education\", \"000\", \"federal\", \"af\", \"work\", \"day\", \"republican\", \"eisenhower\", \"india\", \"democrats\", \"motors\", \"stockholders\", \"senator\", \"commodities\", \"democratic\", \"congressional\", \"presidential\", \"trucks\", \"warwick\", \"viet\", \"gop\", \"charter\", \"conservative\", \"rusk\", \"diplomatic\", \"collective\", \"capitol\", \"nam\", \"congressman\", \"hospitals\", \"deny\", \"acceptable\", \"hammarskjold\", \"coalition\", \"spokesmen\", \"deficit\", \"regulations\", \"nixon\", \"council\", \"kennedy\", \"administration\", \"political\", \"legislative\", \"united\", \"government\", \"economic\", \"nations\", \"trust\", \"vote\", \"foreign\", \"president\", \"article\", \"secretary\", \"states\", \"policy\", \"senate\", \"assistance\", \"general\", \"efforts\", \"business\", \"aid\", \"state\", \"labor\", \"public\", \"act\", \"communist\", \"mr\", \"industrial\", \"washington\", \"development\", \"department\", \"congress\", \"program\", \"american\", \"000\", \"shall\", \"city\", \"committee\", \"country\", \"world\", \"said\", \"people\", \"house\", \"interior\", \"allocation\", \"interference\", \"engineer\", \"towns\", \"measurements\", \"assessment\", \"engineers\", \"engineering\", \"stations\", \"bridge\", \"marketing\", \"adjustments\", \"accumulation\", \"tangible\", \"designers\", \"fiscal\", \"movements\", \"property\", \"technical\", \"uniform\", \"adjustment\", \"location\", \"objectives\", \"electronics\", \"municipalities\", \"precise\", \"chain\", \"reflected\", \"assignments\", \"provision\", \"designer\", \"management\", \"data\", \"bridges\", \"rhode\", \"island\", \"boats\", \"product\", \"cities\", \"research\", \"tax\", \"products\", \"techniques\", \"types\", \"service\", \"pressure\", \"local\", \"af\", \"number\", \"state\", \"problem\", \"town\", \"class\", \"company\", \"design\"], \"Freq\": [786.0, 309.0, 491.0, 84.0, 130.0, 177.0, 110.0, 159.0, 93.0, 165.0, 144.0, 305.0, 336.0, 123.0, 175.0, 175.0, 95.0, 68.0, 391.0, 205.0, 277.0, 119.0, 139.0, 76.0, 128.0, 299.0, 183.0, 136.0, 231.0, 96.0, 28.000604025388608, 46.282832292922286, 21.265085691216463, 31.849528687457777, 12.605083514600228, 29.656695341489222, 31.458409663675994, 11.642864425665868, 11.64279325506011, 37.504229048932515, 24.83751547390055, 21.24040604999929, 34.55387208120638, 34.29702975214584, 19.236475083845786, 26.67597813624786, 7.793989820665106, 7.793968203111182, 7.793682261809248, 14.52954149248162, 6.831753216698276, 6.831665574463949, 23.08364232785767, 12.605088594990475, 71.53819411819798, 5.869510296810655, 5.869472743514227, 5.869469819834189, 5.869421517985311, 5.8694183404267815, 21.75618043868309, 13.449537319861019, 19.219486912797556, 12.605087131336795, 15.059043314877933, 14.215365019409367, 16.43417624006275, 25.777274207556037, 25.11398141247111, 24.88625273984414, 41.95356684849439, 22.9814017851609, 30.503109606501702, 62.51769645168401, 30.120562189174308, 46.34042206906046, 30.989400569019217, 59.52454972877682, 38.52478187467374, 39.53192875372064, 39.520393214559476, 37.37007611323999, 34.24618723951506, 49.51531761688244, 28.637876976514328, 59.675886325284225, 33.14343239626437, 34.535558657052874, 59.15946499787454, 52.329796126626725, 46.56122104414049, 50.94209982912203, 48.76663336773532, 43.943878875647805, 48.513983709156676, 45.399633968850274, 38.6413505944028, 36.2783268163342, 34.90264860418021, 33.581424274177316, 15.106770513463715, 43.992351394385096, 4.785345924826494, 14.168673788453878, 62.61756735137099, 33.12425956808171, 19.280162533370255, 25.21223443568969, 27.205964679491636, 6.420808990604299, 12.042835886618564, 38.59468071396567, 11.894706923725249, 4.785437006122674, 4.770220553305647, 5.4229380583500415, 10.166283809495072, 26.995779552295023, 5.925568932746966, 6.509954670023473, 10.23534711650752, 7.183412964531433, 3.8706193401012468, 3.8467361757315564, 6.339937991092648, 3.7518308578401394, 18.835288444989686, 3.6199968312153015, 19.798276161140663, 5.920686501973799, 15.689776517183544, 24.968519025665486, 17.92198017745605, 19.156989339729144, 17.602020715577144, 18.05086556192838, 13.117254923314844, 18.334546452846023, 46.17359952163421, 20.05083192801331, 30.1804865411294, 56.99560762287028, 33.32124015612367, 21.58819350622278, 58.3801386779579, 26.725611659287274, 39.03971675095816, 23.162962511273808, 45.54409875476737, 36.49547125728024, 33.531027128330884, 33.17346456524622, 27.171864730706513, 26.048811606684538, 25.701803662731518, 22.87431914223684, 26.33614880073448, 27.83826272291109, 25.596667756304267, 25.66988273986014, 24.88096794621502, 23.401845739504694, 21.702932391459473, 35.73945941219601, 49.90629831145379, 6.670590916326109, 5.731053294527062, 12.135833450883924, 12.082655407050995, 14.882799536228388, 26.299626833255886, 26.763627652508934, 6.5966357350100004, 24.957110514231434, 8.549655942405941, 11.368232548728848, 8.473291234638525, 19.339093175766536, 13.54397275668421, 9.472375931324478, 38.11806047172636, 4.60595024210707, 13.78554465194083, 4.558558663846983, 3.8520041778085243, 5.152087117330265, 6.409629383275501, 7.610130902116034, 7.562565700111647, 17.418882437849113, 4.791564384749431, 14.272143719636114, 10.077684871018269, 13.304715024932284, 13.880822110385564, 39.72783600029335, 35.46540985165944, 52.46535865949453, 54.94555091531093, 46.16867713357734, 50.054018043398976, 19.215253107398983, 21.032101358763082, 34.37956765696769, 31.35336576290592, 35.03137036109092, 25.868388807522084, 40.05760851045461, 40.62279672404777, 30.864741640428388, 23.578788452852258, 34.11819648534512, 39.670332792688306, 40.20255169158573, 20.611359301292136, 24.0227044808244, 25.099870235855455, 25.76752654820298, 30.87628245194059, 30.531313950448578, 28.12503228098121, 27.588183993727153, 28.146685661067192, 26.01276828244529, 28.300812598094495, 25.472592795755265, 72.62144852949332, 14.624482972997614, 12.524902273834718, 8.217450597308746, 14.87671104029978, 7.563921051396792, 7.847781038288298, 11.670450461176792, 21.824264050379902, 6.179912122980925, 6.59023622411031, 5.776626683779899, 4.914529880519543, 9.64957761861377, 9.844679366493082, 4.149403827462788, 6.028907452793531, 3.2031263380264923, 2.845862784358512, 5.952539440804281, 4.149407534149279, 4.149410178642187, 4.963014919889622, 5.7766277300940105, 4.9630166980444335, 5.776630215932709, 2.5221710627953327, 1.673231665882065, 2.4325929064095635, 4.920793231640292, 5.776632681865685, 17.688289745678393, 22.343690552453687, 25.826819039986564, 13.099110750006828, 8.50064131472092, 11.640570160869135, 9.555750291699118, 35.13972356570685, 8.307746977737548, 11.323885026359324, 13.436742862587037, 12.53635933846306, 9.06672897687696, 8.714169504723843, 10.459355144217383, 10.65480395990388, 8.441234671691552, 9.358807033080819, 10.83003065911942, 9.571758372952992, 8.947104316864865, 8.708120330227544, 13.289302272934204, 10.038792145258146, 8.632674299460499, 6.999145948426533, 10.52992009674195, 6.698613018644069, 8.63266471401735, 20.339495434728562, 16.509996614228125, 13.601911039078088, 5.644436283286496, 49.39725703427469, 4.856833238377045, 8.900803322446894, 8.24843633234149, 13.039962753845673, 6.735381555214247, 13.537991443389963, 7.36055831612858, 5.381803473120252, 8.012516342944451, 3.8894215744904956, 18.830027610882887, 4.5534726538537615, 3.889425669144584, 9.738077707966529, 5.76977129297055, 10.241371763321784, 5.641674145520401, 5.651448871141986, 7.405086969329145, 28.54240401643813, 24.00720920590297, 10.736184864333431, 46.60273861500415, 25.28728873010146, 41.97545568149137, 12.288599105192265, 23.653294581660056, 30.798308193161372, 22.5124673886574, 37.38974601883431, 42.69405851742826, 46.532553698759195, 24.683018727328804, 23.640855462499278, 134.9014968488719, 39.118297065696794, 18.69554698999992, 39.702600101164144, 28.441835431982277, 18.727415978401968, 34.93491067412889, 20.930497190638235, 42.70707315336185, 36.791881075237825, 26.674437144820118, 32.62774511294946, 23.937600286484393, 33.18797895549942, 25.381808665267553, 38.50953392445511, 26.856487031034792, 34.576201212227595, 28.052255083845704, 26.577314404982243, 29.256021595838696, 27.136137555608997, 27.84095452748946, 26.122225367958332, 26.061772270351568, 25.638511902658852, 34.5774944210982, 300.54078444409436, 20.785898659988845, 19.80062609263174, 17.830569940059714, 16.845413495037278, 16.801467855371214, 20.425117871783367, 13.889460426383868, 13.887446914610457, 13.870591844644323, 12.904989844765947, 12.89267763666212, 10.934763658585647, 10.934737972609078, 10.934737425176671, 10.934734636735756, 10.934732020725594, 10.934699744627654, 69.07858040682743, 9.949603845976194, 9.949597760090473, 9.949594197109974, 9.949565643461838, 13.507933160927106, 8.964505898620606, 8.964499420764444, 8.964500093968708, 8.964496467915929, 8.964468373140472, 30.177006510044407, 82.91029673625104, 35.40341090249912, 14.875234924970432, 23.741276877758647, 190.999052064725, 27.478364411514473, 48.42791132566083, 52.023005992079526, 73.49748447333208, 24.220483016484415, 21.94087471659729, 74.6224798488129, 49.134985957555166, 35.438048285279635, 71.75270110709084, 40.78769432117838, 93.90148133340357, 47.189865682433776, 46.34307604071616, 106.54427953266028, 160.99304896052286, 28.545458767064332, 79.36746001872199, 80.30121656901947, 106.61943124735274, 89.1960631592152, 52.473168178659144, 70.018785160429, 74.07415493624126, 64.50269828950593, 116.32975371846909, 81.39812403189566, 161.27805132206043, 250.44151177473339, 55.563890567062884, 54.81180779208221, 84.67461699271202, 85.02986503226298, 80.8561068679788, 72.95958049993992, 71.99342313118181, 100.50190366835263, 66.29926210550514, 96.00739650337445, 94.25571748414157, 98.69527304362745, 95.54646192163261, 90.0673615336709, 74.73647604416311, 74.60776946755765, 80.6279420053843, 74.24896816293307, 45.409942288844164, 8.75803015086665, 21.238240799922114, 5.882647595572326, 11.630161436233303, 27.817215471100543, 8.752129037493212, 29.655104535330786, 7.634366449361612, 11.168804396888648, 7.335528129106269, 14.460339622631615, 5.104686721582874, 20.227615144791155, 5.730515147260489, 10.703068309461793, 10.003389299103691, 13.670741670257287, 7.4857323434142184, 41.54801797050155, 17.424928538676223, 16.04002617442839, 9.200946661759186, 11.182487392993515, 31.479666822418398, 13.597597894496127, 8.447780895941179, 10.380589398401868, 3.8762266680865567, 7.648503637778799, 34.30727737510081, 36.84774977938818, 21.315547393543476, 41.48680345024783, 23.231521188062512, 25.6100985445309, 71.26760362562464, 228.45738752607173, 46.08167234398129, 46.999977471461435, 29.43010312645364, 38.544477512425, 42.91896523605634, 34.46824070847328, 24.1734739914758, 26.752051166712988, 30.078438295204045, 25.22861393280287, 55.12231683181145, 32.992711294256985, 40.477806243220726, 42.38566174069967, 38.51117978415901, 36.5425436205636, 28.444762491279107, 32.7119264447724, 43.162843746182155, 28.841105792065548, 31.59257596506628, 54.60307630689378, 14.191202093327545, 5.732839948144264, 5.7328336308601, 14.797030969064139, 6.4784018551887, 15.025789595008005, 9.216662355182686, 33.53883563791912, 9.492128075072337, 9.926198530143694, 7.6123685330558075, 10.43189045757904, 10.536199745352071, 6.369958689693954, 3.85314620101275, 27.679504524120794, 8.288399491140813, 18.890278058897593, 3.7359879719117037, 24.204797408105424, 14.22663044913776, 17.978771819351447, 5.47219526714094, 18.816792438133024, 7.833123202411152, 15.923843317449517, 17.042881792807623, 9.932993300732493, 12.208030536217539, 60.40034688187885, 40.85461945354902, 39.87904454085234, 21.512672155869687, 25.551284293868683, 17.84332342278483, 22.429857483340154, 15.744258392755267, 28.648144633689295, 41.93899593960458, 18.747383505937965, 34.880747327539964, 86.10372438065872, 22.56973090224591, 16.044334723027283, 42.506420679477614, 27.304453542173732, 42.785236420006036, 31.385641986353733, 23.874505002185742, 25.05975659774268, 39.43621929953751, 25.90524576622687, 26.410971771656282, 25.1220982537394, 22.867311817361, 28.117452211055074, 23.144069744905824, 21.289332244293124, 24.87598906356118, 21.44351157798826, 39.20424677033554, 39.204231743206556, 37.24890788502079, 23.561652045149167, 45.070235819995055, 20.628658841076682, 20.598791572695838, 16.718027745367458, 58.452431352549404, 15.740301101957813, 14.762663034922223, 14.762633386384852, 13.784941777938648, 14.691828411721293, 12.807321245449742, 26.48236298788717, 12.76512976236926, 11.829709526331994, 11.829659322907586, 11.829658699940378, 11.82963136713018, 12.708075881715295, 10.852000864410009, 10.851997277721546, 10.851927200277508, 10.851808024768799, 12.628715060635262, 9.874369860441224, 9.874367015742374, 9.87434581761036, 16.14283010995587, 16.121065309143578, 67.07430681113344, 117.91941595329294, 116.0514149292294, 73.54139827017332, 25.340637640285614, 247.06613336236344, 222.96552541019975, 69.3410245560144, 66.16005902398061, 33.911169652803686, 47.13940807966805, 80.3157949345128, 212.17644191981782, 35.325457715960404, 92.85243790309885, 226.66201844481617, 73.26176003533371, 42.4867364673683, 47.111784452882304, 135.99979054250096, 45.89060890730064, 139.47835142760206, 73.10060494590525, 269.4568184717998, 54.07547304905574, 126.69936359330293, 89.69822505266467, 56.1693857614023, 206.11581197810955, 59.0875602305374, 81.64404807719451, 115.81917970061625, 91.33516733597553, 61.33001574699352, 109.83390999073814, 111.96740851921109, 107.12373076023029, 72.39243088732877, 89.46122626781839, 67.4614462720946, 73.09052667531111, 85.30378403576724, 89.40296477734647, 72.87481800988907, 71.1716266000675, 37.322943353242515, 10.558892998629139, 30.180096342035377, 27.774061508105785, 28.453337850270202, 10.562060934920785, 14.130642035885183, 21.789967039616393, 30.601741493201736, 43.6981902970088, 37.870418101934185, 30.56726247061098, 9.637196020837065, 4.747620923082274, 10.591396830311028, 7.9331949681162515, 76.62728810333661, 3.911628883950115, 65.51413439039229, 39.790240992993304, 20.785944530774724, 9.635845725923986, 19.687944553063353, 12.57360275609564, 20.723331071470504, 6.063262419402189, 5.435139841819283, 10.749301191860363, 8.299950355338154, 6.46460124630378, 13.877583857390627, 10.97970081579017, 44.9755088512221, 20.4900205365084, 11.40399311670064, 41.33580107374906, 52.85466127271622, 20.13254681059991, 23.87977730099061, 25.171696969940456, 39.06174282928195, 52.79212079710393, 26.05328764867619, 16.742383069061706, 17.85746868000139, 43.171640040632816, 23.517440466746937, 32.53194671903331, 24.827222069542604, 31.32203331394111, 46.43038049818688, 27.03063393311678, 25.183813371531013, 25.86782884269978, 26.58124346537461, 23.233009197576347], \"Total\": [786.0, 309.0, 491.0, 84.0, 130.0, 177.0, 110.0, 159.0, 93.0, 165.0, 144.0, 305.0, 336.0, 123.0, 175.0, 175.0, 95.0, 68.0, 391.0, 205.0, 277.0, 119.0, 139.0, 76.0, 128.0, 299.0, 183.0, 136.0, 231.0, 96.0, 28.846773502505666, 47.942592646760744, 22.111221351088428, 33.635183163149264, 13.451227718758517, 31.723152958895223, 33.690080474695264, 12.489005970831432, 12.48900569155033, 40.342690604787215, 26.951801370185695, 23.050462850118368, 37.51768352090323, 37.55538204485904, 21.15138064863417, 29.501870896243883, 8.640119547561868, 8.64011969880887, 8.640119936066506, 16.31399499421805, 7.677897654403728, 7.677897371202934, 26.001750421343516, 14.264836332102929, 81.81954919482311, 6.715676858073228, 6.715676680231766, 6.71567570041424, 6.715676192874853, 6.7156779008433425, 25.011970851486936, 15.401360944389971, 22.09412555661144, 14.428889318254488, 17.324023262007717, 16.36825384612305, 19.088798732439507, 30.71272848314916, 29.90056695450415, 29.88079015628891, 53.12967618130463, 27.86582880797322, 38.67412331014301, 88.57681770038356, 38.49247772822475, 66.64665442762214, 41.45501170028053, 96.71591187124035, 56.52330824168962, 59.79346158488464, 60.713590075769766, 60.35877764535048, 57.59280721150697, 118.49869628620651, 42.2841393968192, 189.70993763735626, 57.8349266947219, 67.52926106945286, 265.9745257403354, 213.49161707604375, 168.45176266498567, 254.2688107766534, 233.28817744744757, 175.55123691089472, 272.60774895854485, 306.0432319931853, 165.1859343321511, 159.08078696405187, 259.55626353726643, 122.5873407272, 15.95552558882452, 51.62408623710467, 5.633965066976535, 16.945936025339368, 76.3971489888347, 41.62092162277504, 24.540498593494483, 33.09729583155144, 35.76044799060633, 8.50775065549697, 16.01265640171853, 51.9004207984054, 16.028808063118156, 6.598333423627805, 6.61222492253624, 7.536276718958523, 14.168716713469559, 37.92186722801912, 8.49158978755608, 9.424304683898105, 14.820706244516513, 10.42176486288607, 5.672285717698708, 5.6578687071487375, 9.47944020324504, 5.66476078010137, 29.307486631540996, 5.692080371231042, 31.27363487066418, 9.439380772236285, 26.32898891891335, 43.47933607865514, 31.547289716511557, 34.02024658145856, 31.26869661568268, 32.28455682034881, 24.760085211684103, 40.220469463015455, 145.34653082355538, 45.64789251502816, 80.59834526077083, 213.84656388230286, 99.07672981591195, 52.651566691733656, 254.2688107766534, 81.88539493303429, 161.29816647459128, 65.83951429783079, 306.0432319931853, 299.602361243204, 259.55626353726643, 262.4328778232777, 141.92874018070268, 124.35135410065604, 119.73930709466083, 81.46491527330632, 152.9947015373317, 201.25569977402455, 160.36415186498058, 231.40495059384222, 191.5158054008805, 202.14154856532872, 22.55139273600387, 39.55509864411595, 55.54387573680217, 7.51901278378827, 6.5794899373507105, 14.14079583246224, 14.126372475518934, 17.939933553155846, 32.039567078864835, 33.004177304428595, 8.499678174338788, 32.958282091508664, 11.326800427100508, 15.104570442152855, 11.34104367312847, 26.41090969931074, 18.971947937721644, 13.271254142665486, 54.02989008354172, 6.609763099463606, 19.916725791772965, 6.63638417609934, 5.649088460907207, 7.580654605528231, 9.461449613369068, 11.277980641669679, 11.370890042409169, 26.54330256289926, 7.544150292863866, 22.622460563941193, 16.064991713255942, 21.781321274220886, 22.82352503269403, 77.4387712598512, 68.30330226570929, 121.51466594593467, 128.74254940118533, 105.0603783301943, 117.58711565586462, 37.12158112952877, 43.10954706005646, 88.6046736533108, 78.29220361927014, 96.10216889011025, 62.16457253560297, 128.92639585411632, 145.7038645957093, 105.4065845761152, 62.894699550383706, 158.65977488811137, 255.73556857618297, 264.7038712499515, 52.49686385271138, 82.71932083777153, 97.35085097644725, 114.97670136840068, 262.4328778232777, 281.72625793603606, 231.40495059384222, 218.4618532824804, 296.9566923805314, 147.03395561390448, 786.7260445895487, 144.2296857288214, 84.01021629896567, 18.553900547591102, 18.853377576311992, 13.889540893881877, 25.182804263540266, 14.001679818897811, 14.969286543251966, 23.90255910522689, 50.142084661336554, 14.324095590804085, 15.281616340817216, 13.430671368344505, 11.645769113387328, 23.454605416380424, 24.272408102225114, 10.800555088084122, 16.153727116540825, 9.126332404175873, 8.228027365098697, 17.31609109798375, 12.647514705898205, 12.735886997096921, 15.423516403414723, 18.015356666911924, 15.494318177371253, 18.134748299885068, 8.194283423242235, 5.46083723535126, 8.183467022096686, 16.586803555102907, 20.12257651971086, 68.30330226570929, 93.88211424694013, 130.40056838984614, 60.35877764535048, 34.41933438921879, 81.70190958620545, 58.46016644497266, 786.7260445895487, 45.63075509787662, 101.22687670146028, 159.7682909310828, 144.53411857247204, 66.14153456920934, 64.87140372924708, 140.65171768164504, 175.55123691089472, 66.64665442762214, 121.29584096321031, 299.602361243204, 272.60774895854485, 165.1859343321511, 183.50992039783074, 15.029900091556797, 11.384481398600823, 10.41968474057965, 8.557843719515088, 13.004670274123908, 8.545614987250493, 11.107377868635663, 26.76218335990868, 21.948389505548388, 18.155162889449013, 7.624805184338371, 66.7585931650479, 6.595723998150856, 12.155156485909448, 11.450557217710871, 18.146381970837712, 9.49122776491944, 19.0885371075703, 10.432413335644993, 7.634903165565566, 11.42725082763725, 5.676746786340828, 27.59043745259035, 6.674176806911359, 5.714589077636878, 14.360708003719546, 8.588695134606853, 15.284745176014722, 8.560742033212609, 8.594466874962851, 11.333389600223963, 45.933529696871375, 42.07865113040208, 17.851819498107847, 96.67413235927879, 48.76738467730914, 89.34849314069659, 20.913167209050062, 46.72778356928673, 66.28897084738513, 45.90569500369978, 90.2859931129277, 123.03988343661813, 139.20670083047466, 57.976476228912155, 55.027381354155615, 786.7260445895487, 128.35402090735425, 40.182720654789556, 136.0345952038102, 82.31382569138519, 41.152964946410705, 120.98862557169679, 51.59701853216418, 237.00763444347157, 177.81462623274547, 89.45970531002732, 165.1859343321511, 76.8907523799122, 183.50992039783074, 89.84782483634454, 299.602361243204, 118.23649714213381, 306.0432319931853, 159.7682909310828, 131.73142956312986, 336.3143820993779, 189.70993763735626, 272.60774895854485, 160.36415186498058, 190.9959253640621, 305.036495055043, 35.421383627799074, 309.99845365517666, 21.629769256455436, 20.64464824216008, 18.674423566516165, 17.68930709061056, 17.687219145120338, 21.621384277935103, 14.733947144606594, 14.733909556133938, 14.73350813139586, 13.74884644735161, 13.748738837574974, 11.778615816959489, 11.77861512537897, 11.778614623485286, 11.778614873141217, 11.778614561157074, 11.778614167208884, 74.69624832980011, 10.793498745369, 10.793499052519543, 10.793498756261446, 10.793493443004708, 14.71986048551255, 9.808384023182448, 9.80838313222004, 9.808384467634102, 9.808383406046826, 9.808382986580472, 34.3369473371989, 99.8634476450941, 41.093507055740275, 16.658892686029755, 27.45003161317748, 254.86653895268077, 32.34409727810584, 60.576142009037724, 65.65994215175814, 96.22212656237247, 28.449415932289, 25.49742478268528, 100.9571197432412, 63.219172056491104, 44.04394749198047, 97.4981950419633, 51.983700738847176, 136.40143398802394, 63.45896626530139, 62.26522636043544, 169.95685493009745, 282.8478828475674, 35.24376079641679, 128.78281683155626, 130.87176210149923, 190.9959253640621, 151.82810042297655, 76.40260622618318, 111.19180297199168, 121.88332205177245, 101.24006016695347, 237.00763444347157, 144.53411857247204, 391.1164655196187, 786.7260445895487, 85.27974104616072, 83.92171331976962, 173.23433026378277, 175.55123691089472, 165.1859343321511, 139.20670083047466, 136.0345952038102, 265.9745257403354, 119.90519320779181, 272.60774895854485, 264.7038712499515, 306.0432319931853, 299.602361243204, 255.73556857618297, 161.14736947654126, 159.7682909310828, 259.55626353726643, 183.50992039783074, 48.16481529123567, 9.621923915938952, 24.035628389898864, 6.728568690847718, 13.500738489606892, 32.78767197377456, 10.607302544338323, 36.466630444282295, 9.637410507313856, 14.477009337452445, 9.593594675307127, 18.995328235694387, 6.733490133659693, 26.82609581877016, 7.679994644472261, 14.432897351578214, 13.515409280014483, 19.288394317471134, 10.613795362397543, 59.08918480762765, 25.153722534447404, 23.241238751195937, 13.362418990657545, 16.420417250427864, 46.429789633057005, 20.08067394629929, 12.477485446558958, 15.429067731917515, 5.778557700852476, 11.471682730207554, 51.72253473617887, 58.799882196747134, 33.69330201705948, 75.19456221945963, 39.54602533758843, 48.04768344971714, 175.2435604960558, 786.7260445895487, 104.45342339142807, 108.5778136824813, 62.12830292536089, 92.92920545042435, 124.35135410065604, 89.69607651282857, 55.269993237255896, 66.998036074659, 85.70863935114096, 62.537915110074586, 281.72625793603606, 114.20388529337686, 177.81462623274547, 216.14388825220456, 173.23433026378277, 158.77402469093846, 89.05682585956136, 140.06982687383004, 491.1201477335408, 129.8772365234754, 265.9745257403354, 58.270182593542, 15.977892569150955, 6.58123683965233, 6.581236320457239, 18.886481587445328, 8.515530217620215, 19.768398608748793, 12.323994281003738, 45.580982925515585, 13.229307824395812, 14.099318928072075, 10.901695521735087, 15.056655917166234, 15.215743931604974, 9.335860110055853, 5.650254232442824, 40.65675975311292, 12.368746050444706, 28.462054953433036, 5.692371754684432, 36.964916383445086, 21.80166951526209, 27.584468089618767, 8.483515974066261, 29.347716847287142, 12.306639255924651, 25.63816935983452, 27.546785342862442, 16.15887937756725, 19.884400726272553, 100.49764573861148, 75.11918139495305, 73.6318219883242, 37.891912802868106, 49.311964812282454, 32.88065073323606, 43.61627134670853, 29.49855243688794, 70.94381778382478, 123.85087153864912, 40.35419342872141, 109.2707748149379, 491.1201477335408, 58.81785445859183, 33.01474961358607, 205.57977298825742, 94.89901422349413, 231.40495059384222, 124.85819884415666, 78.57231524613721, 88.83776806978713, 336.3143820993779, 113.39581925773653, 141.92874018070268, 120.24804225500989, 86.17447490561192, 281.72625793603606, 114.20388529337686, 74.31963197813633, 259.55626353726643, 299.602361243204, 40.04886522496133, 40.04886343779409, 38.09353878015231, 24.406257537277366, 46.85316613834959, 21.473268747358585, 21.472068549851365, 17.562616951503355, 61.46790200783636, 16.58495271940621, 15.607290323832304, 15.607289766014018, 14.62962626788225, 15.604527039564683, 13.651964606415307, 28.293131517318788, 13.650317906767151, 12.674301868124825, 12.67429668764768, 12.67430163593452, 12.67430056574408, 13.648092261454336, 11.69663769222058, 11.696637599016286, 11.696635666898883, 11.696637105206237, 13.644995638546224, 10.71897599994744, 10.718975438677305, 10.718975779284147, 17.545545569379453, 17.567166868304163, 74.20361704408285, 131.46407561581336, 134.01352100301574, 83.78637204748722, 28.234388354570374, 305.036495055043, 277.83368207362116, 83.39104343873043, 79.61467438993837, 38.92271384451034, 56.48060543772124, 102.1011490571249, 296.9566923805314, 41.69379484250425, 123.22838494399323, 336.3143820993779, 95.00881892661877, 51.634396157944245, 58.439069183665644, 202.76190290140528, 57.36215799197694, 212.49844147115954, 100.47318052611891, 491.1201477335408, 69.90428086064188, 202.14154856532872, 132.71205284814883, 73.6689338698081, 391.1164655196187, 79.54681604635721, 122.31717730649325, 201.25569977402455, 158.77402469093846, 86.01191962449393, 231.40495059384222, 262.4328778232777, 281.72625793603606, 128.35402090735425, 216.14388825220456, 111.07366844407812, 145.42775102922639, 255.73556857618297, 786.7260445895487, 264.7038712499515, 233.28817744744757, 41.0699223159547, 12.376105704834464, 36.31717730999936, 33.47135266764235, 34.40977614861076, 13.363012485498633, 18.194857342711543, 28.600295300530426, 41.25339525377345, 59.31219741554473, 51.81025483907794, 41.85638266555631, 13.352697935555783, 6.702129373049812, 15.146602083902176, 11.423932492747271, 110.84661882986147, 5.698596346949433, 95.70771562525154, 58.22279869181609, 30.70118766044864, 14.293176564954319, 29.350756719270443, 19.010623999507324, 32.47837199202963, 9.594437949862655, 8.650147991086254, 17.277169895198263, 13.358440259618426, 10.562222452303134, 22.96455324670169, 18.321538706526887, 84.70376603822422, 36.15174403905665, 19.204986103197342, 86.09783740265041, 119.73930709466083, 38.89179996369067, 48.661439805526186, 52.936866112457736, 104.13194656626561, 177.81462623274547, 63.27422765318312, 31.516037159027817, 36.21528021681863, 205.57977298825742, 63.16770018885789, 129.8772365234754, 74.31963197813633, 136.62893700168107, 491.1201477335408, 118.57287885275014, 89.45799764020822, 101.24006016695347, 140.06982687383004, 75.41520645800938], \"Category\": [\"Default\", \"Default\", \"Default\", \"Default\", \"Default\", \"Default\", \"Default\", \"Default\", \"Default\", \"Default\", \"Default\", \"Default\", \"Default\", \"Default\", \"Default\", \"Default\", \"Default\", \"Default\", \"Default\", \"Default\", \"Default\", \"Default\", \"Default\", \"Default\", \"Default\", \"Default\", \"Default\", \"Default\", \"Default\", \"Default\", \"Topic1\", \"Topic1\", \"Topic1\", \"Topic1\", \"Topic1\", \"Topic1\", \"Topic1\", \"Topic1\", \"Topic1\", \"Topic1\", \"Topic1\", \"Topic1\", \"Topic1\", \"Topic1\", \"Topic1\", \"Topic1\", \"Topic1\", \"Topic1\", \"Topic1\", \"Topic1\", \"Topic1\", \"Topic1\", \"Topic1\", \"Topic1\", \"Topic1\", \"Topic1\", \"Topic1\", \"Topic1\", \"Topic1\", \"Topic1\", \"Topic1\", \"Topic1\", \"Topic1\", \"Topic1\", \"Topic1\", \"Topic1\", \"Topic1\", \"Topic1\", \"Topic1\", \"Topic1\", \"Topic1\", \"Topic1\", \"Topic1\", \"Topic1\", \"Topic1\", \"Topic1\", \"Topic1\", \"Topic1\", \"Topic1\", \"Topic1\", \"Topic1\", \"Topic1\", \"Topic1\", \"Topic1\", \"Topic1\", \"Topic1\", \"Topic1\", \"Topic1\", \"Topic1\", \"Topic1\", \"Topic1\", \"Topic1\", \"Topic1\", \"Topic1\", \"Topic1\", \"Topic1\", \"Topic1\", \"Topic1\", \"Topic1\", \"Topic1\", \"Topic2\", \"Topic2\", \"Topic2\", \"Topic2\", \"Topic2\", \"Topic2\", \"Topic2\", \"Topic2\", \"Topic2\", \"Topic2\", \"Topic2\", \"Topic2\", \"Topic2\", \"Topic2\", \"Topic2\", \"Topic2\", \"Topic2\", \"Topic2\", \"Topic2\", \"Topic2\", \"Topic2\", \"Topic2\", \"Topic2\", \"Topic2\", \"Topic2\", \"Topic2\", \"Topic2\", \"Topic2\", \"Topic2\", \"Topic2\", \"Topic2\", \"Topic2\", \"Topic2\", \"Topic2\", \"Topic2\", \"Topic2\", \"Topic2\", \"Topic2\", \"Topic2\", \"Topic2\", \"Topic2\", \"Topic2\", \"Topic2\", \"Topic2\", \"Topic2\", \"Topic2\", \"Topic2\", \"Topic2\", \"Topic2\", \"Topic2\", \"Topic2\", \"Topic2\", \"Topic2\", \"Topic2\", \"Topic2\", \"Topic2\", \"Topic2\", \"Topic2\", \"Topic2\", \"Topic2\", \"Topic2\", \"Topic2\", \"Topic3\", \"Topic3\", \"Topic3\", \"Topic3\", \"Topic3\", \"Topic3\", \"Topic3\", \"Topic3\", \"Topic3\", \"Topic3\", \"Topic3\", \"Topic3\", \"Topic3\", \"Topic3\", \"Topic3\", \"Topic3\", \"Topic3\", \"Topic3\", \"Topic3\", \"Topic3\", \"Topic3\", \"Topic3\", \"Topic3\", \"Topic3\", \"Topic3\", \"Topic3\", \"Topic3\", \"Topic3\", \"Topic3\", \"Topic3\", \"Topic3\", \"Topic3\", \"Topic3\", \"Topic3\", \"Topic3\", \"Topic3\", \"Topic3\", \"Topic3\", \"Topic3\", \"Topic3\", \"Topic3\", \"Topic3\", \"Topic3\", \"Topic3\", \"Topic3\", \"Topic3\", \"Topic3\", \"Topic3\", \"Topic3\", \"Topic3\", \"Topic3\", \"Topic3\", \"Topic3\", \"Topic3\", \"Topic3\", \"Topic3\", \"Topic3\", \"Topic3\", \"Topic3\", \"Topic3\", \"Topic3\", \"Topic3\", \"Topic3\", \"Topic3\", \"Topic4\", \"Topic4\", \"Topic4\", \"Topic4\", \"Topic4\", \"Topic4\", \"Topic4\", \"Topic4\", \"Topic4\", \"Topic4\", \"Topic4\", \"Topic4\", \"Topic4\", \"Topic4\", \"Topic4\", \"Topic4\", \"Topic4\", \"Topic4\", \"Topic4\", \"Topic4\", \"Topic4\", \"Topic4\", \"Topic4\", \"Topic4\", \"Topic4\", \"Topic4\", \"Topic4\", \"Topic4\", \"Topic4\", \"Topic4\", \"Topic4\", \"Topic4\", \"Topic4\", \"Topic4\", \"Topic4\", \"Topic4\", \"Topic4\", \"Topic4\", \"Topic4\", \"Topic4\", \"Topic4\", \"Topic4\", \"Topic4\", \"Topic4\", \"Topic4\", \"Topic4\", \"Topic4\", \"Topic4\", \"Topic4\", \"Topic4\", \"Topic4\", \"Topic4\", \"Topic4\", \"Topic5\", \"Topic5\", \"Topic5\", \"Topic5\", \"Topic5\", \"Topic5\", \"Topic5\", \"Topic5\", \"Topic5\", \"Topic5\", \"Topic5\", \"Topic5\", \"Topic5\", \"Topic5\", \"Topic5\", \"Topic5\", \"Topic5\", \"Topic5\", \"Topic5\", \"Topic5\", \"Topic5\", \"Topic5\", \"Topic5\", \"Topic5\", \"Topic5\", \"Topic5\", \"Topic5\", \"Topic5\", \"Topic5\", \"Topic5\", \"Topic5\", \"Topic5\", \"Topic5\", \"Topic5\", \"Topic5\", \"Topic5\", \"Topic5\", \"Topic5\", \"Topic5\", \"Topic5\", \"Topic5\", \"Topic5\", \"Topic5\", \"Topic5\", \"Topic5\", \"Topic5\", \"Topic5\", \"Topic5\", \"Topic5\", \"Topic5\", \"Topic5\", \"Topic5\", \"Topic5\", \"Topic5\", \"Topic5\", \"Topic5\", \"Topic5\", \"Topic5\", \"Topic5\", \"Topic5\", \"Topic5\", \"Topic5\", \"Topic5\", \"Topic5\", \"Topic5\", \"Topic5\", \"Topic5\", \"Topic5\", \"Topic5\", \"Topic5\", \"Topic5\", \"Topic5\", \"Topic6\", \"Topic6\", \"Topic6\", \"Topic6\", \"Topic6\", \"Topic6\", \"Topic6\", \"Topic6\", \"Topic6\", \"Topic6\", \"Topic6\", \"Topic6\", \"Topic6\", \"Topic6\", \"Topic6\", \"Topic6\", \"Topic6\", \"Topic6\", \"Topic6\", \"Topic6\", \"Topic6\", \"Topic6\", \"Topic6\", \"Topic6\", \"Topic6\", \"Topic6\", \"Topic6\", \"Topic6\", \"Topic6\", \"Topic6\", \"Topic6\", \"Topic6\", \"Topic6\", \"Topic6\", \"Topic6\", \"Topic6\", \"Topic6\", \"Topic6\", \"Topic6\", \"Topic6\", \"Topic6\", \"Topic6\", \"Topic6\", \"Topic6\", \"Topic6\", \"Topic6\", \"Topic6\", \"Topic6\", \"Topic6\", \"Topic6\", \"Topic6\", \"Topic6\", \"Topic6\", \"Topic6\", \"Topic6\", \"Topic6\", \"Topic6\", \"Topic6\", \"Topic6\", \"Topic6\", \"Topic6\", \"Topic6\", \"Topic6\", \"Topic6\", \"Topic6\", \"Topic6\", \"Topic6\", \"Topic6\", \"Topic6\", \"Topic6\", \"Topic6\", \"Topic6\", \"Topic6\", \"Topic6\", \"Topic6\", \"Topic6\", \"Topic6\", \"Topic6\", \"Topic6\", \"Topic6\", \"Topic6\", \"Topic6\", \"Topic6\", \"Topic7\", \"Topic7\", \"Topic7\", \"Topic7\", \"Topic7\", \"Topic7\", \"Topic7\", \"Topic7\", \"Topic7\", \"Topic7\", \"Topic7\", \"Topic7\", \"Topic7\", \"Topic7\", \"Topic7\", \"Topic7\", \"Topic7\", \"Topic7\", \"Topic7\", \"Topic7\", \"Topic7\", \"Topic7\", \"Topic7\", \"Topic7\", \"Topic7\", \"Topic7\", \"Topic7\", \"Topic7\", \"Topic7\", \"Topic7\", \"Topic7\", \"Topic7\", \"Topic7\", \"Topic7\", \"Topic7\", \"Topic7\", \"Topic7\", \"Topic7\", \"Topic7\", \"Topic7\", \"Topic7\", \"Topic7\", \"Topic7\", \"Topic7\", \"Topic7\", \"Topic7\", \"Topic7\", \"Topic7\", \"Topic7\", \"Topic7\", \"Topic7\", \"Topic7\", \"Topic7\", \"Topic7\", \"Topic7\", \"Topic7\", \"Topic7\", \"Topic7\", \"Topic7\", \"Topic8\", \"Topic8\", \"Topic8\", \"Topic8\", \"Topic8\", \"Topic8\", \"Topic8\", \"Topic8\", \"Topic8\", \"Topic8\", \"Topic8\", \"Topic8\", \"Topic8\", \"Topic8\", \"Topic8\", \"Topic8\", \"Topic8\", \"Topic8\", \"Topic8\", \"Topic8\", \"Topic8\", \"Topic8\", \"Topic8\", \"Topic8\", \"Topic8\", \"Topic8\", \"Topic8\", \"Topic8\", \"Topic8\", \"Topic8\", \"Topic8\", \"Topic8\", \"Topic8\", \"Topic8\", \"Topic8\", \"Topic8\", \"Topic8\", \"Topic8\", \"Topic8\", \"Topic8\", \"Topic8\", \"Topic8\", \"Topic8\", \"Topic8\", \"Topic8\", \"Topic8\", \"Topic8\", \"Topic8\", \"Topic8\", \"Topic8\", \"Topic8\", \"Topic8\", \"Topic8\", \"Topic8\", \"Topic8\", \"Topic8\", \"Topic8\", \"Topic8\", \"Topic8\", \"Topic8\", \"Topic8\", \"Topic9\", \"Topic9\", \"Topic9\", \"Topic9\", \"Topic9\", \"Topic9\", \"Topic9\", \"Topic9\", \"Topic9\", \"Topic9\", \"Topic9\", \"Topic9\", \"Topic9\", \"Topic9\", \"Topic9\", \"Topic9\", \"Topic9\", \"Topic9\", \"Topic9\", \"Topic9\", \"Topic9\", \"Topic9\", \"Topic9\", \"Topic9\", \"Topic9\", \"Topic9\", \"Topic9\", \"Topic9\", \"Topic9\", \"Topic9\", \"Topic9\", \"Topic9\", \"Topic9\", \"Topic9\", \"Topic9\", \"Topic9\", \"Topic9\", \"Topic9\", \"Topic9\", \"Topic9\", \"Topic9\", \"Topic9\", \"Topic9\", \"Topic9\", \"Topic9\", \"Topic9\", \"Topic9\", \"Topic9\", \"Topic9\", \"Topic9\", \"Topic9\", \"Topic9\", \"Topic9\", \"Topic9\", \"Topic9\", \"Topic9\", \"Topic9\", \"Topic9\", \"Topic9\", \"Topic9\", \"Topic9\", \"Topic9\", \"Topic9\", \"Topic9\", \"Topic9\", \"Topic9\", \"Topic9\", \"Topic9\", \"Topic9\", \"Topic9\", \"Topic9\", \"Topic9\", \"Topic9\", \"Topic9\", \"Topic9\", \"Topic9\", \"Topic9\", \"Topic10\", \"Topic10\", \"Topic10\", \"Topic10\", \"Topic10\", \"Topic10\", \"Topic10\", \"Topic10\", \"Topic10\", \"Topic10\", \"Topic10\", \"Topic10\", \"Topic10\", \"Topic10\", \"Topic10\", \"Topic10\", \"Topic10\", \"Topic10\", \"Topic10\", \"Topic10\", \"Topic10\", \"Topic10\", \"Topic10\", \"Topic10\", \"Topic10\", \"Topic10\", \"Topic10\", \"Topic10\", \"Topic10\", \"Topic10\", \"Topic10\", \"Topic10\", \"Topic10\", \"Topic10\", \"Topic10\", \"Topic10\", \"Topic10\", \"Topic10\", \"Topic10\", \"Topic10\", \"Topic10\", \"Topic10\", \"Topic10\", \"Topic10\", \"Topic10\", \"Topic10\", \"Topic10\", \"Topic10\", \"Topic10\", \"Topic10\", \"Topic10\", \"Topic10\", \"Topic10\", \"Topic10\", \"Topic10\", \"Topic10\"], \"logprob\": [30.0, 29.0, 28.0, 27.0, 26.0, 25.0, 24.0, 23.0, 22.0, 21.0, 20.0, 19.0, 18.0, 17.0, 16.0, 15.0, 14.0, 13.0, 12.0, 11.0, 10.0, 9.0, 8.0, 7.0, 6.0, 5.0, 4.0, 3.0, 2.0, 1.0, -6.1667, -5.6642, -6.4419, -6.0379, -6.9648, -6.1093, -6.0503, -7.0442, -7.0443, -5.8745, -6.2866, -6.443, -5.9564, -5.9639, -6.5421, -6.2152, -7.4456, -7.4456, -7.4456, -6.8228, -7.5774, -7.5774, -6.3598, -6.9648, -5.2287, -7.7292, -7.7292, -7.7292, -7.7292, -7.7292, -6.419, -6.9, -6.543, -6.9648, -6.787, -6.8446, -6.6996, -6.2494, -6.2755, -6.2846, -5.7624, -6.3643, -6.0811, -5.3635, -6.0937, -5.6629, -6.0653, -5.4126, -5.8476, -5.8218, -5.8221, -5.8781, -5.9654, -5.5967, -6.1442, -5.41, -5.9981, -5.957, -5.4187, -5.5414, -5.6582, -5.5683, -5.6119, -5.716, -5.6171, -5.6834, -5.8446, -5.9077, -5.9464, -5.985, -6.2927, -5.2239, -7.4423, -6.3568, -4.8708, -5.5076, -6.0488, -5.7805, -5.7044, -7.1483, -6.5194, -5.3548, -6.5318, -7.4423, -7.4455, -7.3172, -6.6888, -5.7122, -7.2286, -7.1345, -6.682, -7.0361, -7.6545, -7.6606, -7.161, -7.6856, -6.0721, -7.7214, -6.0223, -7.2294, -6.2549, -5.7903, -6.1218, -6.0552, -6.1399, -6.1147, -6.4339, -6.0991, -5.1755, -6.0096, -5.6007, -4.9649, -5.5017, -5.9357, -4.9409, -5.7222, -5.3433, -5.8653, -5.1892, -5.4107, -5.4954, -5.5061, -5.7057, -5.7479, -5.7613, -5.8779, -5.7369, -5.6815, -5.7654, -5.7625, -5.7938, -5.8551, -6.0487, -5.5499, -5.216, -7.2284, -7.3802, -6.63, -6.6344, -6.4259, -5.8566, -5.8391, -7.2396, -5.909, -6.9802, -6.6953, -6.9892, -6.164, -6.5202, -6.8777, -5.4854, -7.5988, -6.5025, -7.6091, -7.7775, -7.4867, -7.2683, -7.0966, -7.1029, -6.2686, -7.5593, -6.4678, -6.8158, -6.538, -6.4956, -5.4441, -5.5576, -5.166, -5.1198, -5.2938, -5.213, -6.1704, -6.0801, -5.5887, -5.6808, -5.5699, -5.8731, -5.4358, -5.4218, -5.6965, -5.9658, -5.5963, -5.4455, -5.4322, -6.1003, -5.9471, -5.9033, -5.877, -5.6961, -5.7074, -5.7895, -5.8087, -5.7887, -5.8675, -5.7832, -5.8885, -3.492, -5.0946, -5.2496, -5.671, -5.0775, -5.7539, -5.717, -5.3202, -4.6942, -5.956, -5.8917, -6.0235, -6.1851, -5.5104, -5.4903, -6.3543, -5.9807, -6.6131, -6.7314, -5.9935, -6.3543, -6.3543, -6.1753, -6.0235, -6.1753, -6.0235, -6.8522, -7.2625, -6.8883, -6.1838, -6.0234, -4.9044, -4.6707, -4.5259, -5.2047, -5.6371, -5.3228, -5.5201, -4.2179, -5.6601, -5.3504, -5.1793, -5.2486, -5.5727, -5.6123, -5.4298, -5.4113, -5.6441, -5.541, -5.3949, -5.5185, -5.5859, -5.613, -6.3157, -6.5962, -6.7471, -6.9569, -6.5485, -7.0008, -6.7471, -5.8901, -6.0987, -6.2925, -7.172, -5.0028, -7.3223, -6.7165, -6.7927, -6.3347, -6.9953, -6.2972, -6.9066, -7.2197, -6.8217, -7.5444, -5.9672, -7.3868, -7.5444, -6.6266, -7.1501, -6.5763, -7.1725, -7.1708, -6.9005, -5.5513, -5.7243, -6.5291, -5.061, -5.6724, -5.1656, -6.394, -5.7392, -5.4752, -5.7886, -5.2813, -5.1486, -5.0625, -5.6966, -5.7397, -3.9981, -5.2361, -5.9744, -5.2213, -5.5548, -5.9727, -5.3492, -5.8615, -5.1483, -5.2974, -5.619, -5.4175, -5.7272, -5.4005, -5.6687, -5.2518, -5.6122, -5.3595, -5.5686, -5.6226, -5.5266, -5.6018, -5.5762, -5.6399, -5.6422, -5.6586, -6.716, -4.5537, -7.225, -7.2735, -7.3783, -7.4352, -7.4378, -7.2425, -7.6281, -7.6283, -7.6295, -7.7016, -7.7026, -7.8673, -7.8673, -7.8673, -7.8673, -7.8673, -7.8673, -6.024, -7.9617, -7.9617, -7.9617, -7.9617, -7.656, -8.066, -8.066, -8.066, -8.066, -8.066, -6.8522, -5.8415, -6.6924, -7.5596, -7.092, -5.007, -6.9459, -6.3792, -6.3076, -5.962, -7.0721, -7.1709, -5.9468, -6.3647, -6.6915, -5.986, -6.5509, -5.717, -6.4051, -6.4232, -5.5907, -5.1779, -6.9078, -5.8852, -5.8735, -5.59, -5.7684, -6.2989, -6.0105, -5.9542, -6.0925, -5.5028, -5.8599, -5.1761, -4.736, -6.2417, -6.2553, -5.8204, -5.8162, -5.8666, -5.9693, -5.9827, -5.6491, -6.0651, -5.6948, -5.7132, -5.6672, -5.6996, -5.7587, -5.9453, -5.947, -5.8694, -5.9518, -5.2165, -6.8623, -5.9764, -7.2602, -6.5786, -5.7066, -6.8629, -5.6426, -6.9996, -6.6191, -7.0395, -6.3608, -7.4021, -6.0252, -7.2864, -6.6617, -6.7293, -6.417, -7.0192, -5.3054, -6.1743, -6.2572, -6.8129, -6.6179, -5.5829, -6.4224, -6.8983, -6.6923, -7.6774, -6.9977, -5.4969, -5.4255, -5.9728, -5.3069, -5.8867, -5.7893, -4.7658, -3.6009, -5.2018, -5.1821, -5.6502, -5.3804, -5.2729, -5.4922, -5.847, -5.7456, -5.6284, -5.8043, -5.0227, -5.536, -5.3315, -5.2854, -5.3813, -5.4338, -5.6843, -5.5445, -5.2673, -5.6704, -5.5793, -4.988, -6.3355, -7.2419, -7.2419, -6.2937, -7.1197, -6.2784, -6.7671, -5.4754, -6.7377, -6.693, -6.9584, -6.6433, -6.6333, -7.1365, -7.6392, -5.6674, -6.8733, -6.0495, -7.6701, -5.8016, -6.333, -6.0989, -7.2885, -6.0534, -6.9298, -6.2203, -6.1524, -6.6923, -6.486, -4.8871, -5.2781, -5.3023, -5.9195, -5.7474, -6.1065, -5.8777, -6.2317, -5.633, -5.2519, -6.0571, -5.4362, -4.5326, -5.8715, -6.2128, -5.2385, -5.6811, -5.2319, -5.5418, -5.8153, -5.7669, -5.3134, -5.7337, -5.7144, -5.7644, -5.8584, -5.6517, -5.8464, -5.9299, -5.7742, -5.9227, -6.6933, -6.6933, -6.7445, -7.2025, -6.5539, -7.3354, -7.3369, -7.5456, -6.2939, -7.6059, -7.67, -7.67, -7.7385, -7.6748, -7.8121, -7.0856, -7.8154, -7.8915, -7.8915, -7.8915, -7.8915, -7.8199, -7.9778, -7.9778, -7.9778, -7.9778, -7.8262, -8.0722, -8.0722, -8.0722, -7.5807, -7.582, -6.1563, -5.5921, -5.6081, -6.0643, -7.1297, -4.8525, -4.9551, -6.1231, -6.17, -6.8384, -6.509, -5.9762, -5.0047, -6.7975, -5.8311, -4.9387, -6.0681, -6.6129, -6.5096, -5.4495, -6.5359, -5.4242, -6.0703, -4.7657, -6.3717, -5.5203, -5.8657, -6.3338, -5.0337, -6.2831, -5.9598, -5.6101, -5.8476, -6.2459, -5.6632, -5.6439, -5.6881, -6.08, -5.8683, -6.1506, -6.0704, -5.9159, -5.869, -6.0734, -6.097, -5.3241, -6.5867, -5.5365, -5.6196, -5.5954, -6.5864, -6.2954, -5.8623, -5.5227, -5.1664, -5.3095, -5.5238, -6.6781, -7.3861, -6.5837, -6.8727, -4.6048, -7.5798, -4.7614, -5.2601, -5.9094, -6.6782, -5.9637, -6.4121, -5.9124, -7.1415, -7.2508, -6.5689, -6.8275, -7.0774, -6.3134, -6.5477, -5.1376, -5.9238, -6.5097, -5.222, -4.9762, -5.9414, -5.7707, -5.718, -5.2786, -4.9773, -5.6836, -6.1258, -6.0613, -5.1785, -5.786, -5.4615, -5.7318, -5.4994, -5.1058, -5.6467, -5.7175, -5.6907, -5.6635, -5.7981], \"loglift\": [30.0, 29.0, 28.0, 27.0, 26.0, 25.0, 24.0, 23.0, 22.0, 21.0, 20.0, 19.0, 18.0, 17.0, 16.0, 15.0, 14.0, 13.0, 12.0, 11.0, 10.0, 9.0, 8.0, 7.0, 6.0, 5.0, 4.0, 3.0, 2.0, 1.0, 2.2046, 2.1992, 2.1954, 2.1799, 2.1694, 2.1671, 2.1659, 2.1643, 2.1643, 2.1615, 2.1527, 2.1526, 2.1521, 2.1437, 2.1395, 2.1337, 2.1314, 2.1314, 2.1313, 2.1186, 2.1177, 2.1176, 2.1154, 2.1107, 2.1001, 2.0997, 2.0997, 2.0997, 2.0997, 2.0997, 2.095, 2.0989, 2.095, 2.0993, 2.0943, 2.0934, 2.0847, 2.0592, 2.06, 2.0515, 1.9982, 2.0417, 1.9971, 1.886, 1.9892, 1.871, 1.9435, 1.749, 1.8511, 1.8206, 1.8051, 1.755, 1.7146, 1.3618, 1.8447, 1.0779, 1.6777, 1.5638, 0.7313, 0.8284, 0.9485, 0.6267, 0.6692, 0.8494, 0.5082, 0.3262, 0.7817, 0.7562, 0.228, 0.9396, 2.6708, 2.5655, 2.5622, 2.5465, 2.5266, 2.4972, 2.4842, 2.4534, 2.4521, 2.4441, 2.4406, 2.4293, 2.4272, 2.4043, 2.399, 2.3964, 2.3935, 2.3856, 2.3657, 2.3555, 2.3553, 2.3534, 2.3433, 2.3397, 2.3232, 2.3135, 2.2834, 2.2729, 2.2683, 2.2591, 2.2078, 2.1708, 2.16, 2.1512, 2.1509, 2.1441, 2.0902, 1.9399, 1.5788, 1.9028, 1.7432, 1.4032, 1.6358, 1.8339, 1.2541, 1.6058, 1.3068, 1.6808, 0.8204, 0.6202, 0.679, 0.6572, 1.0724, 1.1624, 1.1867, 1.4553, 0.966, 0.7473, 0.8905, 0.5266, 0.6846, 0.5693, 2.5689, 2.5058, 2.5002, 2.4875, 2.4692, 2.4543, 2.451, 2.4204, 2.4098, 2.3976, 2.3538, 2.3292, 2.326, 2.3231, 2.3157, 2.2956, 2.2702, 2.27, 2.2584, 2.246, 2.2393, 2.2317, 2.2243, 2.221, 2.2178, 2.2139, 2.1994, 2.186, 2.1533, 2.1466, 2.1409, 2.1143, 2.11, 1.9398, 1.9518, 1.7674, 1.7558, 1.785, 1.7532, 1.9487, 1.8895, 1.6605, 1.6921, 1.5981, 1.7305, 1.4383, 1.33, 1.379, 1.6261, 1.0703, 0.7437, 0.7226, 1.6723, 1.3708, 1.2518, 1.1116, 0.4672, 0.3851, 0.4997, 0.538, 0.2511, 0.8752, -0.7178, 0.8734, 3.8104, 3.7181, 3.5471, 3.4312, 3.4297, 3.3403, 3.3103, 3.2392, 3.1243, 3.1155, 3.115, 3.1124, 3.0933, 3.0679, 3.0537, 2.9995, 2.9705, 2.9091, 2.8944, 2.8883, 2.8416, 2.8346, 2.8222, 2.8187, 2.8176, 2.8121, 2.7778, 2.7732, 2.7429, 2.741, 2.7081, 2.605, 2.5206, 2.3369, 2.4283, 2.5576, 2.0075, 2.1449, 0.8475, 2.2527, 1.7656, 1.4804, 1.5112, 1.9689, 1.9486, 1.3573, 1.1542, 1.8898, 1.3942, 0.636, 0.6069, 1.0403, 0.9081, 2.7076, 2.7049, 2.6425, 2.6296, 2.6196, 2.5872, 2.5786, 2.5562, 2.5459, 2.5419, 2.5299, 2.5295, 2.5246, 2.5191, 2.5027, 2.5002, 2.4877, 2.4871, 2.4819, 2.481, 2.4757, 2.4526, 2.4487, 2.4483, 2.4459, 2.4422, 2.4329, 2.4303, 2.4137, 2.4115, 2.4051, 2.3549, 2.2695, 2.3222, 2.101, 2.1739, 2.0752, 2.299, 2.1498, 2.0641, 2.1181, 1.9491, 1.7722, 1.7349, 1.9767, 1.9858, 1.0673, 1.6425, 2.0655, 1.5992, 1.768, 2.0434, 1.5885, 1.9284, 1.1169, 1.2552, 1.6206, 1.2088, 1.6637, 1.1206, 1.5666, 0.7791, 1.3485, 0.6501, 1.091, 1.23, 0.3887, 0.886, 0.5491, 1.016, 0.8389, 0.3543, 1.45, 1.4431, 1.4343, 1.4324, 1.4279, 1.4252, 1.4227, 1.4172, 1.4151, 1.4149, 1.4138, 1.4108, 1.4098, 1.3998, 1.3998, 1.3998, 1.3998, 1.3998, 1.3998, 1.3959, 1.3927, 1.3927, 1.3927, 1.3927, 1.3882, 1.3841, 1.3841, 1.3841, 1.3841, 1.3841, 1.345, 1.2881, 1.3251, 1.3609, 1.329, 1.1856, 1.3111, 1.2503, 1.2413, 1.2047, 1.3132, 1.3239, 1.1719, 1.2221, 1.2567, 1.1675, 1.2316, 1.1008, 1.1779, 1.1788, 1.0071, 0.9106, 1.2633, 0.9901, 0.9857, 0.8911, 0.9422, 1.0984, 1.0116, 0.9761, 1.0233, 0.7624, 0.8999, 0.5882, 0.3295, 1.0457, 1.0481, 0.7583, 0.7492, 0.7597, 0.8281, 0.8378, 0.5009, 0.8816, 0.4305, 0.4415, 0.3424, 0.3313, 0.4305, 0.7058, 0.7126, 0.305, 0.5693, 2.6422, 2.607, 2.5774, 2.5668, 2.552, 2.5367, 2.5089, 2.4944, 2.4681, 2.4417, 2.4327, 2.4283, 2.4242, 2.4188, 2.4083, 2.4021, 2.4002, 2.3569, 2.352, 2.3489, 2.334, 2.3303, 2.328, 2.3169, 2.3125, 2.3113, 2.3111, 2.3048, 2.3018, 2.2957, 2.2906, 2.2338, 2.2433, 2.1064, 2.1692, 2.0719, 1.8014, 1.4646, 1.8828, 1.8638, 1.9539, 1.8211, 1.6373, 1.7447, 1.8741, 1.7831, 1.654, 1.7933, 1.0697, 1.4594, 1.2211, 1.072, 1.1974, 1.2321, 1.5598, 1.2467, 0.2694, 1.1963, 0.5706, 2.6802, 2.6266, 2.6072, 2.6072, 2.5012, 2.4718, 2.4709, 2.4547, 2.4384, 2.4133, 2.3943, 2.3861, 2.3783, 2.3777, 2.363, 2.3624, 2.3608, 2.3449, 2.3353, 2.3241, 2.3218, 2.3184, 2.3172, 2.3068, 2.3008, 2.2935, 2.269, 2.2651, 2.2586, 2.2574, 2.2361, 2.1362, 2.132, 2.1791, 2.0877, 2.134, 2.0802, 2.1174, 1.8384, 1.6624, 1.9786, 1.6033, 1.0041, 1.7874, 2.0236, 1.169, 1.4995, 1.0573, 1.3644, 1.554, 1.4797, 0.6019, 1.2688, 1.0637, 1.1794, 1.4186, 0.4407, 1.149, 1.4951, 0.4002, 0.1082, 1.3499, 1.3499, 1.3488, 1.336, 1.3324, 1.3311, 1.3297, 1.3219, 1.3209, 1.319, 1.3156, 1.3156, 1.3118, 1.311, 1.3074, 1.3051, 1.3042, 1.3023, 1.3023, 1.3023, 1.3023, 1.2999, 1.2963, 1.2963, 1.2963, 1.2963, 1.2938, 1.2892, 1.2892, 1.2892, 1.2879, 1.2853, 1.2702, 1.2625, 1.2273, 1.2408, 1.2631, 1.1605, 1.1512, 1.1867, 1.1861, 1.2334, 1.1904, 1.1312, 1.0351, 1.2055, 1.0882, 0.9766, 1.1113, 1.1762, 1.1558, 0.9719, 1.1481, 0.9502, 1.0532, 0.771, 1.1145, 0.9041, 0.9795, 1.1, 0.7307, 1.0739, 0.967, 0.8187, 0.8183, 1.033, 0.626, 0.5194, 0.4043, 0.7985, 0.4891, 0.8726, 0.6833, 0.2733, -0.8035, 0.0814, 0.1841, 2.694, 2.6309, 2.6045, 2.6031, 2.5996, 2.5544, 2.5369, 2.5177, 2.491, 2.4841, 2.4762, 2.4753, 2.4636, 2.4449, 2.4319, 2.425, 2.4205, 2.4134, 2.4106, 2.409, 2.3996, 2.3954, 2.3903, 2.3763, 2.3403, 2.3307, 2.325, 2.3151, 2.3138, 2.2987, 2.286, 2.2776, 2.1566, 2.2219, 2.2684, 2.0559, 1.9719, 2.1312, 2.0778, 2.0463, 1.8091, 1.5753, 1.9023, 2.1571, 2.0826, 1.229, 1.8016, 1.4053, 1.6932, 1.3167, 0.4309, 1.3111, 1.5221, 1.4252, 1.1277, 1.6122]}, \"token.table\": {\"Topic\": [2, 8, 1, 2, 3, 4, 5, 6, 7, 8, 9, 10, 1, 2, 3, 4, 5, 6, 7, 8, 9, 10, 1, 2, 3, 4, 5, 6, 7, 8, 9, 10, 1, 3, 7, 8, 9, 10, 1, 2, 3, 5, 6, 7, 8, 9, 10, 1, 2, 3, 5, 6, 7, 8, 9, 10, 6, 8, 7, 8, 9, 1, 8, 9, 10, 1, 2, 3, 8, 9, 7, 2, 6, 7, 8, 9, 6, 10, 2, 6, 9, 3, 5, 6, 7, 8, 9, 10, 2, 6, 10, 7, 8, 10, 2, 3, 4, 7, 8, 9, 10, 1, 8, 10, 2, 3, 4, 6, 8, 9, 10, 4, 6, 8, 9, 3, 9, 10, 2, 10, 1, 2, 3, 5, 6, 7, 8, 9, 10, 3, 5, 1, 1, 4, 5, 7, 6, 1, 3, 6, 7, 9, 2, 7, 9, 1, 2, 3, 6, 7, 8, 9, 10, 1, 2, 3, 4, 8, 9, 10, 1, 3, 5, 6, 7, 8, 9, 3, 6, 7, 1, 2, 6, 8, 9, 1, 2, 4, 9, 3, 4, 5, 6, 7, 9, 10, 5, 6, 9, 10, 9, 10, 6, 7, 9, 10, 1, 2, 3, 6, 7, 8, 9, 10, 1, 7, 8, 6, 7, 9, 3, 5, 7, 9, 2, 7, 1, 2, 3, 4, 5, 8, 9, 10, 4, 7, 9, 2, 7, 8, 1, 3, 4, 5, 6, 9, 10, 4, 5, 6, 1, 4, 6, 3, 7, 3, 7, 6, 1, 6, 9, 1, 2, 4, 6, 1, 1, 2, 3, 4, 8, 9, 1, 2, 3, 5, 6, 7, 8, 9, 10, 2, 6, 7, 8, 1, 2, 5, 6, 7, 8, 9, 2, 3, 9, 5, 6, 1, 2, 3, 5, 6, 7, 8, 9, 4, 6, 8, 10, 6, 8, 10, 7, 9, 7, 9, 10, 1, 2, 5, 1, 6, 2, 6, 10, 3, 6, 9, 10, 2, 3, 7, 9, 1, 3, 6, 9, 1, 9, 10, 1, 6, 8, 10, 2, 3, 4, 5, 6, 8, 9, 10, 1, 3, 4, 5, 6, 7, 9, 9, 1, 3, 5, 6, 7, 8, 9, 2, 4, 6, 10, 2, 3, 8, 9, 4, 6, 1, 4, 8, 9, 1, 3, 6, 7, 8, 9, 2, 7, 2, 6, 9, 10, 2, 6, 8, 1, 9, 10, 3, 4, 7, 9, 10, 1, 2, 3, 5, 6, 7, 8, 9, 3, 4, 6, 9, 1, 3, 6, 9, 2, 6, 7, 9, 3, 5, 6, 7, 8, 9, 10, 1, 2, 3, 6, 7, 8, 9, 10, 1, 2, 5, 2, 3, 5, 6, 7, 8, 9, 10, 1, 3, 5, 6, 9, 1, 5, 1, 4, 6, 1, 2, 4, 6, 8, 9, 1, 8, 9, 6, 1, 2, 3, 4, 5, 6, 8, 9, 9, 2, 3, 5, 6, 7, 8, 9, 10, 2, 9, 1, 2, 3, 4, 5, 6, 9, 10, 1, 7, 9, 6, 7, 8, 9, 9, 3, 6, 8, 9, 1, 2, 3, 5, 6, 7, 9, 10, 3, 9, 3, 8, 9, 9, 9, 9, 3, 6, 9, 10, 1, 2, 3, 4, 5, 7, 8, 9, 10, 1, 6, 9, 2, 3, 7, 8, 9, 1, 3, 6, 9, 10, 1, 2, 3, 6, 8, 9, 2, 6, 7, 8, 9, 10, 1, 3, 5, 6, 7, 9, 10, 1, 2, 6, 7, 2, 3, 6, 8, 5, 6, 2, 7, 8, 1, 2, 3, 4, 5, 6, 7, 8, 9, 1, 2, 9, 6, 3, 4, 6, 8, 9, 1, 6, 7, 6, 1, 3, 5, 6, 8, 3, 8, 9, 10, 6, 7, 1, 2, 3, 4, 5, 6, 7, 8, 9, 10, 1, 2, 3, 4, 5, 6, 7, 8, 9, 6, 9, 3, 9, 2, 3, 9, 9, 5, 7, 9, 9, 1, 2, 3, 7, 8, 9, 10, 1, 6, 7, 8, 9, 10, 6, 10, 6, 8, 10, 2, 3, 7, 8, 9, 10, 3, 9, 10, 1, 2, 3, 5, 8, 9, 10, 1, 2, 3, 8, 9, 10, 1, 4, 5, 6, 7, 9, 10, 1, 5, 6, 9, 5, 9, 2, 4, 6, 8, 3, 7, 1, 2, 3, 4, 5, 6, 8, 9, 1, 5, 6, 9, 10, 1, 5, 6, 1, 3, 3, 4, 7, 9, 2, 3, 6, 7, 8, 9, 2, 4, 7, 8, 9, 1, 2, 9, 10, 2, 3, 9, 9, 3, 7, 8, 9, 1, 3, 9, 1, 3, 6, 10, 2, 3, 9, 1, 2, 3, 5, 9, 3, 5, 3, 9, 1, 3, 6, 7, 8, 2, 6, 7, 10, 9, 10, 2, 7, 8, 10, 3, 8, 1, 2, 3, 6, 9, 10, 1, 5, 9, 7, 9, 2, 9, 1, 2, 5, 7, 8, 9, 10, 1, 2, 3, 4, 5, 6, 9, 1, 2, 3, 4, 5, 6, 7, 8, 9, 2, 3, 8, 1, 2, 3, 6, 7, 8, 5, 6, 9, 2, 3, 6, 8, 9, 10, 1, 3, 4, 9, 2, 3, 4, 6, 7, 8, 9, 10, 1, 3, 4, 5, 6, 2, 4, 5, 6, 3, 4, 5, 6, 9, 1, 4, 6, 6, 1, 10, 1, 5, 7, 8, 10, 5, 9, 8, 1, 2, 3, 4, 6, 7, 9, 5, 8, 9, 10, 1, 2, 3, 6, 9, 10, 1, 2, 3, 7, 8, 9, 10, 3, 5, 6, 7, 8, 9, 2, 6, 7, 2, 1, 3, 8, 9, 10, 2, 6, 8, 10, 1, 3, 5, 6, 9, 1, 3, 4, 1, 2, 4, 6, 7, 6, 4, 8, 1, 2, 3, 4, 5, 6, 1, 5, 7, 8, 2, 6, 9, 1, 2, 3, 5, 6, 7, 8, 9, 10, 1, 6, 7, 9, 7, 9, 2, 3, 6, 2, 4, 5, 6, 9, 1, 2, 3, 4, 5, 6, 8, 9, 6, 1, 2, 3, 4, 5, 6, 7, 8, 9, 10, 9, 1, 3, 4, 5, 6, 7, 9, 2, 3, 4, 5, 7, 8, 9, 10, 5, 9, 1, 3, 5, 6, 3, 7, 6, 9, 5, 6, 1, 3, 4, 5, 6, 7, 8, 9, 10, 6, 7, 8, 9, 10, 2, 3, 9, 3, 4, 5, 6, 7, 9, 1, 5, 6, 9, 10, 1, 4, 9, 1, 10, 6, 8, 4, 5, 6, 5, 8, 1, 2, 3, 4, 5, 6, 7, 8, 9, 10, 1, 2, 3, 4, 6, 7, 1, 2, 1, 5, 6, 1, 1, 3, 4, 5, 6, 7, 8, 9, 10, 1, 2, 5, 6, 7, 9, 9, 1, 7, 8, 1, 2, 3, 5, 6, 7, 9, 10, 6, 7, 9, 1, 4, 6, 8, 9, 1, 4, 8, 5, 6, 7, 8, 9, 10, 9, 1, 2, 3, 9, 10, 1, 3, 6, 7, 9, 10, 2, 2, 7, 8, 9, 1, 3, 9, 10, 1, 9, 10, 3, 9, 2, 6, 7, 8, 9, 10, 3, 5, 6, 9, 7, 9, 6, 6, 1, 2, 3, 5, 6, 7, 9, 1, 2, 6, 7, 9, 5, 7, 3, 4, 6, 7, 9, 3, 4, 9, 1, 6, 6, 1, 3, 4, 5, 6, 7, 9, 6, 8, 1, 2, 3, 4, 5, 6, 7, 8, 9, 4, 5, 8, 9, 1, 2, 3, 4, 7, 9, 10, 2, 3, 6, 7, 9, 10, 2, 3, 8, 9, 6, 1, 4, 6, 7, 9, 1, 2, 3, 4, 5, 6, 7, 8, 9, 1, 8, 9, 7, 9, 1, 2, 3, 4, 5, 6, 7, 8, 9, 1, 2, 3, 4, 8, 9, 10, 2, 3, 6, 10, 2, 6, 8, 1, 2, 3, 4, 5, 6, 7, 8, 9, 1, 4, 5, 1, 2, 3, 4, 5, 6, 7, 8, 9, 10, 1, 2, 4, 5, 6, 8, 1, 2, 5, 6, 7, 8, 9, 10, 2, 3, 4, 9, 10, 3, 4, 5, 6, 9, 2, 5, 6, 5, 6, 6, 1, 6, 6, 8, 1, 2, 3, 5, 6, 7, 8, 9, 10, 1, 2, 3, 4, 8, 9, 10, 1, 2, 3, 6, 7, 9, 10, 3, 9, 10, 1, 9, 1, 10, 1, 2, 3, 4, 7, 8, 9, 2, 3, 4, 5, 6, 7, 8, 9, 10, 1, 2, 3, 4, 5, 6, 8, 9, 10, 6, 7, 8, 9, 2, 3, 5, 6, 8, 9, 1, 3, 5, 8, 9, 10, 2, 3, 6, 7, 8, 9, 10, 1, 2, 5, 6, 9, 3, 9, 10, 3, 3, 9, 3, 5, 6, 10, 2, 6, 7, 8, 1, 2, 3, 5, 6, 7, 9, 6, 3, 5, 6, 2, 9, 3, 10, 1, 3, 4, 6, 9, 10, 3, 5, 6, 7, 9, 10, 1, 2, 6, 8, 9, 1, 2, 3, 6, 7, 8, 9, 10, 2, 3, 8, 9, 1, 2, 3, 5, 6, 7, 8, 9, 10, 4, 9, 1, 3, 5, 6, 7, 8, 9, 10, 6, 9, 3, 4, 9, 1, 2, 3, 4, 6, 7, 8, 9, 10, 1, 2, 9, 10, 1, 2, 3, 4, 5, 6, 7, 9, 10, 6, 4, 8, 9, 10, 6, 1, 6, 1, 7, 9, 2, 5, 7, 9, 10, 2, 3, 5, 6, 8, 9, 3, 6, 8, 1, 2, 3, 4, 5, 6, 7, 8, 9, 10, 1, 5, 6, 1, 2, 6, 9, 10, 1, 6, 9, 1, 1, 4, 1, 4, 1, 4, 1, 2, 3, 5, 6, 7, 8, 9, 10, 1, 2, 6, 7, 9, 10, 2, 6, 7, 9, 10, 1, 4, 6, 10, 1, 4, 3, 6, 3, 3, 6, 7, 9, 1, 2, 3, 9, 10, 3, 7, 9, 2, 5, 6, 8, 9, 1, 4, 9, 1, 3, 4, 6, 10, 4, 9, 2, 3, 4, 6, 7, 8, 9, 10, 9, 1, 3, 4, 6, 8, 9, 10, 1, 2, 3, 4, 6, 8, 9, 10, 5, 7, 3, 9, 2, 3, 6, 8, 9, 10, 1, 2, 3, 6, 7, 8, 9, 10, 2, 9, 1, 2, 3, 6, 7, 8, 9, 10, 5, 7, 9, 10, 1, 2, 3, 4, 7, 8, 9, 10, 5, 8, 9, 10, 2, 3, 6, 7, 8, 9, 10, 2, 8, 9, 10, 1, 2, 3, 6, 8, 9, 10, 1, 3, 8, 1, 3, 2, 3, 4, 5, 8, 9, 10, 3, 8, 10, 2, 5, 9, 3, 5, 10, 4, 7, 9, 2, 8, 9, 1, 2, 3, 4, 7, 8, 9, 10, 7, 9, 10, 4, 6, 8, 9, 5, 9, 2, 8, 9, 1, 7, 9, 2, 3, 6, 7, 8, 9, 10, 9, 1, 3, 6, 7, 8, 9, 10, 6, 2, 9, 1, 2, 3, 7, 8, 9, 10, 1, 3, 5, 6, 7, 8, 9, 2, 6, 9, 10, 1, 2, 3, 4, 5, 6, 7, 8, 9, 2, 4, 6, 7, 8, 1, 4, 1, 2, 4, 5, 6, 7, 9, 1, 2, 4, 5, 6, 7, 8, 9, 1, 2, 9, 1, 2, 1, 3, 4, 5, 6, 7, 9, 10, 2, 3, 5, 6, 7, 9, 10, 1, 4, 9, 5, 6, 7, 8, 9, 1, 2, 3, 4, 5, 6, 7, 8, 9, 1, 2, 3, 6, 7, 8, 9, 10, 1, 9, 1, 2, 6, 8, 10, 1, 2, 3, 4, 5, 6, 8, 9, 10, 2, 3, 5, 6, 9, 2, 3, 5, 6, 8, 9, 10, 3, 7, 9, 9, 2, 3, 5, 6, 7, 8, 9, 10, 2, 3, 5, 6, 7, 8, 9, 10, 1, 2, 4, 6, 7, 8, 9, 10, 1, 5, 8, 9, 10, 5, 9, 3, 8, 9, 10, 3, 8, 3, 6, 8, 9, 1, 4, 6, 7, 9, 6, 4, 5, 6, 1, 3, 6, 8, 1, 6, 7, 8, 10, 4, 5, 1, 4, 6, 1, 2, 5, 6, 7, 8, 9, 6, 1, 2, 3, 9, 10, 1, 4, 5, 1, 5, 1, 7, 5, 6, 7, 3, 4, 9, 7, 9, 1, 5, 6, 4, 5, 1, 3, 4, 5, 6, 7, 8, 9, 10, 1, 2, 3, 4, 6, 7, 8, 9, 10, 2, 3, 4, 5, 6, 7, 8, 9, 10, 2, 3, 6, 8, 9, 10, 5, 8, 9, 2, 3, 4, 5, 6, 7, 9, 1, 4, 6, 3, 9, 1, 4, 6, 9, 2, 5, 6, 7, 8, 2, 3, 6, 7, 8, 9, 1, 3, 9, 2, 6, 1, 3, 4, 5, 6, 9, 10, 6, 5, 6, 6, 1, 2, 3, 6, 7, 8, 9, 10, 3, 4, 9, 10, 1, 3, 4, 7, 9, 5, 7, 8, 9, 10, 1, 2, 3, 4, 6, 7, 8, 3, 8, 9, 10, 1, 2, 8, 9, 10, 1, 3, 1, 3, 5, 6, 7, 8, 10, 1, 3, 4, 5, 6, 8, 9, 10, 3, 7, 8, 1, 5, 7, 8, 9, 10, 1, 2, 3, 4, 5, 6, 7, 8, 9, 6, 1, 4, 9, 5, 6, 1, 3, 4, 5, 6, 7, 8, 9, 5, 9, 3, 5, 6, 7, 9, 10, 6, 8, 10, 3, 7, 1, 3, 5, 9, 10, 1, 2, 4, 6, 9, 10, 3, 7, 8, 1, 6, 9, 3, 5, 9, 1, 3, 4, 5, 6, 7, 9, 1, 2, 4, 8, 9, 10, 2, 6, 1, 5, 1, 2, 5, 6, 8, 10, 2, 3, 5, 6, 8, 9, 10, 1, 2, 6, 7, 8, 9, 10, 1, 2, 3, 4, 5, 6, 8, 9, 10, 6, 2, 3, 5, 6, 1, 4, 5, 6, 8, 1, 2, 3, 6, 7, 8, 9, 2, 4, 6, 9, 3, 5, 8, 3, 8, 4, 5, 6, 8, 9, 1, 2, 3, 6, 8, 9, 10, 6, 8, 3, 7, 9, 10, 1, 5, 6, 7, 6, 2, 3, 5, 6, 9, 10, 1, 6, 10, 9, 1, 2, 3, 5, 6, 9, 10, 1, 3, 5, 6, 7, 1, 2, 4, 5, 6, 7, 8, 9, 10, 1, 2, 3, 4, 5, 6, 7, 8, 9, 10, 3, 4, 9, 6, 6, 8, 1, 3, 4, 6, 8, 1, 3, 4, 5, 6, 7, 9, 1, 3, 4, 6, 9, 10, 1, 2, 4, 5, 6, 9, 10, 2, 7, 5, 6, 1, 6, 7, 3, 5, 6, 8, 1, 2, 3, 6, 7, 8, 9, 10, 8, 1, 2, 3, 5, 6, 8, 9, 10, 1, 6, 9, 1, 6, 1, 3, 5, 6, 7, 9, 1, 2, 3, 6, 8, 9, 10, 1, 2, 5, 6, 8, 9], \"Freq\": [0.06258647663777218, 0.8762106729288106, 0.06389180806883386, 0.07454044274697284, 0.11003589167410277, 0.0035495448927129925, 0.007099089785425985, 0.03549544892712993, 0.19522496909921458, 0.09938725699596379, 0.3798013035202902, 0.03194590403441693, 0.19413479172827985, 0.0554670833509371, 0.17333463547167843, 0.048533697932069964, 0.02773354167546855, 0.09013401044527279, 0.11786755212074133, 0.1109341667018742, 0.09706739586413993, 0.08320062502640564, 0.3480923522794942, 0.011228785557403038, 0.07860149890182126, 0.011228785557403038, 0.011228785557403038, 0.022457571114806077, 0.31440599560728505, 0.11228785557403038, 0.06737271334441823, 0.011228785557403038, 0.0635983640687508, 0.3815901844125048, 0.0794979550859385, 0.158995910171877, 0.2384938652578155, 0.0794979550859385, 0.10858908997845078, 0.015512727139778682, 0.31025454279557363, 0.007756363569889341, 0.007756363569889341, 0.02326909070966802, 0.15512727139778681, 0.3024981792256843, 0.06205090855911473, 0.13046121363264718, 0.05218448545305888, 0.22613277029658846, 0.06957931393741183, 0.017394828484352958, 0.2087379418122355, 0.02609224272652944, 0.23483018453876495, 0.034789656968705916, 0.1622850477205113, 0.7302827147423009, 0.19502172443845156, 0.624069518203045, 0.11701303466307093, 0.10540349264690553, 0.6675554534304017, 0.17567248774484254, 0.03513449754896851, 0.12449430635869614, 0.06224715317934807, 0.6224715317934807, 0.06224715317934807, 0.06224715317934807, 0.8917201080463478, 0.6482985128977938, 0.06824194872608355, 0.1706048718152089, 0.10236292308912534, 0.9404412482886931, 0.14920631106005475, 0.7460315553002738, 0.5705719940365898, 0.2852859970182949, 0.1267937764525755, 0.05274577440234089, 0.04521066377343505, 0.022605331886717525, 0.06781599566015258, 0.09795643817577594, 0.6781599566015257, 0.030140442515623367, 0.20989036176574988, 0.06996345392191662, 0.6996345392191662, 0.14978246416212015, 0.07489123208106008, 0.7489123208106008, 0.022385800906853947, 0.022385800906853947, 0.014923867271235963, 0.022385800906853947, 0.014923867271235963, 0.8655843017316859, 0.03730966817808991, 0.3767510582969135, 0.2825632937226852, 0.3363848734793871, 0.02985871437821283, 0.01990580958547522, 0.07962323834190088, 0.02985871437821283, 0.04976452396368805, 0.7265620498698455, 0.05971742875642566, 0.3330491930265226, 0.055508198837753764, 0.4995737895397839, 0.11101639767550753, 0.9001892528517069, 0.03600757011406828, 0.054011355171102414, 0.08080086126036974, 0.8888094738640672, 0.04572597800829209, 0.12574643952280323, 0.11812544318808789, 0.007620996334715348, 0.175282915698453, 0.015241992669430696, 0.08002046151451116, 0.42677579474405947, 0.003810498167357674, 0.09597219348734055, 0.863749741386065, 0.9117079069144776, 0.07906691735520553, 0.31626766942082213, 0.3953345867760277, 0.15813383471041106, 0.9881036937397226, 0.05935897879606358, 0.11871795759212717, 0.05935897879606358, 0.6232692773586677, 0.08903846819409537, 0.16028870629150363, 0.6411548251660145, 0.08014435314575181, 0.08256131007741423, 0.3164850219634212, 0.02752043669247141, 0.07568120090429636, 0.04816076421182496, 0.12384196511612133, 0.26832425775159624, 0.05504087338494282, 0.10093187389794105, 0.33307518386320545, 0.08074549911835284, 0.010093187389794105, 0.060559124338764626, 0.33307518386320545, 0.07065231172855874, 0.08043166382486414, 0.4182446518892935, 0.03217266552994565, 0.11260432935480978, 0.03217266552994565, 0.08043166382486414, 0.2412949914745924, 0.13857231512710116, 0.06928615756355058, 0.7621477331990564, 0.034003280439411705, 0.034003280439411705, 0.5100492065911756, 0.3910377250532346, 0.017001640219705853, 0.047968768675407863, 0.0719531530131118, 0.023984384337703932, 0.8394534518196376, 0.05074575232711193, 0.008457625387851988, 0.2283558854720037, 0.4820846471075633, 0.0676610031028159, 0.1353220062056318, 0.025372876163555966, 0.8179630558147936, 0.11685186511639908, 0.16488175441516906, 0.7694481872707889, 0.2840311320413289, 0.5680622640826578, 0.01711183997228195, 0.051335519916845845, 0.8042564786972516, 0.10267103983369169, 0.03818138730673953, 0.05090851640898604, 0.01272712910224651, 0.03818138730673953, 0.2927239693516697, 0.3054510984539162, 0.22908832384043717, 0.03818138730673953, 0.15117948924824726, 0.07558974462412363, 0.6803077016171126, 0.1721078657992862, 0.6884314631971448, 0.0860539328996431, 0.05057398266770955, 0.1011479653354191, 0.5816008006786598, 0.25286991333854775, 0.7577671025376842, 0.15155342050753684, 0.13305829932822372, 0.16632287416027966, 0.024948431124041947, 0.016632287416027965, 0.016632287416027965, 0.20790359270034955, 0.35759417944460126, 0.07484529337212584, 0.07483674929660258, 0.6735307436694232, 0.22451024788980775, 0.11183140551898374, 0.7455427034598916, 0.11183140551898374, 0.08244305757386236, 0.09893166908863484, 0.07419875181647613, 0.18961903241988343, 0.46992542817101546, 0.057710140301703655, 0.008244305757386236, 0.26148094260704474, 0.1743206284046965, 0.5810687613489883, 0.6130011481909154, 0.2153787817968081, 0.14910838739779023, 0.10423621529205226, 0.7296535070443659, 0.26151350857187816, 0.6973693561916751, 0.9175824014435997, 0.8366579286973217, 0.03346631714789287, 0.10039895144367861, 0.8015695598682044, 0.051714165152787386, 0.10342833030557477, 0.051714165152787386, 0.8934317709380509, 0.1139428486691701, 0.6076951929022405, 0.1139428486691701, 0.03798094955639003, 0.03798094955639003, 0.1139428486691701, 0.22630011258452642, 0.11943617053072228, 0.04400279966921347, 0.10686394205380415, 0.282875140730658, 0.02514445695383627, 0.04400279966921347, 0.13829451324609948, 0.012572228476918135, 0.525038580798801, 0.20193791569184652, 0.20193791569184652, 0.0403875831383693, 0.16141319542436167, 0.021521759389914887, 0.04304351877982977, 0.11836967664453188, 0.41967430810334033, 0.010760879694957443, 0.23673935328906376, 0.0555248214527433, 0.7033144050680818, 0.2220992858109732, 0.6985927321862787, 0.23286424406209288, 0.09700784412208184, 0.12553956298151767, 0.0171190313156615, 0.005706343771887167, 0.10842053166585618, 0.40515040780398887, 0.068476125262646, 0.171190313156615, 0.14757693521163118, 0.12298077934302598, 0.6886923643209455, 0.04919231173721039, 0.025712360984413127, 0.4371101367350232, 0.5142472196882626, 0.7598254407105118, 0.20722512019377598, 0.8539795085907895, 0.09149780449187031, 0.03049926816395677, 0.08823485605579452, 0.17646971211158904, 0.6176439923905617, 0.960845084711023, 0.9638851735308485, 0.03860239649876221, 0.21231318074319214, 0.7334455334764819, 0.05206981117437596, 0.05206981117437596, 0.2603490558718798, 0.5727679229181356, 0.09182179422545338, 0.5968416624654469, 0.18364358845090675, 0.09182179422545338, 0.1188623450284532, 0.019810390838075533, 0.7428896564278326, 0.1188623450284532, 0.8795788276993023, 0.07996171160902749, 0.03998085580451374, 0.8934320636760207, 0.18565643878527768, 0.6188547959509256, 0.12377095919018512, 0.03294141807129464, 0.03294141807129464, 0.014117750601983415, 0.042353251805950246, 0.15529525662181756, 0.03764733493862244, 0.6541224445585648, 0.02823550120396683, 0.1126631567196549, 0.0250362570488122, 0.08136783540863965, 0.17525379934168542, 0.4694298196652288, 0.00625906426220305, 0.125181285244061, 0.946797808506564, 0.016018171161481555, 0.03203634232296311, 0.008009085580740778, 0.5366087339096322, 0.13615445487259323, 0.24828165300296412, 0.016018171161481555, 0.18312210324204556, 0.3662442064840911, 0.18312210324204556, 0.18312210324204556, 0.6395163236608846, 0.03197581618304423, 0.06395163236608846, 0.25580652946435384, 0.8084553413189167, 0.16169106826378335, 0.08586809426356012, 0.4293404713178006, 0.08586809426356012, 0.3434723770542405, 0.026597667982465083, 0.10639067192986033, 0.06649416995616271, 0.5452521936405342, 0.05319533596493017, 0.19948250986848814, 0.7061198442925988, 0.1765299610731497, 0.05787984988663704, 0.1736395496599111, 0.11575969977327408, 0.6366783487530074, 0.07250457009003146, 0.25376599531511007, 0.6525411308102831, 0.9259131145074837, 0.9189509469492582, 0.035344267190356084, 0.03970963636674105, 0.5956445455011157, 0.19854818183370523, 0.0794192727334821, 0.0794192727334821, 0.023295033249070042, 0.023295033249070042, 0.046590066498140084, 0.015530022166046695, 0.6134358755588444, 0.05435507758116343, 0.06212008866418678, 0.16306523274349027, 0.8180782617592187, 0.030299194879971063, 0.060598389759942126, 0.09089758463991318, 0.17525776558485676, 0.6134021795469986, 0.08762888279242838, 0.13144332418864255, 0.02078524006329847, 0.7586612623103941, 0.04157048012659694, 0.176674540538037, 0.07556170762928242, 0.018890426907320606, 0.22668512288784728, 0.09445213453660303, 0.018890426907320606, 0.11334256144392364, 0.47226067268301514, 0.037012381264582915, 0.009253095316145729, 0.023132738290364323, 0.27296631182629905, 0.19431500163906032, 0.023132738290364323, 0.41176274156848497, 0.027759285948437188, 0.10610862377025541, 0.7427603663917879, 0.10610862377025541, 0.019755025794155296, 0.009877512897077648, 0.019755025794155296, 0.6420383383100472, 0.009877512897077648, 0.009877512897077648, 0.029632538691232946, 0.25681533532401885, 0.8799852933503524, 0.012222017963199338, 0.024444035926398676, 0.012222017963199338, 0.06111008981599669, 0.2336246078016038, 0.7008738234048114, 0.34906217766446257, 0.4188746131973551, 0.20943730659867754, 0.13490203053707456, 0.017986937404943275, 0.026980406107414912, 0.6295428091730146, 0.16188243664448948, 0.008993468702471637, 0.911044612706862, 0.04338307679556486, 0.9329249361178749, 0.9264836130842745, 0.015119092813814556, 0.015119092813814556, 0.060476371255258225, 0.136071835324331, 0.18142911376577467, 0.3930964131591785, 0.015119092813814556, 0.16631002095196012, 0.9467977285610181, 0.11303917224055332, 0.008074226588610952, 0.008074226588610952, 0.3148948369558271, 0.08074226588610951, 0.33911751672165996, 0.12111339882916426, 0.016148453177221904, 0.7561751238919076, 0.15123502477838152, 0.06539156016189876, 0.0544929668015823, 0.043594373441265835, 0.04904367012142406, 0.17982679044522157, 0.40324795433170896, 0.1852760871253798, 0.021797186720632918, 0.060899792298149014, 0.6698977152796391, 0.24359916919259605, 0.15305157593276872, 0.18906371144636136, 0.0450151693919908, 0.6032032698526767, 0.9679650844144161, 0.1900394001186659, 0.027148485731237987, 0.013574242865618993, 0.7601576004746636, 0.014278592646520007, 0.11422874117216006, 0.007139296323260004, 0.007139296323260004, 0.1999002970512801, 0.2355967786675801, 0.22845748234432012, 0.19276100072802008, 0.4871310749506283, 0.4871310749506283, 0.1743944335330053, 0.10463666011980317, 0.7092040297008882, 0.9647299133556316, 0.9404412010911551, 0.9523587720660516, 0.7029267835671565, 0.050209055969082615, 0.15062716790724784, 0.050209055969082615, 0.061376114898364774, 0.28233012853247796, 0.11047700681705659, 0.04910089191869182, 0.02455044595934591, 0.02455044595934591, 0.07365133787803774, 0.29460535151215095, 0.07365133787803774, 0.905329626507002, 0.05325468391217659, 0.026627341956088294, 0.10649743316475341, 0.013312179145594176, 0.03993653743678253, 0.5457993449693612, 0.27955576205747773, 0.013476432010125874, 0.013476432010125874, 0.04042929603037762, 0.9029209446784335, 0.026952864020251748, 0.013752533377196098, 0.04813386682018634, 0.06876266688598048, 0.24066933410093172, 0.13064906708336294, 0.5019674682676576, 0.0382945802073947, 0.09573645051848674, 0.440387672385039, 0.0765891604147894, 0.31593028671100626, 0.028720935155546023, 0.018419969348882678, 0.027629954023324018, 0.018419969348882678, 0.07367987739553071, 0.43286927969874295, 0.3960293410009776, 0.027629954023324018, 0.036429830540521006, 0.036429830540521006, 0.8743159329725041, 0.036429830540521006, 0.7494072000890571, 0.062450600007421427, 0.062450600007421427, 0.062450600007421427, 0.6548871533237866, 0.2619548613295146, 0.11787565474703607, 0.11787565474703607, 0.5893782737351804, 0.6203736162864192, 0.020679120542880642, 0.06203736162864192, 0.03101868081432096, 0.020679120542880642, 0.020679120542880642, 0.03101868081432096, 0.010339560271440321, 0.17577252461448545, 0.8253836682373874, 0.0717724928902076, 0.0717724928902076, 0.9338958134759437, 0.019943327182227782, 0.4387531980090112, 0.2193765990045056, 0.11965996309336668, 0.19943327182227782, 0.03384714151178856, 0.2538535613384142, 0.7107899717475598, 0.9708841435621196, 0.1244315944396868, 0.02488631888793736, 0.4728400588708098, 0.22397686999143623, 0.1244315944396868, 0.11064473115539288, 0.19362827952193754, 0.08298354836654465, 0.5532236557769643, 0.0740700222265484, 0.8888402667185809, 0.07676842033073837, 0.12015926660463397, 0.050066361085264154, 0.03671533146252704, 0.1301725388216868, 0.3204247109456906, 0.04672860367957987, 0.07009290551936981, 0.12015926660463397, 0.030039816651158492, 0.09242688403866177, 0.01421952062133258, 0.08531712372799548, 0.07109760310666291, 0.04976832217466403, 0.40525633770797853, 0.04265856186399774, 0.06398784279599662, 0.18485376807732354, 0.9338958883088457, 0.9329249553232816, 0.6781574599695204, 0.2260524866565068, 0.016268653514032626, 0.016268653514032626, 0.9435819038138923, 0.9833543698104119, 0.10368929456136379, 0.7258250619295465, 0.1555339418420457, 0.9404413639325074, 0.006298259441029789, 0.025193037764119155, 0.025193037764119155, 0.2330355993181022, 0.0629825944102979, 0.5731416091337108, 0.06928085385132768, 0.37127790687134415, 0.0265198504908103, 0.039779775736215446, 0.25193857966269784, 0.01325992524540515, 0.3049782806443184, 0.3820639801124516, 0.6003862544624239, 0.08753553127479276, 0.17507106254958552, 0.7002842501983421, 0.03786314108014604, 0.7193996805227748, 0.03786314108014604, 0.03786314108014604, 0.03786314108014604, 0.07572628216029208, 0.6341522964432401, 0.10569204940720668, 0.10569204940720668, 0.06083716216581925, 0.08111621622109233, 0.06083716216581925, 0.040558108110546165, 0.5272554054371001, 0.16223243244218466, 0.08111621622109233, 0.03478162361542949, 0.13912649446171796, 0.10931367421992126, 0.059625640483593416, 0.576381191341403, 0.07950085397812455, 0.016254891862200645, 0.048764675586601934, 0.3494801750373139, 0.5364114314526213, 0.024382337793300967, 0.016254891862200645, 0.008127445931100322, 0.05824629604837649, 0.029123148024188247, 0.8736944407256474, 0.9467980982088855, 0.6999628399622563, 0.17499070999056407, 0.6747316784380557, 0.13494633568761114, 0.06747316784380557, 0.06747316784380557, 0.7945756666169023, 0.17657237035931161, 0.2506390770822838, 0.03987439862672696, 0.022785370643843977, 0.06265976927057094, 0.1082305105582589, 0.4841891261816845, 0.011392685321921989, 0.017089027982882983, 0.7477986069363531, 0.04824507141524859, 0.09649014283049719, 0.09649014283049719, 0.024122535707624296, 0.08733199450357527, 0.6986559560286022, 0.17466398900715055, 0.9513847403411565, 0.02973077313566114, 0.13190865045455374, 0.011991695495868522, 0.011991695495868522, 0.827426989214928, 0.18566982876919202, 0.011604364298074502, 0.046417457192298006, 0.17406546447111754, 0.26690037885571355, 0.31331783604801156, 0.09939085077106904, 0.2981725523132071, 0.04969542538553452, 0.14908627615660355, 0.3975634030842762, 0.05229928763174496, 0.05229928763174496, 0.8019224103534227, 0.10459857526348992, 0.7057802200599756, 0.07057802200599757, 0.14115604401199514, 0.9738104068939875, 0.01809300022359925, 0.434232005366382, 0.01809300022359925, 0.5066040062607791, 0.22604572229781472, 0.6404628798438083, 0.11302286114890736, 0.06157944125065169, 0.1847383237519551, 0.12315888250130338, 0.6465841331318428, 0.7742303982787362, 0.0407489683304598, 0.1629958733218392, 0.018992787163482468, 0.41784131759661425, 0.018992787163482468, 0.07597114865392987, 0.4558268919235792, 0.7080788392111009, 0.17701970980277523, 0.8486085325164137, 0.07071737770970114, 0.1022226027193429, 0.13629680362579052, 0.1022226027193429, 0.03407420090644763, 0.647409817222505, 0.029876294810359628, 0.08962888443107889, 0.029876294810359628, 0.8365362546900695, 0.24240429032529875, 0.7514533000084261, 0.03496467394801528, 0.10489402184404584, 0.06992934789603056, 0.7692228268563361, 0.7093468462289911, 0.26600506733587165, 0.21892173210830532, 0.03807334471448788, 0.43784346421661063, 0.03807334471448788, 0.23795840446554925, 0.02855500853586591, 0.09585509774456939, 0.6709856842119857, 0.09585509774456939, 0.8300984993768584, 0.1037623124221073, 0.671671266056708, 0.19190607601620227, 0.04781676491197638, 0.09563352982395276, 0.5738011789437165, 0.09563352982395276, 0.04781676491197638, 0.04781676491197638, 0.04781676491197638, 0.02068805740678613, 0.010344028703393064, 0.04137611481357226, 0.031032086110179193, 0.486169349059474, 0.3723850333221503, 0.04137611481357226, 0.10016936989173933, 0.03338978996391311, 0.06677957992782622, 0.04451971995188415, 0.2782482496992759, 0.30050810967521796, 0.05564964993985518, 0.022259859975942074, 0.0890394399037683, 0.8523153281185851, 0.019370802911786025, 0.11622481747071615, 0.05348747420830983, 0.09169281292853114, 0.06876960969639835, 0.6112854195235409, 0.05348747420830983, 0.11461601616066393, 0.20485678801717647, 0.7406360797544073, 0.03151642892571946, 0.5575421121672229, 0.030974561787067943, 0.12389824714827177, 0.09292368536120382, 0.12389824714827177, 0.061949123574135886, 0.28568000780886826, 0.07142000195221707, 0.5713600156177365, 0.07142000195221707, 0.06129388664858286, 0.05253761712735674, 0.008756269521226122, 0.008756269521226122, 0.28895689420046206, 0.20139419898820082, 0.35900705037027103, 0.02626880856367837, 0.011903314192661017, 0.023806628385322035, 0.8689419360642543, 0.011903314192661017, 0.08332319934862711, 0.30952609041415485, 0.3714313084969858, 0.06190521808283097, 0.1857156542484929, 0.05537957580802275, 0.022151830323209103, 0.4098088609793684, 0.3433533700097411, 0.1550628122624637, 0.1308762080787225, 0.4580667282755288, 0.3926286242361675, 0.9338959081034188, 0.9456815354662895, 0.031522717848876315, 0.29071447201255257, 0.4070002608175736, 0.21319061280920523, 0.05814289440251052, 0.01938096480083684, 0.7163962502768736, 0.22042961546980724, 0.9116827347482247, 0.046669741000231524, 0.1750115287508682, 0.03500230575017364, 0.011667435250057881, 0.23334870500115762, 0.3500230575017364, 0.14000922300069457, 0.05412884996708292, 0.10825769993416584, 0.14434359991222112, 0.6946535745775642, 0.08462351877535775, 0.04835629644306157, 0.29013777865836937, 0.12089074110765391, 0.38685037154449253, 0.060445370553826955, 0.0225721727481953, 0.0902886909927812, 0.38372693671932007, 0.12414695011507415, 0.0677165182445859, 0.23700781385605063, 0.0677165182445859, 0.07835367254803424, 0.01958841813700856, 0.05876525441102569, 0.01958841813700856, 0.03917683627401712, 0.7835367254803425, 0.7928704774750193, 0.14415826863182168, 0.024026378105303614, 0.9401131862748675, 0.0811580356054468, 0.054105357070297865, 0.6492642848435743, 0.1623160712108936, 0.054105357070297865, 0.7553487187363404, 0.15106974374726806, 0.030213948749453615, 0.030213948749453615, 0.7793730559984813, 0.05195820373323208, 0.02597910186661604, 0.07793730559984813, 0.02597910186661604, 0.26520446958438715, 0.05304089391687743, 0.6895316209194066, 0.12487594758401037, 0.04162531586133679, 0.04162531586133679, 0.24975189516802074, 0.5411291061973782, 0.9687740747820739, 0.2751865518550574, 0.7338308049468198, 0.7112470467510056, 0.09031708530171499, 0.07902744963900062, 0.045158542650857496, 0.011289635662714374, 0.06773781397628624, 0.846554548687042, 0.032559790334117, 0.032559790334117, 0.065119580668234, 0.03515010650412117, 0.8436025560989081, 0.07030021300824234, 0.024659464763611402, 0.024659464763611402, 0.049318929527222805, 0.004931892952722281, 0.039455143621778245, 0.049318929527222805, 0.024659464763611402, 0.6707374415702302, 0.10356975200716789, 0.019236798954036467, 0.788708757115495, 0.11542079372421879, 0.057710396862109395, 0.6922142525997281, 0.17305356314993203, 0.07300423387886373, 0.04866948925257582, 0.8517160619200769, 0.03163597267950376, 0.03163597267950376, 0.11072590437826316, 0.7750813306478421, 0.03163597267950376, 0.03036481129268451, 0.007591202823171128, 0.11386804234756692, 0.03795601411585564, 0.20496247622562044, 0.4402897637439254, 0.03036481129268451, 0.1366416508170803, 0.9250101539710505, 0.1470380498432392, 0.15030556206197784, 0.03921014662486379, 0.009802536656215947, 0.11436292765585271, 0.32348370965512624, 0.006535024437477298, 0.045745171062341085, 0.1339680009682846, 0.035942634406125135, 0.9522438985734745, 0.08994416078637905, 0.020756344796856705, 0.08994416078637905, 0.17296953997380587, 0.560421309515131, 0.048431471192665644, 0.020756344796856705, 0.025194929382770518, 0.0683862368960914, 0.01799637813055037, 0.01799637813055037, 0.007198551252220148, 0.021595653756660442, 0.8026384646225465, 0.03959203188721081, 0.7745443006514227, 0.22780714725041842, 0.0927526272940918, 0.03091754243136393, 0.03091754243136393, 0.8347736456468261, 0.2987947524094804, 0.697187755622121, 0.9338959442803968, 0.9527302422344385, 0.7580668932480763, 0.15161337864961527, 0.21472299044196702, 0.007668678230070251, 0.19938563398182652, 0.15337356460140503, 0.22239166867203727, 0.007668678230070251, 0.0460120693804215, 0.12269885168112402, 0.02300603469021075, 0.033899968554033176, 0.1355998742161327, 0.5423994968645308, 0.1355998742161327, 0.1355998742161327, 0.6634575913888385, 0.1326915182777677, 0.1326915182777677, 0.05800179777155354, 0.019333932590517845, 0.1353375281336249, 0.07733573036207138, 0.6573537080776067, 0.019333932590517845, 0.6858363540959641, 0.07094858835475491, 0.02364952945158497, 0.04729905890316994, 0.14189717670950983, 0.4629391692577288, 0.3703513354061831, 0.09258783385154577, 0.8599570936318158, 0.09052179932966482, 0.26288560178063375, 0.7229354048967428, 0.32269893665293853, 0.32269893665293853, 0.32269893665293853, 0.7046289275443196, 0.1761572318860799, 0.14647866215170594, 0.0823942474603346, 0.1281688293827427, 0.0045774581922408105, 0.013732374576722432, 0.28380240791893024, 0.11443645480602027, 0.0411971237301673, 0.10070408022929783, 0.0823942474603346, 0.5903514978031291, 0.01736327934715086, 0.01736327934715086, 0.03472655869430172, 0.20835935216581028, 0.121542955430056, 0.9194559643616569, 0.06129706429077713, 0.93289341759332, 0.026654097645523428, 0.026654097645523428, 0.9497440085536601, 0.2218257550634766, 0.06391589552676445, 0.015039034241591635, 0.05263661984557072, 0.3797356146001888, 0.12031227393273308, 0.03007806848318327, 0.10903299825153935, 0.011279275681193726, 0.014925810644444173, 0.014925810644444173, 0.04477743193333252, 0.23881297031110676, 0.4029968873999927, 0.2686645915999951, 0.9404412085850318, 0.24377085714572666, 0.08125695238190889, 0.6500556190552711, 0.21004064816374224, 0.01714617536030549, 0.008573087680152745, 0.06429815760114559, 0.28719843728511696, 0.1071635960019093, 0.3043446126454224, 0.0042865438400763725, 0.03975554706189212, 0.675844300052166, 0.23853328237135268, 0.6902071888688084, 0.1200360328467493, 0.015004504105843662, 0.1200360328467493, 0.030009008211687324, 0.36495628074265246, 0.060826046790442075, 0.5474344211139787, 0.34016156781460866, 0.012148627421950308, 0.19437803875120493, 0.17008078390730433, 0.21867529359510557, 0.048594509687801234, 0.9712933265018143, 0.050284853609589286, 0.050284853609589286, 0.06285606701198661, 0.7417015907414419, 0.10056970721917857, 0.0719048670842493, 0.2568030967294618, 0.030816371607535413, 0.02054424773835694, 0.5136061934589236, 0.09244911482260623, 0.8874744412789282, 0.5584909549231553, 0.08818278235628768, 0.23515408628343382, 0.11757704314171691, 0.027535179605620557, 0.027535179605620557, 0.08260553881686167, 0.8260553881686167, 0.024348719053006913, 0.048697438106013825, 0.9009026049612558, 0.6595736463647512, 0.26382945854590045, 0.21713838697467575, 0.10021771706523495, 0.06681181137682331, 0.008351476422102913, 0.16702952844205826, 0.4426282503714544, 0.022704595226894234, 0.11352297613447117, 0.7946608329412982, 0.04540919045378847, 0.6595190279246891, 0.1884340079784826, 0.9175823021312404, 0.9338958683095676, 0.017651538687473874, 0.07649000097905345, 0.017651538687473874, 0.005883846229157958, 0.6295715465199015, 0.07649000097905345, 0.17651538687473875, 0.01522998600408032, 0.03045997200816064, 0.7919592722121767, 0.10660990202856224, 0.04568995801224096, 0.04152408740502179, 0.9342919666129903, 0.030426563160033764, 0.015213281580016882, 0.05324648553005909, 0.007606640790008441, 0.8975836132209961, 0.5124203199406839, 0.2635304502552089, 0.2049681279762736, 0.855314203433863, 0.061093871673847354, 0.9264836394492143, 0.044768522214484595, 0.011192130553621149, 0.022384261107242297, 0.4700694832520883, 0.35814817771587676, 0.055960652768105745, 0.03357639166086345, 0.24254681822755492, 0.6467915152734798, 0.05235713788625988, 0.05235713788625988, 0.047121424097633896, 0.015707141365877964, 0.1361285585042757, 0.5602213753829808, 0.005235713788625989, 0.005235713788625989, 0.12042141713839773, 0.05601669903205061, 0.6161836893525566, 0.11203339806410122, 0.16805009709615182, 0.07152637776172509, 0.014305275552345018, 0.028610551104690036, 0.014305275552345018, 0.08583165331407011, 0.7724848798266309, 0.014305275552345018, 0.3297291296217176, 0.02442437997197908, 0.1831828497898431, 0.04884875994395816, 0.3907900795516653, 0.02442437997197908, 0.7486520490323711, 0.0623876707526976, 0.0623876707526976, 0.1247753415053952, 0.9501866582387424, 0.6689694648839617, 0.016724236622099042, 0.13379389297679234, 0.050172709866297134, 0.13379389297679234, 0.19237049975248136, 0.006205499992015528, 0.06205499992015527, 0.031027499960077635, 0.07446599990418633, 0.4654124994011645, 0.04964399993612422, 0.031027499960077635, 0.09308249988023291, 0.9706458158160353, 0.07083560567644649, 0.8854450709555812, 0.7398962023878336, 0.22196886071635008, 0.074387157945411, 0.09918287726054799, 0.05785667840198633, 0.016530479543424664, 0.28928339200993164, 0.32234435109678095, 0.024795719315136997, 0.016530479543424664, 0.09918287726054799, 0.07343769601454996, 0.17135462403394988, 0.1591150080315249, 0.1468753920290999, 0.07343769601454996, 0.11015654402182493, 0.25703193605092484, 0.6356349155495016, 0.1059391525915836, 0.1059391525915836, 0.1059391525915836, 0.021938974015415853, 0.21938974015415852, 0.745925116524139, 0.031179038094559783, 0.1621309980917109, 0.08730130666476739, 0.01870742285673587, 0.1621309980917109, 0.42403491808601307, 0.01870742285673587, 0.03741484571347174, 0.05612226857020761, 0.8934319096647899, 0.1800604988552229, 0.8102722448485031, 0.09282401409414175, 0.025315640207493204, 0.03375418694332427, 0.02109636683957767, 0.18142875482036797, 0.4894357106782019, 0.012657820103746602, 0.004219273367915534, 0.126578201037466, 0.016877093471662136, 0.23609758396002364, 0.012107568408206341, 0.054484057836928536, 0.19977487873540464, 0.49035652053235684, 0.0060537842041031706, 0.015399157339157725, 0.03079831467831545, 0.015399157339157725, 0.053897050687052035, 0.22328778141778702, 0.1231932587132618, 0.2771848321048391, 0.25408609609610244, 0.1362826873003166, 0.10221201547523745, 0.03407067182507915, 0.03407067182507915, 0.681413436501583, 0.02345222881149965, 0.02345222881149965, 0.269700631332246, 0.6566624067219903, 0.02345222881149965, 0.03301629872205476, 0.14857334424924643, 0.7923911693293143, 0.7711305090044765, 0.22032300257270757, 0.9264836385142373, 0.8361045473833084, 0.13377672758132933, 0.17567369860850507, 0.7026947944340203, 0.024748284942166052, 0.024748284942166052, 0.017677346387261466, 0.08838673193630733, 0.5692105536698192, 0.024748284942166052, 0.014141877109809173, 0.20152174881478072, 0.028283754219618346, 0.023611701032247624, 0.16528190722573338, 0.023611701032247624, 0.023611701032247624, 0.023611701032247624, 0.2006994587741048, 0.5312632732255715, 0.0832447393476389, 0.020811184836909725, 0.3641957346459202, 0.062433554510729176, 0.04162236967381945, 0.4266292891566494, 0.010405592418454863, 0.21502096996561806, 0.023891218885068673, 0.7406277854371289, 0.9009702488710097, 0.06930540375930844, 0.1496668511063934, 0.8231676810851638, 0.1293562640642572, 0.04975240925548354, 0.009950481851096708, 0.009950481851096708, 0.05970289110658025, 0.5970289110658025, 0.1393067459153539, 0.010651656154330724, 0.010651656154330724, 0.23433643539527593, 0.02130331230866145, 0.1704264984692916, 0.1278198738519687, 0.03195496846299217, 0.3621563092472446, 0.02130331230866145, 0.13053752899229412, 0.13053752899229412, 0.12531602783260237, 0.015664503479075297, 0.07310101623568471, 0.25585355682489647, 0.07310101623568471, 0.1200945266729106, 0.07832251739537648, 0.3221474373651456, 0.0247805721050112, 0.4708308699952128, 0.1486834326300672, 0.34933429028588353, 0.09113068442240439, 0.015188447403734066, 0.18226136884480879, 0.16707292144107475, 0.18226136884480879, 0.024688377955421326, 0.4279318845606363, 0.008229459318473775, 0.07406513386626398, 0.4443908031975839, 0.01645891863694755, 0.11651159674690965, 0.4272091880720021, 0.0077674397831273105, 0.09320927739752773, 0.02330231934938193, 0.3029301515419651, 0.015534879566254621, 0.010013673907533334, 0.07009571735273334, 0.06008204344520001, 0.8311349343252667, 0.040054695630133336, 0.9101228724999073, 0.05056238180555041, 0.025281190902775204, 0.9755495040834636, 0.8235605932861744, 0.11765151332659635, 0.7282563937933589, 0.06620512670848717, 0.06620512670848717, 0.06620512670848717, 0.03630187651856469, 0.14520750607425875, 0.18150938259282343, 0.6171319008155997, 0.2238641946307011, 0.04797089884943595, 0.11193209731535055, 0.0319805992329573, 0.1279223969318292, 0.39975749041196623, 0.0319805992329573, 0.9610325555953267, 0.010256600130593178, 0.2461584031342363, 0.7384752094027088, 0.021343274796993796, 0.9604473658647208, 0.1754818097504518, 0.7019272390018072, 0.03323818132465689, 0.012783915894098804, 0.007670349536459281, 0.41164209178998146, 0.5266973348368706, 0.005113566357639521, 0.00322582254269029, 0.00967746762807087, 0.9709725853497773, 0.01290329017076116, 0.3126811612808382, 0.6253623225616765, 0.9608451061975913, 0.12848262935222152, 0.7387751187752738, 0.12848262935222152, 0.9525140767633354, 0.07482000042238743, 0.2665462515047552, 0.11690625065998035, 0.11223000063358114, 0.04208625023759293, 0.04676250026399214, 0.31330875176874734, 0.028057500158395286, 0.06280249260972792, 0.0879234896536191, 0.012560498521945586, 0.8289929024484086, 0.13725965532784062, 0.16994052564399317, 0.07843408875876608, 0.013072348126461013, 0.17647669970722368, 0.05882556656907456, 0.05882556656907456, 0.2614469625292203, 0.04575321844261355, 0.30144445754057037, 0.6631778065892548, 0.07903675252847996, 0.01975918813211999, 0.11855512879271993, 0.5861892479195596, 0.11855512879271993, 0.006586396044039996, 0.01975918813211999, 0.04610477230827997, 0.05692437531314544, 0.910790005010327, 0.5165371215121326, 0.012913428037803315, 0.4648834093609194, 0.06587184382389849, 0.10978640637316414, 0.11710550013137508, 0.007319093758210942, 0.10246731261495319, 0.02927637503284377, 0.13906278140600792, 0.18297734395527357, 0.22689190650453922, 0.8934319981606371, 0.26301083016157595, 0.052602166032315184, 0.6838281584200974, 0.047083465916363205, 0.027465355117878537, 0.03138897727757547, 0.0039236221596969335, 0.07454882103424174, 0.7494118325021143, 0.01961811079848467, 0.03923622159696934, 0.007847244319393867, 0.9455412713543814, 0.026390855621421894, 0.5805988236712817, 0.23751770059279706, 0.15834513372853137, 0.9455338707709651, 0.9201521505205132, 0.029682327436145586, 0.8934319333242429, 0.7425569653701222, 0.14851139307402444, 0.02376502034014807, 0.5703604881635537, 0.07129506102044421, 0.23765020340148071, 0.07129506102044421, 0.09151577827590317, 0.08236420044831284, 0.018303155655180633, 0.08236420044831284, 0.3203052239656611, 0.41182100224156426, 0.7035509067595405, 0.17588772668988512, 0.08794386334494256, 0.9259130982991917, 0.049111484235621596, 0.151112259186528, 0.007555612959326399, 0.06422271015427439, 0.3551138090883408, 0.018889032398316, 0.056667097194947995, 0.27577987301541357, 0.022666838877979198, 0.13084941730912594, 0.6542470865456297, 0.1962741259636889, 0.6588310780186203, 0.04941233085139652, 0.06588310780186203, 0.14823699255418957, 0.06588310780186203, 0.7905186520745074, 0.16939685401596588, 0.03764374533688131, 0.9117079405430077, 0.6101814816190051, 0.3661088889714031, 0.3599831008239027, 0.5759729613182444, 0.9113318721185449, 0.07010245170142654, 0.316272308911377, 0.05798325663375244, 0.0527120514852295, 0.14232253901011963, 0.20557700079239502, 0.047440846336706546, 0.01581361544556885, 0.105424102970459, 0.05798325663375244, 0.04962881045582579, 0.3722160784186934, 0.04962881045582579, 0.03722160784186934, 0.3970304836466063, 0.07444321568373868, 0.44753331426307236, 0.09945184761401607, 0.049725923807008035, 0.34808146664905626, 0.049725923807008035, 0.3925914230504498, 0.31407313844035983, 0.15703656922017992, 0.07851828461008996, 0.9594808595130911, 0.020858279554632417, 0.7534223256705498, 0.15068446513410996, 0.9309732808398314, 0.021537896421740872, 0.021537896421740872, 0.667674789073967, 0.2584547570608905, 0.02105067742758411, 0.02105067742758411, 0.15788008070688084, 0.7683497261068201, 0.02105067742758411, 0.05967557584622679, 0.05967557584622679, 0.8831985225241565, 0.8246381027806068, 0.026178987389860534, 0.05235797477972107, 0.026178987389860534, 0.06544746847465133, 0.29285567161171777, 0.5020382941915161, 0.1673460980638387, 0.5835245196100304, 0.06483605773444782, 0.3241802886722391, 0.23120991710904212, 0.5780247927726053, 0.4263554991641904, 0.5542621489134475, 0.010102483213800374, 0.09428984332880348, 0.013469977618400499, 0.10775982094720399, 0.03030744964140112, 0.006734988809200249, 0.7139088137752264, 0.020204966427600748, 0.961089317156805, 0.1741396309682378, 0.1266470043405366, 0.015830875542567076, 0.07915437771283537, 0.0633235021702683, 0.1741396309682378, 0.3799410130216098, 0.05903542249904346, 0.09276994964135402, 0.0674690542846211, 0.02530089535673291, 0.05060179071346582, 0.09276994964135402, 0.37951343035099366, 0.2277080582105962, 0.13020842413213896, 0.7812505447928338, 0.7379316054396294, 0.2635470019427248, 0.06165045695296727, 0.18495137085890181, 0.04110030463531151, 0.04110030463531151, 0.16440121854124604, 0.49320365562373814, 0.0632168917481646, 0.047412668811123444, 0.0632168917481646, 0.0316084458740823, 0.11062956055928805, 0.0632168917481646, 0.20545489818153495, 0.4109097963630699, 0.632948768213766, 0.210982922737922, 0.017285714889569186, 0.1123571467821997, 0.1210000042269843, 0.03889285850153067, 0.012964286167176889, 0.18582143506286875, 0.4753571594631526, 0.03889285850153067, 0.052242392030102947, 0.12538174087224707, 0.11493326246622648, 0.6895995747973589, 0.008818667271384206, 0.17637334542768413, 0.01763733454276841, 0.026456001814152617, 0.01763733454276841, 0.22928534905598935, 0.3968400272122893, 0.1322800090707631, 0.04354537139291513, 0.13063611417874538, 0.21772685696457564, 0.6096351995008118, 0.1137816552966932, 0.04452325642044516, 0.054417313402766315, 0.03957622792928459, 0.06925839887624803, 0.6282726183773929, 0.04947028491160574, 0.10058135658860823, 0.6034881395316494, 0.15087203488291234, 0.15087203488291234, 0.021906816391814382, 0.43813632783628764, 0.15334771474270067, 0.10953408195907191, 0.06572044917544315, 0.15334771474270067, 0.06572044917544315, 0.12484563196981001, 0.8114966078037651, 0.031211407992452502, 0.07078958180757335, 0.8494749816908801, 0.030830225415614154, 0.04624533812342123, 0.1387360143702637, 0.015415112707807077, 0.20039646520149199, 0.5241138320654406, 0.04624533812342123, 0.10117157386308827, 0.758786803973162, 0.10117157386308827, 0.043541178158930466, 0.6313470833044919, 0.3265588361919785, 0.9119247931270418, 0.7375231290805943, 0.21072089402302693, 0.1052890466110384, 0.7370233262772687, 0.1052890466110384, 0.755024098330436, 0.16778313296231914, 0.05592771098743971, 0.11028551193140493, 0.055142755965702464, 0.055142755965702464, 0.3308565357942148, 0.11028551193140493, 0.055142755965702464, 0.1654282678971074, 0.11028551193140493, 0.07485903897200677, 0.2245771169160203, 0.5988723117760542, 0.10711385862807421, 0.10711385862807421, 0.6426831517684453, 0.10711385862807421, 0.05699452297141466, 0.9119123675426346, 0.052947924438437696, 0.7942188665765654, 0.10589584887687539, 0.1296254598625345, 0.6481272993126724, 0.1296254598625345, 0.07804131766007448, 0.022297519331449852, 0.022297519331449852, 0.3790578286346475, 0.07804131766007448, 0.36790906896892256, 0.05574379832862463, 0.9738103634380231, 0.02880960261403463, 0.076825606970759, 0.05761920522806926, 0.02880960261403463, 0.02880960261403463, 0.4129376374678297, 0.3745248339824502, 0.9502149708776543, 0.7051830953294842, 0.17629577383237105, 0.0450258948070124, 0.0787953159122717, 0.0787953159122717, 0.1575906318245434, 0.28141184254382745, 0.24764242143856818, 0.10130826331577789, 0.045256397280730144, 0.045256397280730144, 0.4676494385675448, 0.2564529179241375, 0.09051279456146029, 0.03017093152048676, 0.06034186304097352, 0.23229387175506833, 0.011614693587753416, 0.25552325893057515, 0.47620243709789006, 0.24356928254226523, 0.018736098657097328, 0.014052073992822996, 0.02342012332137166, 0.0889964686212123, 0.31382965250638023, 0.018736098657097328, 0.04215622197846899, 0.23888525787799092, 0.5749857807114261, 0.022999431228457042, 0.06899829368537114, 0.2529937435130275, 0.06899829368537114, 0.9151961953517187, 0.06779231076679397, 0.11854559175415999, 0.009878799312846666, 0.10866679244131332, 0.08890919381561999, 0.5927279587708, 0.03951519725138666, 0.029636397938539998, 0.42194557043257613, 0.06751129126921218, 0.016877822817303045, 0.016877822817303045, 0.1519004053557274, 0.08438911408651523, 0.008438911408651523, 0.22785060803359114, 0.9419302339614101, 0.04957527547165316, 0.9467977112159007, 0.2355271568736023, 0.7065814706208069, 0.01906635747368172, 0.03559053395087255, 0.04448816743859068, 0.17159721726313548, 0.317772624561362, 0.2898086335999622, 0.11312705434384487, 0.005084361992981792, 0.017008666203304823, 0.4252166550826206, 0.008504333101652412, 0.034017332406609646, 0.034017332406609646, 0.3146603247611392, 0.16158232893139582, 0.8381878935529661, 0.05238674334706038, 0.05238674334706038, 0.7339879059293062, 0.014979345018965433, 0.05991738007586173, 0.029958690037930866, 0.1348141051706889, 0.07824751910081898, 0.011178217014402712, 0.04471286805761085, 0.022356434028805425, 0.3018118593888732, 0.43595046356170575, 0.04471286805761085, 0.022356434028805425, 0.04471286805761085, 0.005772527872952818, 0.051952750856575365, 0.017317583618858455, 0.49066486920098956, 0.22512858704515992, 0.04040769511066973, 0.1558582525697261, 0.017317583618858455, 0.8658496801314973, 0.057723312008766486, 0.5182938395254023, 0.07404197707505748, 0.29616790830022993, 0.08885037249006897, 0.029616790830022992, 0.27735327153936695, 0.04894469497753535, 0.0978893899550707, 0.008157449162922558, 0.008157449162922558, 0.33445541567982484, 0.016314898325845116, 0.13867663576968348, 0.07341704246630301, 0.056805094079432024, 0.056805094079432024, 0.09738016127902632, 0.03246005375967544, 0.754696249912454, 0.0952437847340429, 0.40002389588298015, 0.057146270840425735, 0.057146270840425735, 0.057146270840425735, 0.32382886809574585, 0.01904875694680858, 0.019366935113196714, 0.135568545792377, 0.8134112747542621, 0.978014761421082, 0.053507209586364866, 0.004864291780578624, 0.029185750683471744, 0.06810008492810074, 0.09242154383099385, 0.20916454656488084, 0.33077184107934643, 0.20916454656488084, 0.05268758628224139, 0.04215006902579311, 0.07376262079513794, 0.010537517256448277, 0.010537517256448277, 0.2845129659241035, 0.4425757247708277, 0.07376262079513794, 0.2790116247906108, 0.1127919334259916, 0.023745670194945598, 0.2849480423393472, 0.0356185052924184, 0.0653005930361004, 0.14841043871841, 0.059364175487364, 0.007790951876153522, 0.30384712316998735, 0.03116380750461409, 0.5609485350830535, 0.08570047063768874, 0.6981235819849424, 0.23270786066164748, 0.5118316467637269, 0.08081552317322004, 0.29632358496847344, 0.08081552317322004, 0.05148430752184541, 0.9438789712338325, 0.0917360938161142, 0.0458680469080571, 0.6421526567127993, 0.1834721876322284, 0.13360690198702782, 0.5344276079481113, 0.13360690198702782, 0.13360690198702782, 0.06680345099351391, 0.9175824270603232, 0.24439519272206708, 0.48879038544413417, 0.12219759636103354, 0.030289492172567767, 0.39376339824338097, 0.060578984345135534, 0.48463187476108427, 0.05674763290878251, 0.8228406771773463, 0.028373816454391253, 0.028373816454391253, 0.05674763290878251, 0.15379090417844024, 0.8458499729814213, 0.12153581358294435, 0.36460744074883306, 0.4861432543317774, 0.5705894670566191, 0.017290589910806637, 0.0864529495540332, 0.1729058991080664, 0.051871769732419915, 0.051871769732419915, 0.051871769732419915, 0.9264840945895072, 0.07707066606525273, 0.7514389941362141, 0.038535333032626365, 0.05780299954893955, 0.07707066606525273, 0.082269611350477, 0.082269611350477, 0.740426502154293, 0.11701907955038175, 0.8191335568526722, 0.8982865145130329, 0.0472782376059491, 0.026775106444028713, 0.9237411723189906, 0.04016265966604307, 0.3959525797836905, 0.10218131091192012, 0.4981338906956106, 0.9353638709500998, 0.932924984967964, 0.08751011201937225, 0.700080896154978, 0.08751011201937225, 0.0665340417373606, 0.8649425425856879, 0.15395098145113073, 0.034211329211362385, 0.17105664605681192, 0.017105664605681192, 0.41053595053634856, 0.06842265842272477, 0.017105664605681192, 0.10263398763408714, 0.034211329211362385, 0.008144646515642881, 0.030542424433660804, 0.024433939546928643, 0.0020361616289107203, 0.028506262804750084, 0.08755495004316097, 0.17510990008632193, 0.5477274781769838, 0.09366343492989312, 0.03270749211298849, 0.0267606753651724, 0.0029734083739080446, 0.08622884284333329, 0.005946816747816089, 0.008920225121724133, 0.11596292658241374, 0.6749637008771261, 0.044601125608620666, 0.050579815463281934, 0.016859938487760642, 0.016859938487760642, 0.016859938487760642, 0.1517394463898458, 0.7418372934614683, 0.17698318674904318, 0.7079327469961727, 0.9779600976019638, 0.02140054425045062, 0.02140054425045062, 0.14980380975315433, 0.5136130620108148, 0.21400544250450618, 0.02140054425045062, 0.04280108850090124, 0.10957304158047508, 0.32871912474142523, 0.4382921663219003, 0.8361234982033321, 0.11148313309377762, 0.03926567624039898, 0.013088558746799659, 0.6806050548335822, 0.24868261618919352, 0.013581084550081756, 0.013581084550081756, 0.3123649446518804, 0.10864867640065405, 0.5432433820032703, 0.05638264368839763, 0.014095660922099407, 0.2678175575198887, 0.14095660922099407, 0.4087741667408828, 0.11276528737679525, 0.08817530633176252, 0.7054024506541001, 0.08817530633176252, 0.7052392862646157, 0.11753988104410262, 0.07289875720756919, 0.07289875720756919, 0.0242995857358564, 0.4616921289812716, 0.3158946145661332, 0.0485991714717128, 0.0242995857358564, 0.9175823437100541, 0.7473231810361621, 0.22419695431084866, 0.9611460038188122, 0.11273262892088602, 0.19023631130399515, 0.16909894338132903, 0.042274735845332256, 0.014091578615110753, 0.1831905219964398, 0.19728210061155052, 0.08454947169066451, 0.06602140826441866, 0.06602140826441866, 0.13204281652883731, 0.7262354909086053, 0.04420385648031312, 0.6188539907243837, 0.04420385648031312, 0.1768154259212525, 0.08840771296062624, 0.2080818703382133, 0.22495337333860896, 0.005623834333465224, 0.2586963793394003, 0.29806321967365684, 0.6899808453043618, 0.053075449638797054, 0.017691816546265685, 0.03538363309253137, 0.15922634891639117, 0.017691816546265685, 0.017691816546265685, 0.08587701231034794, 0.08587701231034794, 0.12022781723448711, 0.6870160984827836, 0.22210914286839006, 0.12691951021050862, 0.031729877552627156, 0.06345975510525431, 0.5394079183946616, 0.15129135264789623, 0.7564567632394811, 0.11904785755484468, 0.034013673587098475, 0.034013673587098475, 0.1360546943483939, 0.6292529613613218, 0.034013673587098475, 0.017006836793549238, 0.021550686727741557, 0.0359178112129026, 0.007183562242580519, 0.33762742540128443, 0.5244000437083779, 0.021550686727741557, 0.0359178112129026, 0.014367124485161038, 0.6627651631926768, 0.13255303263853535, 0.13255303263853535, 0.13070273741670677, 0.5010271600973759, 0.021783789569451126, 0.021783789569451126, 0.19605410612506013, 0.1524865269861579, 0.09454192160916758, 0.05042235819155604, 0.21429502231411318, 0.01260558954788901, 0.02521117909577802, 0.2584145857317247, 0.018908384321833515, 0.06933074251338955, 0.2458089961838357, 0.9338959130452618, 0.22336932516053268, 0.44673865032106536, 0.2978257668807102, 0.6963444975978841, 0.2785377990391536, 0.04169961172019599, 0.08339922344039198, 0.025019767032117595, 0.13343875750462716, 0.550434874706587, 0.10841899047250958, 0.008339922344039198, 0.04169961172019599, 0.7491560599387048, 0.14983121198774096, 0.011178430396149793, 0.022356860792299586, 0.4583156462421415, 0.04471372158459917, 0.1788548863383967, 0.2794607599037448, 0.08718452532336861, 0.05812301688224574, 0.8137222363514404, 0.08320980702299897, 0.8737029737414892, 0.9259130728736241, 0.10873332491211887, 0.6886443911100862, 0.14497776654949182, 0.036244441637372955, 0.08239808722632078, 0.08239808722632078, 0.41199043613160385, 0.16479617445264155, 0.20599521806580193, 0.04119904361316039, 0.13711165356063118, 0.8226699213637871, 0.027422330712126238, 0.844081250153112, 0.06492932693485477, 0.9610893515069839, 0.051383878523724266, 0.051383878523724266, 0.8735259349033125, 0.09103825601046867, 0.05202186057741067, 0.09103825601046867, 0.312131163464464, 0.36415302404187466, 0.026010930288705335, 0.05202186057741067, 0.027612653940907325, 0.027612653940907325, 0.027612653940907325, 0.16567592364544395, 0.24851388546816594, 0.4970277709363319, 0.7027307661038715, 0.17568269152596788, 0.08783887161719128, 0.8783887161719129, 0.17674499917901884, 0.7069799967160754, 0.032572029820470694, 0.22800420874329486, 0.032572029820470694, 0.6840126262298846, 0.01639148128520741, 0.029504666313373337, 0.08523570268307852, 0.006556592514082964, 0.03933955508449778, 0.809739175489246, 0.013113185028165927, 0.05629210916620867, 0.20908497690306077, 0.16887632749862602, 0.34579438487813896, 0.008041729880886953, 0.1849597872603999, 0.016083459761773906, 0.20057513087909856, 0.2281050508036807, 0.0432613027386291, 0.015731382814046947, 0.0432613027386291, 0.07079122266321125, 0.06685837695969951, 0.26350066213528633, 0.07079122266321125, 0.9501890823112593, 0.7119902571688417, 0.026370009524771913, 0.026370009524771913, 0.2109600761981753, 0.11915867305874317, 0.059579336529371585, 0.1310745403646175, 0.6553727018230874, 0.03574760191762295, 0.19188519667911985, 0.5756555900373596, 0.031980866113186644, 0.031980866113186644, 0.031980866113186644, 0.06396173222637329, 0.031980866113186644, 0.1732492618007371, 0.3464985236014742, 0.4619980314686323, 0.9612595089853139, 0.13283162018199415, 0.13283162018199415, 0.6641581009099707, 0.2127762351716812, 0.7092541172389374, 0.04101101613781178, 0.5126377017226472, 0.30758262103358835, 0.02050550806890589, 0.08202203227562356, 0.11463611733920766, 0.022927223467841533, 0.11463611733920766, 0.022927223467841533, 0.5043989162925138, 0.11463611733920766, 0.06878167040352459, 0.11743249973217335, 0.7045949983930401, 0.035410385290669644, 0.08852596322667411, 0.8321440543307366, 0.017705192645334822, 0.05238746135257328, 0.7334244589360259, 0.10477492270514656, 0.05238746135257328, 0.9175824406850266, 0.006863235939381172, 0.28139267351462804, 0.041179415636287034, 0.1509911906663858, 0.4735632798173009, 0.041179415636287034, 0.07843929404816422, 0.8628322345298063, 0.03921964702408211, 0.9569622452171231, 0.12263199928505643, 0.03270186647601504, 0.07357919957103386, 0.00817546661900376, 0.07357919957103386, 0.6703882627583084, 0.024526399857011286, 0.017248374945238776, 0.03449674989047755, 0.43120937363096945, 0.5002028734119246, 0.017248374945238776, 0.2045900503475244, 0.24178824131980153, 0.01859909548613858, 0.10539487442145196, 0.10539487442145196, 0.05579728645841574, 0.09919517592607242, 0.14879276388910864, 0.030998492476897635, 0.1797454407924823, 0.04035101732076133, 0.09170685754718484, 0.03668274301887394, 0.10271168045284702, 0.3521543329811898, 0.003668274301887394, 0.05502411452831091, 0.12472132626417139, 0.014673097207549576, 0.7585346812248134, 0.030341387248992536, 0.18204832349395522, 0.9510959709012837, 0.9004199908544394, 0.06002799939029596, 0.41638583361694453, 0.1534053071220322, 0.17532035099660823, 0.19723539487118427, 0.04383008774915206, 0.05145749865695882, 0.022053213710125207, 0.02940428494683361, 0.2940428494683361, 0.5292771290430051, 0.05880856989366722, 0.014702142473416805, 0.037948293421001214, 0.29409927401275937, 0.037948293421001214, 0.16128024703925514, 0.4174312276310133, 0.047435366776251514, 0.13947765546445232, 0.008204567968497195, 0.01640913593699439, 0.04102283984248597, 0.6071380296687924, 0.17229592733844107, 0.008204567968497195, 0.8261567834946213, 0.11802239764208876, 0.7869053510146358, 0.13115089183577264, 0.9664545327614034, 0.09427467500054977, 0.8484720750049479, 0.03634554199713816, 0.43614650396565785, 0.4906648169613651, 0.01817277099856908, 0.1348455225969717, 0.13099279337991535, 0.03082183373645067, 0.3120710665815631, 0.07705458434112668, 0.09631823042640834, 0.15025643946519704, 0.06934912590701402, 0.9116828066710637, 0.03128231260336718, 0.046923468905050766, 0.1564115630168359, 0.011730867226262692, 0.35192601678788077, 0.06647491428215525, 0.33237457141077625, 0.003910289075420898, 0.8845558328688699, 0.038458949255168254, 0.038458949255168254, 0.9275817841124047, 0.03710327136449619, 0.016095723734822927, 0.032191447469645855, 0.016095723734822927, 0.2414358560223439, 0.4667759883098649, 0.20924440855269805, 0.11561955147721245, 0.0136023001737897, 0.1768299022592661, 0.29244945373647857, 0.07481265095584336, 0.3128529039971631, 0.00680115008689485, 0.014662602448707396, 0.03665650612176849, 0.17595122938448876, 0.6891423150892476, 0.029325204897414792, 0.051319108570475884], \"Term\": [\"00\", \"00\", \"000\", \"000\", \"000\", \"000\", \"000\", \"000\", \"000\", \"000\", \"000\", \"000\", \"10\", \"10\", \"10\", \"10\", \"10\", \"10\", \"10\", \"10\", \"10\", \"10\", \"12\", \"12\", \"12\", \"12\", \"12\", \"12\", \"12\", \"12\", \"12\", \"12\", \"1959\", \"1959\", \"1959\", \"1959\", \"1959\", \"1959\", \"1960\", \"1960\", \"1960\", \"1960\", \"1960\", \"1960\", \"1960\", \"1960\", \"1960\", \"1961\", \"1961\", \"1961\", \"1961\", \"1961\", \"1961\", \"1961\", \"1961\", \"1961\", \"33\", \"33\", \"35\", \"35\", \"35\", \"36\", \"36\", \"36\", \"36\", \"52\", \"52\", \"52\", \"52\", \"52\", \"62\", \"academic\", \"academic\", \"academic\", \"academic\", \"acceptable\", \"accumulation\", \"accumulation\", \"acres\", \"acres\", \"acres\", \"act\", \"act\", \"act\", \"act\", \"act\", \"act\", \"act\", \"adjustment\", \"adjustment\", \"adjustment\", \"adjustments\", \"adjustments\", \"adjustments\", \"administration\", \"administration\", \"administration\", \"administration\", \"administration\", \"administration\", \"administration\", \"af\", \"af\", \"af\", \"aid\", \"aid\", \"aid\", \"aid\", \"aid\", \"aid\", \"aid\", \"aids\", \"aids\", \"aids\", \"aids\", \"aircraft\", \"aircraft\", \"aircraft\", \"allocation\", \"allocation\", \"american\", \"american\", \"american\", \"american\", \"american\", \"american\", \"american\", \"american\", \"american\", \"anger\", \"anger\", \"angle\", \"animal\", \"animal\", \"animal\", \"animal\", \"anne\", \"appeal\", \"appeal\", \"appeal\", \"appeal\", \"appeal\", \"appeals\", \"appeals\", \"appeals\", \"area\", \"area\", \"area\", \"area\", \"area\", \"area\", \"area\", \"area\", \"areas\", \"areas\", \"areas\", \"areas\", \"areas\", \"areas\", \"areas\", \"army\", \"army\", \"army\", \"army\", \"army\", \"army\", \"army\", \"arrested\", \"arrested\", \"arrested\", \"art\", \"art\", \"art\", \"art\", \"art\", \"article\", \"article\", \"article\", \"article\", \"asked\", \"asked\", \"asked\", \"asked\", \"asked\", \"asked\", \"asked\", \"asleep\", \"asleep\", \"assessment\", \"assessment\", \"assignments\", \"assignments\", \"assistance\", \"assistance\", \"assistance\", \"assistance\", \"association\", \"association\", \"association\", \"association\", \"association\", \"association\", \"association\", \"association\", \"athletic\", \"athletic\", \"athletic\", \"atlanta\", \"atlanta\", \"atlanta\", \"attorney\", \"attorney\", \"attorney\", \"attorney\", \"attractions\", \"attractions\", \"available\", \"available\", \"available\", \"available\", \"available\", \"available\", \"available\", \"available\", \"ave\", \"ave\", \"ave\", \"avenue\", \"avenue\", \"avenue\", \"away\", \"away\", \"away\", \"away\", \"away\", \"away\", \"away\", \"baby\", \"baby\", \"baby\", \"ball\", \"ball\", \"ball\", \"ballot\", \"ballot\", \"bankers\", \"bankers\", \"bare\", \"bars\", \"bars\", \"bars\", \"baseball\", \"baseball\", \"baseball\", \"baseball\", \"bats\", \"benefits\", \"benefits\", \"benefits\", \"benefits\", \"benefits\", \"benefits\", \"better\", \"better\", \"better\", \"better\", \"better\", \"better\", \"better\", \"better\", \"better\", \"bible\", \"bible\", \"bible\", \"bible\", \"bill\", \"bill\", \"bill\", \"bill\", \"bill\", \"bill\", \"bill\", \"billion\", \"billion\", \"billion\", \"blonde\", \"blonde\", \"board\", \"board\", \"board\", \"board\", \"board\", \"board\", \"board\", \"board\", \"boat\", \"boat\", \"boat\", \"boat\", \"boats\", \"boats\", \"boats\", \"bond\", \"bond\", \"bonds\", \"bonds\", \"bonds\", \"bottle\", \"bottle\", \"bottle\", \"bowl\", \"bride\", \"bridge\", \"bridge\", \"bridge\", \"bridges\", \"bridges\", \"bridges\", \"bridges\", \"britain\", \"britain\", \"britain\", \"britain\", \"brown\", \"brown\", \"brown\", \"brown\", \"builder\", \"builder\", \"builder\", \"bull\", \"bulletin\", \"bulletin\", \"bulletin\", \"business\", \"business\", \"business\", \"business\", \"business\", \"business\", \"business\", \"business\", \"came\", \"came\", \"came\", \"came\", \"came\", \"came\", \"came\", \"capitol\", \"car\", \"car\", \"car\", \"car\", \"car\", \"car\", \"car\", \"catastrophe\", \"catastrophe\", \"catastrophe\", \"catastrophe\", \"catholic\", \"catholic\", \"catholic\", \"catholic\", \"cattle\", \"cattle\", \"caution\", \"caution\", \"caution\", \"caution\", \"cent\", \"cent\", \"cent\", \"cent\", \"cent\", \"cent\", \"centuries\", \"centuries\", \"chain\", \"chain\", \"chain\", \"chain\", \"chamber\", \"chamber\", \"chamber\", \"champions\", \"charter\", \"charter\", \"chemical\", \"chemical\", \"chemical\", \"chemical\", \"chemical\", \"children\", \"children\", \"children\", \"children\", \"children\", \"children\", \"children\", \"children\", \"china\", \"china\", \"china\", \"china\", \"chinese\", \"chinese\", \"chinese\", \"chinese\", \"church\", \"church\", \"church\", \"church\", \"cities\", \"cities\", \"cities\", \"cities\", \"cities\", \"cities\", \"cities\", \"city\", \"city\", \"city\", \"city\", \"city\", \"city\", \"city\", \"city\", \"clarity\", \"clarity\", \"clarity\", \"class\", \"class\", \"class\", \"class\", \"class\", \"class\", \"class\", \"class\", \"clay\", \"clay\", \"clay\", \"clay\", \"clay\", \"closet\", \"closet\", \"cloth\", \"cloth\", \"cloth\", \"club\", \"club\", \"club\", \"club\", \"club\", \"club\", \"coach\", \"coach\", \"coalition\", \"cocktail\", \"cold\", \"cold\", \"cold\", \"cold\", \"cold\", \"cold\", \"cold\", \"cold\", \"collective\", \"college\", \"college\", \"college\", \"college\", \"college\", \"college\", \"college\", \"college\", \"columns\", \"columns\", \"come\", \"come\", \"come\", \"come\", \"come\", \"come\", \"come\", \"come\", \"commissioner\", \"commissioner\", \"commissioner\", \"committee\", \"committee\", \"committee\", \"committee\", \"commodities\", \"communist\", \"communist\", \"communist\", \"communist\", \"company\", \"company\", \"company\", \"company\", \"company\", \"company\", \"company\", \"company\", \"congo\", \"congo\", \"congress\", \"congress\", \"congress\", \"congressional\", \"congressman\", \"conservative\", \"consumer\", \"consumer\", \"consumer\", \"consumer\", \"control\", \"control\", \"control\", \"control\", \"control\", \"control\", \"control\", \"control\", \"control\", \"cooling\", \"cooling\", \"cooling\", \"corps\", \"corps\", \"corps\", \"corps\", \"corps\", \"council\", \"council\", \"council\", \"council\", \"council\", \"country\", \"country\", \"country\", \"country\", \"country\", \"country\", \"county\", \"county\", \"county\", \"county\", \"county\", \"county\", \"court\", \"court\", \"court\", \"court\", \"court\", \"court\", \"court\", \"cousin\", \"cousin\", \"cousin\", \"cousin\", \"creative\", \"creative\", \"creative\", \"creative\", \"cried\", \"cried\", \"curriculum\", \"curriculum\", \"curriculum\", \"cut\", \"cut\", \"cut\", \"cut\", \"cut\", \"cut\", \"cut\", \"cut\", \"cut\", \"cutting\", \"cutting\", \"cutting\", \"dad\", \"daily\", \"daily\", \"daily\", \"daily\", \"daily\", \"dallas\", \"dallas\", \"dallas\", \"dancing\", \"dark\", \"dark\", \"dark\", \"dark\", \"dark\", \"data\", \"data\", \"data\", \"data\", \"davis\", \"davis\", \"day\", \"day\", \"day\", \"day\", \"day\", \"day\", \"day\", \"day\", \"day\", \"day\", \"days\", \"days\", \"days\", \"days\", \"days\", \"days\", \"days\", \"days\", \"days\", \"dear\", \"deficit\", \"delegates\", \"delegates\", \"democratic\", \"democratic\", \"democratic\", \"democrats\", \"denied\", \"denied\", \"denied\", \"deny\", \"department\", \"department\", \"department\", \"department\", \"department\", \"department\", \"department\", \"design\", \"design\", \"design\", \"design\", \"design\", \"design\", \"designer\", \"designer\", \"designers\", \"designers\", \"designers\", \"destroy\", \"destroy\", \"destroy\", \"destroy\", \"destroy\", \"destroy\", \"destruction\", \"destruction\", \"destruction\", \"determine\", \"determine\", \"determine\", \"determine\", \"determine\", \"determine\", \"determine\", \"development\", \"development\", \"development\", \"development\", \"development\", \"development\", \"didn\", \"didn\", \"didn\", \"didn\", \"didn\", \"didn\", \"didn\", \"dinner\", \"dinner\", \"dinner\", \"diplomatic\", \"dirty\", \"dirty\", \"disease\", \"disease\", \"disease\", \"disease\", \"doctrine\", \"doctrine\", \"don\", \"don\", \"don\", \"don\", \"don\", \"don\", \"don\", \"don\", \"double\", \"double\", \"double\", \"double\", \"double\", \"drank\", \"drank\", \"drank\", \"drill\", \"drill\", \"economic\", \"economic\", \"economic\", \"economic\", \"education\", \"education\", \"education\", \"education\", \"education\", \"education\", \"efficiency\", \"efficiency\", \"efficiency\", \"efficiency\", \"efficiency\", \"efforts\", \"efforts\", \"efforts\", \"efforts\", \"eighty\", \"eighty\", \"eighty\", \"eisenhower\", \"election\", \"election\", \"election\", \"election\", \"electronic\", \"electronic\", \"electronic\", \"electronics\", \"electronics\", \"electronics\", \"electronics\", \"employee\", \"employee\", \"employee\", \"employees\", \"employees\", \"employees\", \"employees\", \"employees\", \"enemies\", \"enemies\", \"enemy\", \"enemy\", \"engine\", \"engine\", \"engine\", \"engine\", \"engine\", \"engineer\", \"engineer\", \"engineer\", \"engineer\", \"engineering\", \"engineering\", \"engineers\", \"engineers\", \"engineers\", \"engineers\", \"engines\", \"engines\", \"equipment\", \"equipment\", \"equipment\", \"equipment\", \"equipment\", \"equipment\", \"evil\", \"evil\", \"evil\", \"exempt\", \"exempt\", \"experiences\", \"experiences\", \"extension\", \"extension\", \"extension\", \"extension\", \"extension\", \"extension\", \"extension\", \"eyes\", \"eyes\", \"eyes\", \"eyes\", \"eyes\", \"eyes\", \"eyes\", \"face\", \"face\", \"face\", \"face\", \"face\", \"face\", \"face\", \"face\", \"face\", \"faculty\", \"faculty\", \"faculty\", \"family\", \"family\", \"family\", \"family\", \"family\", \"family\", \"father\", \"father\", \"father\", \"features\", \"features\", \"features\", \"features\", \"features\", \"features\", \"fed\", \"fed\", \"fed\", \"fed\", \"federal\", \"federal\", \"federal\", \"federal\", \"federal\", \"federal\", \"federal\", \"federal\", \"feed\", \"feed\", \"feed\", \"feed\", \"feed\", \"feeding\", \"feeding\", \"feeding\", \"feeding\", \"felt\", \"felt\", \"felt\", \"felt\", \"felt\", \"fence\", \"fence\", \"fence\", \"festival\", \"fig\", \"fig\", \"file\", \"file\", \"file\", \"file\", \"file\", \"filing\", \"filing\", \"films\", \"fire\", \"fire\", \"fire\", \"fire\", \"fire\", \"fire\", \"fire\", \"fiscal\", \"fiscal\", \"fiscal\", \"fiscal\", \"force\", \"force\", \"force\", \"force\", \"force\", \"force\", \"forces\", \"forces\", \"forces\", \"forces\", \"forces\", \"forces\", \"forces\", \"foreign\", \"foreign\", \"foreign\", \"foreign\", \"foreign\", \"foreign\", \"forest\", \"forest\", \"forest\", \"forests\", \"formula\", \"formula\", \"formula\", \"formula\", \"formula\", \"foundation\", \"foundation\", \"foundation\", \"foundation\", \"frame\", \"frame\", \"frame\", \"frame\", \"frame\", \"frames\", \"frames\", \"frames\", \"friday\", \"friday\", \"friday\", \"friday\", \"friday\", \"furniture\", \"gallon\", \"gallon\", \"game\", \"game\", \"game\", \"game\", \"game\", \"game\", \"games\", \"games\", \"games\", \"games\", \"garden\", \"garden\", \"garden\", \"general\", \"general\", \"general\", \"general\", \"general\", \"general\", \"general\", \"general\", \"general\", \"george\", \"george\", \"george\", \"george\", \"gifts\", \"gifts\", \"girls\", \"girls\", \"girls\", \"god\", \"god\", \"god\", \"god\", \"god\", \"going\", \"going\", \"going\", \"going\", \"going\", \"going\", \"going\", \"going\", \"golden\", \"good\", \"good\", \"good\", \"good\", \"good\", \"good\", \"good\", \"good\", \"good\", \"good\", \"gop\", \"got\", \"got\", \"got\", \"got\", \"got\", \"got\", \"got\", \"government\", \"government\", \"government\", \"government\", \"government\", \"government\", \"government\", \"government\", \"gross\", \"gross\", \"guests\", \"guests\", \"guests\", \"guests\", \"gun\", \"gun\", \"haired\", \"hammarskjold\", \"hated\", \"hated\", \"head\", \"head\", \"head\", \"head\", \"head\", \"head\", \"head\", \"head\", \"head\", \"headquarters\", \"headquarters\", \"headquarters\", \"headquarters\", \"headquarters\", \"healthy\", \"healthy\", \"healthy\", \"hearing\", \"hearing\", \"hearing\", \"hearing\", \"hearing\", \"hearing\", \"heat\", \"heat\", \"heat\", \"heat\", \"heat\", \"heater\", \"heater\", \"heater\", \"heating\", \"heating\", \"heel\", \"heel\", \"hell\", \"hell\", \"hell\", \"hesitate\", \"hesitate\", \"high\", \"high\", \"high\", \"high\", \"high\", \"high\", \"high\", \"high\", \"high\", \"high\", \"hit\", \"hit\", \"hit\", \"hit\", \"hit\", \"hit\", \"hits\", \"hits\", \"hole\", \"hole\", \"hole\", \"holes\", \"home\", \"home\", \"home\", \"home\", \"home\", \"home\", \"home\", \"home\", \"home\", \"hospital\", \"hospital\", \"hospital\", \"hospital\", \"hospital\", \"hospital\", \"hospitals\", \"host\", \"host\", \"host\", \"house\", \"house\", \"house\", \"house\", \"house\", \"house\", \"house\", \"house\", \"hughes\", \"hughes\", \"hughes\", \"inch\", \"inch\", \"inch\", \"inch\", \"inch\", \"inches\", \"inches\", \"inches\", \"income\", \"income\", \"income\", \"income\", \"income\", \"income\", \"india\", \"industrial\", \"industrial\", \"industrial\", \"industrial\", \"industrial\", \"industry\", \"industry\", \"industry\", \"industry\", \"industry\", \"industry\", \"inexpensive\", \"insurance\", \"insurance\", \"insurance\", \"insurance\", \"interference\", \"interference\", \"interference\", \"interference\", \"interior\", \"interior\", \"interior\", \"inventories\", \"inventories\", \"island\", \"island\", \"island\", \"island\", \"island\", \"island\", \"isn\", \"isn\", \"isn\", \"isn\", \"jail\", \"jail\", \"jane\", \"joan\", \"john\", \"john\", \"john\", \"john\", \"john\", \"john\", \"john\", \"junior\", \"junior\", \"junior\", \"junior\", \"junior\", \"jury\", \"jury\", \"kennedy\", \"kennedy\", \"kennedy\", \"kennedy\", \"kennedy\", \"khrushchev\", \"khrushchev\", \"khrushchev\", \"knee\", \"knee\", \"knees\", \"knew\", \"knew\", \"knew\", \"knew\", \"knew\", \"knew\", \"knew\", \"knight\", \"knight\", \"know\", \"know\", \"know\", \"know\", \"know\", \"know\", \"know\", \"know\", \"know\", \"knowing\", \"knowing\", \"knowing\", \"knowing\", \"labor\", \"labor\", \"labor\", \"labor\", \"labor\", \"labor\", \"labor\", \"land\", \"land\", \"land\", \"land\", \"land\", \"land\", \"lands\", \"lands\", \"lands\", \"lands\", \"lane\", \"league\", \"league\", \"league\", \"league\", \"league\", \"left\", \"left\", \"left\", \"left\", \"left\", \"left\", \"left\", \"left\", \"left\", \"leg\", \"legislative\", \"legislative\", \"legislators\", \"legislators\", \"let\", \"let\", \"let\", \"let\", \"let\", \"let\", \"let\", \"let\", \"let\", \"level\", \"level\", \"level\", \"level\", \"level\", \"level\", \"level\", \"liberty\", \"liberty\", \"liberty\", \"liberty\", \"library\", \"library\", \"library\", \"life\", \"life\", \"life\", \"life\", \"life\", \"life\", \"life\", \"life\", \"life\", \"lighter\", \"lips\", \"lips\", \"little\", \"little\", \"little\", \"little\", \"little\", \"little\", \"little\", \"little\", \"little\", \"little\", \"ll\", \"ll\", \"ll\", \"ll\", \"ll\", \"ll\", \"local\", \"local\", \"local\", \"local\", \"local\", \"local\", \"local\", \"local\", \"location\", \"location\", \"location\", \"location\", \"location\", \"looked\", \"looked\", \"looked\", \"looked\", \"looked\", \"love\", \"love\", \"love\", \"loved\", \"loved\", \"loving\", \"lumber\", \"lumber\", \"magazines\", \"magazines\", \"man\", \"man\", \"man\", \"man\", \"man\", \"man\", \"man\", \"man\", \"man\", \"management\", \"management\", \"management\", \"management\", \"management\", \"management\", \"management\", \"market\", \"market\", \"market\", \"market\", \"market\", \"market\", \"market\", \"marketing\", \"marketing\", \"marketing\", \"mays\", \"mays\", \"measurements\", \"measurements\", \"medical\", \"medical\", \"medical\", \"medical\", \"medical\", \"medical\", \"medical\", \"meeting\", \"meeting\", \"meeting\", \"meeting\", \"meeting\", \"meeting\", \"meeting\", \"meeting\", \"meeting\", \"men\", \"men\", \"men\", \"men\", \"men\", \"men\", \"men\", \"men\", \"men\", \"mile\", \"mile\", \"mile\", \"mile\", \"miles\", \"miles\", \"miles\", \"miles\", \"miles\", \"miles\", \"military\", \"military\", \"military\", \"military\", \"military\", \"military\", \"million\", \"million\", \"million\", \"million\", \"million\", \"million\", \"million\", \"miss\", \"miss\", \"miss\", \"miss\", \"miss\", \"missile\", \"missile\", \"missile\", \"missiles\", \"missions\", \"missions\", \"mobile\", \"mobile\", \"mobile\", \"mobile\", \"models\", \"models\", \"models\", \"models\", \"monday\", \"monday\", \"monday\", \"monday\", \"monday\", \"monday\", \"monday\", \"motel\", \"mother\", \"mother\", \"mother\", \"motors\", \"motors\", \"movements\", \"movements\", \"mr\", \"mr\", \"mr\", \"mr\", \"mr\", \"mr\", \"mrs\", \"mrs\", \"mrs\", \"mrs\", \"municipalities\", \"municipalities\", \"muscles\", \"music\", \"music\", \"music\", \"nam\", \"national\", \"national\", \"national\", \"national\", \"national\", \"national\", \"national\", \"national\", \"nations\", \"nations\", \"nations\", \"nations\", \"need\", \"need\", \"need\", \"need\", \"need\", \"need\", \"need\", \"need\", \"need\", \"negotiations\", \"negotiations\", \"night\", \"night\", \"night\", \"night\", \"night\", \"night\", \"night\", \"night\", \"nixon\", \"nixon\", \"nuclear\", \"nuclear\", \"nuclear\", \"number\", \"number\", \"number\", \"number\", \"number\", \"number\", \"number\", \"number\", \"number\", \"nut\", \"objectives\", \"objectives\", \"objectives\", \"old\", \"old\", \"old\", \"old\", \"old\", \"old\", \"old\", \"old\", \"old\", \"orange\", \"organizations\", \"organizations\", \"organizations\", \"organizations\", \"paintings\", \"panels\", \"panels\", \"paste\", \"patrolman\", \"patrolman\", \"payment\", \"payment\", \"payment\", \"payment\", \"payment\", \"peace\", \"peace\", \"peace\", \"peace\", \"peace\", \"peace\", \"peaceful\", \"peaceful\", \"peaceful\", \"pennant\", \"people\", \"people\", \"people\", \"people\", \"people\", \"people\", \"people\", \"people\", \"people\", \"pete\", \"pete\", \"pete\", \"piece\", \"piece\", \"piece\", \"piece\", \"piece\", \"pieces\", \"pieces\", \"pieces\", \"pinch\", \"pitch\", \"pitch\", \"pitcher\", \"pitcher\", \"pitching\", \"pitching\", \"place\", \"place\", \"place\", \"place\", \"place\", \"place\", \"place\", \"place\", \"place\", \"plant\", \"plant\", \"plant\", \"plant\", \"plant\", \"plant\", \"plants\", \"plants\", \"plants\", \"plants\", \"plants\", \"plate\", \"plate\", \"plate\", \"plate\", \"player\", \"player\", \"plea\", \"plea\", \"polaris\", \"police\", \"police\", \"police\", \"police\", \"policy\", \"policy\", \"policy\", \"policy\", \"policy\", \"political\", \"political\", \"political\", \"pool\", \"pool\", \"pool\", \"pool\", \"pool\", \"pound\", \"pound\", \"pound\", \"pounds\", \"pounds\", \"pounds\", \"precise\", \"precise\", \"premier\", \"premier\", \"president\", \"president\", \"president\", \"president\", \"president\", \"president\", \"president\", \"president\", \"presidential\", \"pressure\", \"pressure\", \"pressure\", \"pressure\", \"pressure\", \"pressure\", \"pressure\", \"problem\", \"problem\", \"problem\", \"problem\", \"problem\", \"problem\", \"problem\", \"problem\", \"proceedings\", \"proceedings\", \"procurement\", \"procurement\", \"product\", \"product\", \"product\", \"product\", \"product\", \"product\", \"products\", \"products\", \"products\", \"products\", \"products\", \"products\", \"products\", \"products\", \"professors\", \"professors\", \"program\", \"program\", \"program\", \"program\", \"program\", \"program\", \"program\", \"program\", \"property\", \"property\", \"property\", \"property\", \"provide\", \"provide\", \"provide\", \"provide\", \"provide\", \"provide\", \"provide\", \"provide\", \"provision\", \"provision\", \"provision\", \"provision\", \"public\", \"public\", \"public\", \"public\", \"public\", \"public\", \"public\", \"publications\", \"publications\", \"publications\", \"publications\", \"quality\", \"quality\", \"quality\", \"quality\", \"quality\", \"quality\", \"quality\", \"railroad\", \"railroad\", \"railroad\", \"railroads\", \"railroads\", \"rate\", \"rate\", \"rate\", \"rate\", \"rate\", \"rate\", \"rate\", \"ratio\", \"ratio\", \"ratio\", \"rayburn\", \"rayburn\", \"rayburn\", \"rebel\", \"receiver\", \"receiver\", \"recommendation\", \"recommendation\", \"recommendation\", \"recreation\", \"recreation\", \"recreation\", \"reducing\", \"reducing\", \"reducing\", \"reducing\", \"reducing\", \"reducing\", \"reducing\", \"reducing\", \"reflected\", \"reflected\", \"reflected\", \"regions\", \"regions\", \"regions\", \"regions\", \"regulations\", \"regulations\", \"rehabilitation\", \"rehabilitation\", \"rehabilitation\", \"rep\", \"rep\", \"rep\", \"report\", \"report\", \"report\", \"report\", \"report\", \"report\", \"report\", \"republican\", \"research\", \"research\", \"research\", \"research\", \"research\", \"research\", \"research\", \"restaurant\", \"restricted\", \"restricted\", \"result\", \"result\", \"result\", \"result\", \"result\", \"result\", \"result\", \"return\", \"return\", \"return\", \"return\", \"return\", \"return\", \"return\", \"rhode\", \"rhode\", \"rhode\", \"rhode\", \"right\", \"right\", \"right\", \"right\", \"right\", \"right\", \"right\", \"right\", \"right\", \"roads\", \"roads\", \"roads\", \"roads\", \"roads\", \"roof\", \"roof\", \"room\", \"room\", \"room\", \"room\", \"room\", \"room\", \"room\", \"run\", \"run\", \"run\", \"run\", \"run\", \"run\", \"run\", \"run\", \"runs\", \"runs\", \"rusk\", \"rust\", \"rust\", \"said\", \"said\", \"said\", \"said\", \"said\", \"said\", \"said\", \"said\", \"sales\", \"sales\", \"sales\", \"sales\", \"sales\", \"sales\", \"sales\", \"salt\", \"salt\", \"salt\", \"sam\", \"sam\", \"sam\", \"sam\", \"sam\", \"saw\", \"saw\", \"saw\", \"saw\", \"saw\", \"saw\", \"saw\", \"saw\", \"saw\", \"school\", \"school\", \"school\", \"school\", \"school\", \"school\", \"school\", \"school\", \"screw\", \"screw\", \"season\", \"season\", \"season\", \"season\", \"season\", \"second\", \"second\", \"second\", \"second\", \"second\", \"second\", \"second\", \"second\", \"second\", \"secretary\", \"secretary\", \"secretary\", \"secretary\", \"secretary\", \"security\", \"security\", \"security\", \"security\", \"security\", \"security\", \"security\", \"senate\", \"senate\", \"senate\", \"senator\", \"service\", \"service\", \"service\", \"service\", \"service\", \"service\", \"service\", \"service\", \"services\", \"services\", \"services\", \"services\", \"services\", \"services\", \"services\", \"services\", \"set\", \"set\", \"set\", \"set\", \"set\", \"set\", \"set\", \"set\", \"shall\", \"shall\", \"shall\", \"shall\", \"shall\", \"shame\", \"shame\", \"shares\", \"shares\", \"shares\", \"shares\", \"shelter\", \"shelter\", \"shelters\", \"shelters\", \"shelters\", \"shelters\", \"shipping\", \"shipping\", \"shipping\", \"shipping\", \"shipping\", \"shirt\", \"shook\", \"shook\", \"shook\", \"shooting\", \"shooting\", \"shooting\", \"shooting\", \"shop\", \"shop\", \"shop\", \"shop\", \"shop\", \"shouted\", \"shouted\", \"sighed\", \"sighed\", \"sighed\", \"sign\", \"sign\", \"sign\", \"sign\", \"sign\", \"sign\", \"sign\", \"sisters\", \"site\", \"site\", \"site\", \"site\", \"site\", \"sleep\", \"sleep\", \"sleep\", \"smiling\", \"smiling\", \"smooth\", \"smooth\", \"son\", \"son\", \"son\", \"soviet\", \"soviet\", \"soviet\", \"spokesman\", \"spokesmen\", \"stairs\", \"stairs\", \"stairs\", \"stared\", \"stared\", \"started\", \"started\", \"started\", \"started\", \"started\", \"started\", \"started\", \"started\", \"started\", \"state\", \"state\", \"state\", \"state\", \"state\", \"state\", \"state\", \"state\", \"state\", \"states\", \"states\", \"states\", \"states\", \"states\", \"states\", \"states\", \"states\", \"states\", \"stations\", \"stations\", \"stations\", \"stations\", \"stations\", \"stations\", \"steadily\", \"steadily\", \"stockholders\", \"stood\", \"stood\", \"stood\", \"stood\", \"stood\", \"stood\", \"stood\", \"stove\", \"stove\", \"stove\", \"strategic\", \"strategic\", \"street\", \"street\", \"street\", \"street\", \"student\", \"student\", \"student\", \"student\", \"student\", \"students\", \"students\", \"students\", \"students\", \"students\", \"students\", \"submarines\", \"submarines\", \"submarines\", \"substitute\", \"substitute\", \"suddenly\", \"suddenly\", \"suddenly\", \"suddenly\", \"suddenly\", \"suddenly\", \"suddenly\", \"supper\", \"susan\", \"susan\", \"symphony\", \"system\", \"system\", \"system\", \"system\", \"system\", \"system\", \"system\", \"system\", \"tangible\", \"tangible\", \"tangible\", \"tangible\", \"target\", \"target\", \"target\", \"target\", \"target\", \"tax\", \"tax\", \"tax\", \"tax\", \"tax\", \"team\", \"team\", \"team\", \"team\", \"team\", \"team\", \"team\", \"technical\", \"technical\", \"technical\", \"technical\", \"techniques\", \"techniques\", \"techniques\", \"techniques\", \"techniques\", \"terrain\", \"terrain\", \"texas\", \"texas\", \"texas\", \"texas\", \"texas\", \"texas\", \"texas\", \"thought\", \"thought\", \"thought\", \"thought\", \"thought\", \"thought\", \"thought\", \"thought\", \"threaten\", \"threaten\", \"threaten\", \"title\", \"title\", \"title\", \"title\", \"title\", \"title\", \"today\", \"today\", \"today\", \"today\", \"today\", \"today\", \"today\", \"today\", \"today\", \"toes\", \"ton\", \"ton\", \"ton\", \"tongue\", \"tongue\", \"took\", \"took\", \"took\", \"took\", \"took\", \"took\", \"took\", \"took\", \"touching\", \"touching\", \"town\", \"town\", \"town\", \"town\", \"town\", \"town\", \"towns\", \"towns\", \"towns\", \"tractor\", \"tractor\", \"transparent\", \"treasury\", \"treasury\", \"treasury\", \"treasury\", \"treatment\", \"treatment\", \"treatment\", \"treatment\", \"treatment\", \"treatment\", \"trial\", \"trial\", \"trial\", \"trim\", \"trim\", \"trucks\", \"trust\", \"trust\", \"trust\", \"turned\", \"turned\", \"turned\", \"turned\", \"turned\", \"turned\", \"turned\", \"types\", \"types\", \"types\", \"types\", \"types\", \"types\", \"tyranny\", \"tyranny\", \"ugly\", \"ugly\", \"understandable\", \"understandable\", \"uniform\", \"uniform\", \"uniform\", \"uniform\", \"united\", \"united\", \"united\", \"united\", \"united\", \"united\", \"united\", \"university\", \"university\", \"university\", \"university\", \"university\", \"university\", \"university\", \"use\", \"use\", \"use\", \"use\", \"use\", \"use\", \"use\", \"use\", \"use\", \"va\", \"vacation\", \"vacation\", \"vacation\", \"vacation\", \"ve\", \"ve\", \"ve\", \"ve\", \"ve\", \"version\", \"version\", \"version\", \"version\", \"version\", \"version\", \"version\", \"vienna\", \"vienna\", \"vienna\", \"viet\", \"virgin\", \"virgin\", \"virgin\", \"vocational\", \"vocational\", \"voice\", \"voice\", \"voice\", \"voice\", \"voice\", \"volume\", \"volume\", \"volume\", \"volume\", \"volume\", \"volume\", \"volume\", \"volumes\", \"volumes\", \"vote\", \"vote\", \"vote\", \"vote\", \"waited\", \"waited\", \"waited\", \"waited\", \"walker\", \"war\", \"war\", \"war\", \"war\", \"war\", \"war\", \"warren\", \"warren\", \"warren\", \"warwick\", \"washington\", \"washington\", \"washington\", \"washington\", \"washington\", \"washington\", \"washington\", \"wasn\", \"wasn\", \"wasn\", \"wasn\", \"wasn\", \"water\", \"water\", \"water\", \"water\", \"water\", \"water\", \"water\", \"water\", \"water\", \"way\", \"way\", \"way\", \"way\", \"way\", \"way\", \"way\", \"way\", \"way\", \"way\", \"weapons\", \"weapons\", \"weapons\", \"wearing\", \"wedding\", \"wedding\", \"weight\", \"weight\", \"weight\", \"weight\", \"weight\", \"went\", \"went\", \"went\", \"went\", \"went\", \"went\", \"went\", \"west\", \"west\", \"west\", \"west\", \"west\", \"west\", \"white\", \"white\", \"white\", \"white\", \"white\", \"white\", \"white\", \"wildlife\", \"wildlife\", \"wildly\", \"wildly\", \"willie\", \"witnesses\", \"witnesses\", \"woman\", \"woman\", \"woman\", \"woman\", \"work\", \"work\", \"work\", \"work\", \"work\", \"work\", \"work\", \"work\", \"workshops\", \"world\", \"world\", \"world\", \"world\", \"world\", \"world\", \"world\", \"world\", \"yankees\", \"yankees\", \"yankees\", \"yards\", \"yards\", \"yesterday\", \"yesterday\", \"yesterday\", \"yesterday\", \"yesterday\", \"yesterday\", \"york\", \"york\", \"york\", \"york\", \"york\", \"york\", \"york\", \"young\", \"young\", \"young\", \"young\", \"young\", \"young\"]}, \"R\": 30, \"lambda.step\": 0.01, \"plot.opts\": {\"xlab\": \"PC1\", \"ylab\": \"PC2\"}, \"topic.order\": [1, 2, 3, 4, 5, 6, 7, 8, 9, 10]};\n",
       "\n",
       "function LDAvis_load_lib(url, callback){\n",
       "  var s = document.createElement('script');\n",
       "  s.src = url;\n",
       "  s.async = true;\n",
       "  s.onreadystatechange = s.onload = callback;\n",
       "  s.onerror = function(){console.warn(\"failed to load library \" + url);};\n",
       "  document.getElementsByTagName(\"head\")[0].appendChild(s);\n",
       "}\n",
       "\n",
       "if(typeof(LDAvis) !== \"undefined\"){\n",
       "   // already loaded: just create the visualization\n",
       "   !function(LDAvis){\n",
       "       new LDAvis(\"#\" + \"ldavis_el159222354437781201632628818\", ldavis_el159222354437781201632628818_data);\n",
       "   }(LDAvis);\n",
       "}else if(typeof define === \"function\" && define.amd){\n",
       "   // require.js is available: use it to load d3/LDAvis\n",
       "   require.config({paths: {d3: \"https://d3js.org/d3.v5\"}});\n",
       "   require([\"d3\"], function(d3){\n",
       "      window.d3 = d3;\n",
       "      LDAvis_load_lib(\"https://cdn.jsdelivr.net/gh/bmabey/pyLDAvis@3.3.1/pyLDAvis/js/ldavis.v3.0.0.js\", function(){\n",
       "        new LDAvis(\"#\" + \"ldavis_el159222354437781201632628818\", ldavis_el159222354437781201632628818_data);\n",
       "      });\n",
       "    });\n",
       "}else{\n",
       "    // require.js not available: dynamically load d3 & LDAvis\n",
       "    LDAvis_load_lib(\"https://d3js.org/d3.v5.js\", function(){\n",
       "         LDAvis_load_lib(\"https://cdn.jsdelivr.net/gh/bmabey/pyLDAvis@3.3.1/pyLDAvis/js/ldavis.v3.0.0.js\", function(){\n",
       "                 new LDAvis(\"#\" + \"ldavis_el159222354437781201632628818\", ldavis_el159222354437781201632628818_data);\n",
       "            })\n",
       "         });\n",
       "}\n",
       "</script>"
      ],
      "text/plain": [
       "<IPython.core.display.HTML object>"
      ]
     },
     "execution_count": 27,
     "metadata": {},
     "output_type": "execute_result"
    }
   ],
   "source": [
    "pyLDAvis.display(lda_display)"
   ]
  },
  {
   "cell_type": "markdown",
   "metadata": {},
   "source": [
    "Q: What conclusions do you draw from the visualization above? Please address the principal component scatterplot and the salient terms graph.\n",
    "\n",
    "A: We can see from the scatter plot what has been confirming the results of our models compared to the original Brown categories. The more advanced are the topics, 07 & 09, the more common features we get bwtween the two sets. The graph shows that topic 09 has the most similar relevant and similar features between the models and the original categories."
   ]
  }
 ],
 "metadata": {
  "kernelspec": {
   "display_name": "Python 3",
   "language": "python",
   "name": "python3"
  },
  "language_info": {
   "codemirror_mode": {
    "name": "ipython",
    "version": 3
   },
   "file_extension": ".py",
   "mimetype": "text/x-python",
   "name": "python",
   "nbconvert_exporter": "python",
   "pygments_lexer": "ipython3",
   "version": "3.7.6"
  }
 },
 "nbformat": 4,
 "nbformat_minor": 5
}
